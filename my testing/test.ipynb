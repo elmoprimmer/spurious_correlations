{
 "cells": [
  {
   "cell_type": "code",
   "execution_count": 3,
   "id": "initial_id",
   "metadata": {
    "collapsed": true,
    "ExecuteTime": {
     "end_time": "2024-10-29T22:41:28.229355800Z",
     "start_time": "2024-10-29T22:41:26.964572900Z"
    }
   },
   "outputs": [],
   "source": [
    "import sympy as sp"
   ]
  },
  {
   "cell_type": "code",
   "outputs": [
    {
     "data": {
      "text/plain": "[Matrix([\n [1],\n [0],\n [0],\n [0]]),\n Matrix([\n [0],\n [0],\n [0],\n [1]])]"
     },
     "execution_count": 4,
     "metadata": {},
     "output_type": "execute_result"
    }
   ],
   "source": [
    "# Define w2 and w4\n",
    "w2 = sp.Matrix([0, -2, 3, 0])\n",
    "w4 = sp.Matrix([1, 2, -2, 0])\n",
    "\n",
    "# Standard basis vectors in Q^4\n",
    "e1 = sp.Matrix([1, 0, 0, 0])\n",
    "e2 = sp.Matrix([0, 1, 0, 0])\n",
    "e3 = sp.Matrix([0, 0, 1, 0])\n",
    "e4 = sp.Matrix([0, 0, 0, 1])\n",
    "\n",
    "# Create the matrix with w2, w4 as columns and check each standard basis vector\n",
    "basis_matrix = sp.Matrix.hstack(w2, w4)\n",
    "\n",
    "# Check if adding each standard basis vector keeps the matrix rank full (i.e., 3 or 4)\n",
    "independent_vectors = []\n",
    "for e in [e1, e2, e3, e4]:\n",
    "    temp_matrix = basis_matrix.row_join(e)\n",
    "    if temp_matrix.rank() > basis_matrix.rank():  # Increases rank\n",
    "        independent_vectors.append(e)\n",
    "        basis_matrix = temp_matrix  # Update basis_matrix with the new independent vector\n",
    "    if len(independent_vectors) == 2:  # Stop once we have two independent vectors\n",
    "        break\n",
    "\n",
    "independent_vectors\n"
   ],
   "metadata": {
    "collapsed": false,
    "ExecuteTime": {
     "end_time": "2024-10-29T22:41:31.601475100Z",
     "start_time": "2024-10-29T22:41:31.420468600Z"
    }
   },
   "id": "e12583b669ff77c7",
   "execution_count": 4
  }
 ],
 "metadata": {
  "kernelspec": {
   "display_name": "Python 3",
   "language": "python",
   "name": "python3"
  },
  "language_info": {
   "codemirror_mode": {
    "name": "ipython",
    "version": 2
   },
   "file_extension": ".py",
   "mimetype": "text/x-python",
   "name": "python",
   "nbconvert_exporter": "python",
   "pygments_lexer": "ipython2",
   "version": "2.7.6"
  }
 },
 "nbformat": 4,
 "nbformat_minor": 5
}
