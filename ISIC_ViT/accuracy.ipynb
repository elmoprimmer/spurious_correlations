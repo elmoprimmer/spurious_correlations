{
 "cells": [
  {
   "cell_type": "code",
   "execution_count": 1,
   "id": "initial_id",
   "metadata": {
    "collapsed": true,
    "ExecuteTime": {
     "end_time": "2025-04-01T16:30:21.711370500Z",
     "start_time": "2025-04-01T16:30:10.105883200Z"
    }
   },
   "outputs": [],
   "source": [
    "from my_utils import evaluate\n",
    "import torchvision\n",
    "from isic_data import ISICDataset\n",
    "import torch\n",
    "from torchvision.models import vit_b_16\n",
    "import torch.nn as nn"
   ]
  },
  {
   "cell_type": "code",
   "outputs": [],
   "source": [
    "train_transform = torchvision.transforms.Compose([\n",
    "    torchvision.transforms.ToTensor(),\n",
    "    torchvision.transforms.Normalize([0.485, 0.456, 0.406], [0.229, 0.224, 0.225])\n",
    "])"
   ],
   "metadata": {
    "collapsed": false,
    "ExecuteTime": {
     "end_time": "2025-04-01T16:30:21.742375500Z",
     "start_time": "2025-04-01T16:30:21.722373300Z"
    }
   },
   "id": "3ded98027bcbc71d",
   "execution_count": 2
  },
  {
   "cell_type": "code",
   "outputs": [
    {
     "name": "stdout",
     "output_type": "stream",
     "text": [
      "tensor([3158., 2763.,  822.,  821.])\n"
     ]
    }
   ],
   "source": [
    "testset = ISICDataset(basedir=\"C:/Users/elmop/Downloads/isic/isic_224/isic_224/raw_224/\",\n",
    "                      csv_file=\"C:/Users/elmop/Downloads/metadata_w_split_v2.csv\",\n",
    "                      transform=train_transform,\n",
    "                      split=\"test\")"
   ],
   "metadata": {
    "collapsed": false,
    "ExecuteTime": {
     "end_time": "2025-04-01T16:30:22.425421800Z",
     "start_time": "2025-04-01T16:30:21.732383Z"
    }
   },
   "id": "be11ec6b3cf6aa8c",
   "execution_count": 3
  },
  {
   "cell_type": "code",
   "outputs": [],
   "source": [
    "loader_kwargs = {'batch_size': 8, 'num_workers': 3, 'pin_memory': True}\n",
    "test_loader = torch.utils.data.DataLoader(testset, shuffle=False, **loader_kwargs)\n"
   ],
   "metadata": {
    "collapsed": false,
    "ExecuteTime": {
     "end_time": "2025-04-01T16:30:22.476421300Z",
     "start_time": "2025-04-01T16:30:22.430419100Z"
    }
   },
   "id": "94d7e0f984968656",
   "execution_count": 4
  },
  {
   "cell_type": "code",
   "outputs": [
    {
     "data": {
      "text/plain": "<All keys matched successfully>"
     },
     "execution_count": 5,
     "metadata": {},
     "output_type": "execute_result"
    }
   ],
   "source": [
    "model = vit_b_16(weights=None)\n",
    "model.heads.head = nn.Linear(model.heads.head.in_features,2)\n",
    "model.load_state_dict(torch.load(\"F:/model_stuff/vit_isic_v2.pt\",weights_only=False,map_location='cpu'))"
   ],
   "metadata": {
    "collapsed": false,
    "ExecuteTime": {
     "end_time": "2025-04-01T16:30:27.194090400Z",
     "start_time": "2025-04-01T16:30:22.444426700Z"
    }
   },
   "id": "17187b18c34fe762",
   "execution_count": 5
  },
  {
   "cell_type": "code",
   "outputs": [
    {
     "name": "stdout",
     "output_type": "stream",
     "text": [
      "init\n",
      "reset\n"
     ]
    }
   ],
   "source": [
    "metric = evaluate.Accuracy_w_groups()\n"
   ],
   "metadata": {
    "collapsed": false,
    "ExecuteTime": {
     "end_time": "2025-04-01T16:30:27.247097200Z",
     "start_time": "2025-04-01T16:30:27.189093400Z"
    }
   },
   "id": "1a7d221588d43048",
   "execution_count": 6
  },
  {
   "cell_type": "code",
   "outputs": [
    {
     "name": "stdout",
     "output_type": "stream",
     "text": [
      "reset\n"
     ]
    },
    {
     "name": "stderr",
     "output_type": "stream",
     "text": [
      "Evaluating: 100%|██████████| 946/946 [1:07:28<00:00,  4.28s/batch]"
     ]
    },
    {
     "name": "stdout",
     "output_type": "stream",
     "text": [
      "{'n_correct': 6171, 'n_total': 7564, 'correct_per_group': {0: 2851, 1: 2762, 2: 385, 3: 173}, 'total_per_group': {0: 3158, 1: 2763, 2: 822, 3: 821}, 'total_accuracy': 0.8158381808566896, 'groups_accuracy': {0: 0.902786573780874, 1: 0.9996380745566413, 2: 0.4683698296836983, 3: 0.21071863580998781}}\n"
     ]
    },
    {
     "name": "stderr",
     "output_type": "stream",
     "text": [
      "\n"
     ]
    }
   ],
   "source": [
    "results = evaluate.evaluate(model,test_loader,metric,'cpu')\n",
    "print(results)"
   ],
   "metadata": {
    "collapsed": false,
    "ExecuteTime": {
     "end_time": "2025-04-01T17:37:55.680304Z",
     "start_time": "2025-04-01T16:30:27.205090Z"
    }
   },
   "id": "51604d9d188dd27f",
   "execution_count": 7
  }
 ],
 "metadata": {
  "kernelspec": {
   "display_name": "Python 3",
   "language": "python",
   "name": "python3"
  },
  "language_info": {
   "codemirror_mode": {
    "name": "ipython",
    "version": 2
   },
   "file_extension": ".py",
   "mimetype": "text/x-python",
   "name": "python",
   "nbconvert_exporter": "python",
   "pygments_lexer": "ipython2",
   "version": "2.7.6"
  }
 },
 "nbformat": 4,
 "nbformat_minor": 5
}
