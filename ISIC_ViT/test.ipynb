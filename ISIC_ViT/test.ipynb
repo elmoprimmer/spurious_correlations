{
 "cells": [
  {
   "cell_type": "code",
   "execution_count": 3,
   "id": "initial_id",
   "metadata": {
    "collapsed": true,
    "ExecuteTime": {
     "end_time": "2024-10-23T09:09:22.125735600Z",
     "start_time": "2024-10-23T09:09:21.963738900Z"
    }
   },
   "outputs": [],
   "source": [
    "import pandas as pd\n",
    "from sklearn.model_selection import train_test_split\n",
    "\n",
    "def create_split_csv(input_csv_path, output_csv_path, test_size=0.2, val_size=0.1, seed=42):\n",
    "    # Load the dataset\n",
    "    metadata = pd.read_csv(input_csv_path)\n",
    "\n",
    "    # Create a combined column for stratification based on benign_malignant and patches\n",
    "    metadata['combined_group'] = metadata['benign_malignant'] * 2 + metadata['patches']\n",
    "\n",
    "    # Split into train and test with combined stratification\n",
    "    train_data, test_data = train_test_split(\n",
    "        metadata,\n",
    "        test_size=test_size,\n",
    "        random_state=seed,\n",
    "        stratify=metadata['combined_group']\n",
    "    )\n",
    "\n",
    "    # Split the remaining training data into train and validation sets\n",
    "    train_data, val_data = train_test_split(\n",
    "        train_data,\n",
    "        test_size=val_size / (1 - test_size),\n",
    "        random_state=seed,\n",
    "        stratify=train_data['combined_group']\n",
    "    )\n",
    "\n",
    "    # Add a new 'split' column to each DataFrame\n",
    "    train_data['split'] = 0\n",
    "    val_data['split'] = 1\n",
    "    test_data['split'] = 2\n",
    "\n",
    "    # Combine all splits into a single DataFrame\n",
    "    combined_df = pd.concat([train_data, val_data, test_data])\n",
    "\n",
    "    # Drop the combined group column as it's not needed in the final CSV\n",
    "    combined_df = combined_df.drop(columns=['combined_group'])\n",
    "\n",
    "    # Save to the output CSV\n",
    "    combined_df.to_csv(output_csv_path, index=False)\n",
    "\n",
    "# Example usage\n",
    "create_split_csv(input_csv_path='C:/Users/elmop/Downloads/isic/metadata.csv', \n",
    "                 output_csv_path='C:/Users/elmop/Downloads/metadata_w_split_elmo.csv', \n",
    "                 test_size=0.2, \n",
    "                 val_size=0.1, \n",
    "                 seed=7)\n"
   ]
  }
 ],
 "metadata": {
  "kernelspec": {
   "display_name": "Python 3",
   "language": "python",
   "name": "python3"
  },
  "language_info": {
   "codemirror_mode": {
    "name": "ipython",
    "version": 2
   },
   "file_extension": ".py",
   "mimetype": "text/x-python",
   "name": "python",
   "nbconvert_exporter": "python",
   "pygments_lexer": "ipython2",
   "version": "2.7.6"
  }
 },
 "nbformat": 4,
 "nbformat_minor": 5
}
