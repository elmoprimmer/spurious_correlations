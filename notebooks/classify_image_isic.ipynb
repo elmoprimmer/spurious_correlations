{
 "cells": [
  {
   "cell_type": "code",
   "execution_count": 1,
   "id": "initial_id",
   "metadata": {
    "collapsed": true,
    "ExecuteTime": {
     "end_time": "2024-11-12T16:14:11.275687Z",
     "start_time": "2024-11-12T16:14:01.704132800Z"
    }
   },
   "outputs": [],
   "source": [
    "import sys, os\n",
    "\n",
    "from torchvision.models import vit_b_16\n",
    "import torch.nn as nn\n",
    "import torch\n",
    "\n",
    "from PIL import Image\n",
    "import torchvision.transforms as transforms\n",
    "import os\n",
    "\n",
    "import numpy as np\n",
    "\n",
    "from matplotlib import pyplot as plt\n",
    "import cv2\n"
   ]
  },
  {
   "cell_type": "code",
   "outputs": [],
   "source": [
    "external_repo_path = os.path.abspath('../../deep_feature_reweighting/')\n",
    "if external_repo_path not in sys.path:\n",
    "    sys.path.append(external_repo_path)"
   ],
   "metadata": {
    "collapsed": false,
    "ExecuteTime": {
     "end_time": "2024-11-12T16:19:54.997596100Z",
     "start_time": "2024-11-12T16:19:54.945569100Z"
    }
   },
   "id": "bb7460b58881bd6e",
   "execution_count": 2
  },
  {
   "cell_type": "code",
   "outputs": [
    {
     "data": {
      "text/plain": "<All keys matched successfully>"
     },
     "execution_count": 4,
     "metadata": {},
     "output_type": "execute_result"
    }
   ],
   "source": [
    "model = vit_b_16()\n",
    "model.heads.head = nn.Linear(768,2)\n",
    "model.load_state_dict(torch.load(\"F:/model_stuff/vit_isic_final_checkpoint_test.pt\", map_location=torch.device('cpu'), weights_only=False))\n",
    "\n",
    "model2 = vit_b_16()\n",
    "model2.heads.head = nn.Linear(768,2)\n",
    "model2.load_state_dict(torch.load(\"F:/model_stuff/dfr_isic_model.pth\", map_location=torch.device('cpu'), weights_only=False))"
   ],
   "metadata": {
    "collapsed": false,
    "ExecuteTime": {
     "end_time": "2024-11-09T16:04:38.433423900Z",
     "start_time": "2024-11-09T16:04:30.213163400Z"
    }
   },
   "id": "3e08cb65a7abc8dd",
   "execution_count": 4
  },
  {
   "cell_type": "code",
   "outputs": [
    {
     "data": {
      "text/plain": "VisionTransformer(\n  (conv_proj): Conv2d(3, 768, kernel_size=(16, 16), stride=(16, 16))\n  (encoder): Encoder(\n    (dropout): Dropout(p=0.0, inplace=False)\n    (layers): Sequential(\n      (encoder_layer_0): EncoderBlock(\n        (ln_1): LayerNorm((768,), eps=1e-06, elementwise_affine=True)\n        (self_attention): MultiheadAttention(\n          (out_proj): NonDynamicallyQuantizableLinear(in_features=768, out_features=768, bias=True)\n        )\n        (dropout): Dropout(p=0.0, inplace=False)\n        (ln_2): LayerNorm((768,), eps=1e-06, elementwise_affine=True)\n        (mlp): MLPBlock(\n          (0): Linear(in_features=768, out_features=3072, bias=True)\n          (1): GELU(approximate='none')\n          (2): Dropout(p=0.0, inplace=False)\n          (3): Linear(in_features=3072, out_features=768, bias=True)\n          (4): Dropout(p=0.0, inplace=False)\n        )\n      )\n      (encoder_layer_1): EncoderBlock(\n        (ln_1): LayerNorm((768,), eps=1e-06, elementwise_affine=True)\n        (self_attention): MultiheadAttention(\n          (out_proj): NonDynamicallyQuantizableLinear(in_features=768, out_features=768, bias=True)\n        )\n        (dropout): Dropout(p=0.0, inplace=False)\n        (ln_2): LayerNorm((768,), eps=1e-06, elementwise_affine=True)\n        (mlp): MLPBlock(\n          (0): Linear(in_features=768, out_features=3072, bias=True)\n          (1): GELU(approximate='none')\n          (2): Dropout(p=0.0, inplace=False)\n          (3): Linear(in_features=3072, out_features=768, bias=True)\n          (4): Dropout(p=0.0, inplace=False)\n        )\n      )\n      (encoder_layer_2): EncoderBlock(\n        (ln_1): LayerNorm((768,), eps=1e-06, elementwise_affine=True)\n        (self_attention): MultiheadAttention(\n          (out_proj): NonDynamicallyQuantizableLinear(in_features=768, out_features=768, bias=True)\n        )\n        (dropout): Dropout(p=0.0, inplace=False)\n        (ln_2): LayerNorm((768,), eps=1e-06, elementwise_affine=True)\n        (mlp): MLPBlock(\n          (0): Linear(in_features=768, out_features=3072, bias=True)\n          (1): GELU(approximate='none')\n          (2): Dropout(p=0.0, inplace=False)\n          (3): Linear(in_features=3072, out_features=768, bias=True)\n          (4): Dropout(p=0.0, inplace=False)\n        )\n      )\n      (encoder_layer_3): EncoderBlock(\n        (ln_1): LayerNorm((768,), eps=1e-06, elementwise_affine=True)\n        (self_attention): MultiheadAttention(\n          (out_proj): NonDynamicallyQuantizableLinear(in_features=768, out_features=768, bias=True)\n        )\n        (dropout): Dropout(p=0.0, inplace=False)\n        (ln_2): LayerNorm((768,), eps=1e-06, elementwise_affine=True)\n        (mlp): MLPBlock(\n          (0): Linear(in_features=768, out_features=3072, bias=True)\n          (1): GELU(approximate='none')\n          (2): Dropout(p=0.0, inplace=False)\n          (3): Linear(in_features=3072, out_features=768, bias=True)\n          (4): Dropout(p=0.0, inplace=False)\n        )\n      )\n      (encoder_layer_4): EncoderBlock(\n        (ln_1): LayerNorm((768,), eps=1e-06, elementwise_affine=True)\n        (self_attention): MultiheadAttention(\n          (out_proj): NonDynamicallyQuantizableLinear(in_features=768, out_features=768, bias=True)\n        )\n        (dropout): Dropout(p=0.0, inplace=False)\n        (ln_2): LayerNorm((768,), eps=1e-06, elementwise_affine=True)\n        (mlp): MLPBlock(\n          (0): Linear(in_features=768, out_features=3072, bias=True)\n          (1): GELU(approximate='none')\n          (2): Dropout(p=0.0, inplace=False)\n          (3): Linear(in_features=3072, out_features=768, bias=True)\n          (4): Dropout(p=0.0, inplace=False)\n        )\n      )\n      (encoder_layer_5): EncoderBlock(\n        (ln_1): LayerNorm((768,), eps=1e-06, elementwise_affine=True)\n        (self_attention): MultiheadAttention(\n          (out_proj): NonDynamicallyQuantizableLinear(in_features=768, out_features=768, bias=True)\n        )\n        (dropout): Dropout(p=0.0, inplace=False)\n        (ln_2): LayerNorm((768,), eps=1e-06, elementwise_affine=True)\n        (mlp): MLPBlock(\n          (0): Linear(in_features=768, out_features=3072, bias=True)\n          (1): GELU(approximate='none')\n          (2): Dropout(p=0.0, inplace=False)\n          (3): Linear(in_features=3072, out_features=768, bias=True)\n          (4): Dropout(p=0.0, inplace=False)\n        )\n      )\n      (encoder_layer_6): EncoderBlock(\n        (ln_1): LayerNorm((768,), eps=1e-06, elementwise_affine=True)\n        (self_attention): MultiheadAttention(\n          (out_proj): NonDynamicallyQuantizableLinear(in_features=768, out_features=768, bias=True)\n        )\n        (dropout): Dropout(p=0.0, inplace=False)\n        (ln_2): LayerNorm((768,), eps=1e-06, elementwise_affine=True)\n        (mlp): MLPBlock(\n          (0): Linear(in_features=768, out_features=3072, bias=True)\n          (1): GELU(approximate='none')\n          (2): Dropout(p=0.0, inplace=False)\n          (3): Linear(in_features=3072, out_features=768, bias=True)\n          (4): Dropout(p=0.0, inplace=False)\n        )\n      )\n      (encoder_layer_7): EncoderBlock(\n        (ln_1): LayerNorm((768,), eps=1e-06, elementwise_affine=True)\n        (self_attention): MultiheadAttention(\n          (out_proj): NonDynamicallyQuantizableLinear(in_features=768, out_features=768, bias=True)\n        )\n        (dropout): Dropout(p=0.0, inplace=False)\n        (ln_2): LayerNorm((768,), eps=1e-06, elementwise_affine=True)\n        (mlp): MLPBlock(\n          (0): Linear(in_features=768, out_features=3072, bias=True)\n          (1): GELU(approximate='none')\n          (2): Dropout(p=0.0, inplace=False)\n          (3): Linear(in_features=3072, out_features=768, bias=True)\n          (4): Dropout(p=0.0, inplace=False)\n        )\n      )\n      (encoder_layer_8): EncoderBlock(\n        (ln_1): LayerNorm((768,), eps=1e-06, elementwise_affine=True)\n        (self_attention): MultiheadAttention(\n          (out_proj): NonDynamicallyQuantizableLinear(in_features=768, out_features=768, bias=True)\n        )\n        (dropout): Dropout(p=0.0, inplace=False)\n        (ln_2): LayerNorm((768,), eps=1e-06, elementwise_affine=True)\n        (mlp): MLPBlock(\n          (0): Linear(in_features=768, out_features=3072, bias=True)\n          (1): GELU(approximate='none')\n          (2): Dropout(p=0.0, inplace=False)\n          (3): Linear(in_features=3072, out_features=768, bias=True)\n          (4): Dropout(p=0.0, inplace=False)\n        )\n      )\n      (encoder_layer_9): EncoderBlock(\n        (ln_1): LayerNorm((768,), eps=1e-06, elementwise_affine=True)\n        (self_attention): MultiheadAttention(\n          (out_proj): NonDynamicallyQuantizableLinear(in_features=768, out_features=768, bias=True)\n        )\n        (dropout): Dropout(p=0.0, inplace=False)\n        (ln_2): LayerNorm((768,), eps=1e-06, elementwise_affine=True)\n        (mlp): MLPBlock(\n          (0): Linear(in_features=768, out_features=3072, bias=True)\n          (1): GELU(approximate='none')\n          (2): Dropout(p=0.0, inplace=False)\n          (3): Linear(in_features=3072, out_features=768, bias=True)\n          (4): Dropout(p=0.0, inplace=False)\n        )\n      )\n      (encoder_layer_10): EncoderBlock(\n        (ln_1): LayerNorm((768,), eps=1e-06, elementwise_affine=True)\n        (self_attention): MultiheadAttention(\n          (out_proj): NonDynamicallyQuantizableLinear(in_features=768, out_features=768, bias=True)\n        )\n        (dropout): Dropout(p=0.0, inplace=False)\n        (ln_2): LayerNorm((768,), eps=1e-06, elementwise_affine=True)\n        (mlp): MLPBlock(\n          (0): Linear(in_features=768, out_features=3072, bias=True)\n          (1): GELU(approximate='none')\n          (2): Dropout(p=0.0, inplace=False)\n          (3): Linear(in_features=3072, out_features=768, bias=True)\n          (4): Dropout(p=0.0, inplace=False)\n        )\n      )\n      (encoder_layer_11): EncoderBlock(\n        (ln_1): LayerNorm((768,), eps=1e-06, elementwise_affine=True)\n        (self_attention): MultiheadAttention(\n          (out_proj): NonDynamicallyQuantizableLinear(in_features=768, out_features=768, bias=True)\n        )\n        (dropout): Dropout(p=0.0, inplace=False)\n        (ln_2): LayerNorm((768,), eps=1e-06, elementwise_affine=True)\n        (mlp): MLPBlock(\n          (0): Linear(in_features=768, out_features=3072, bias=True)\n          (1): GELU(approximate='none')\n          (2): Dropout(p=0.0, inplace=False)\n          (3): Linear(in_features=3072, out_features=768, bias=True)\n          (4): Dropout(p=0.0, inplace=False)\n        )\n      )\n    )\n    (ln): LayerNorm((768,), eps=1e-06, elementwise_affine=True)\n  )\n  (heads): Sequential(\n    (head): Linear(in_features=768, out_features=2, bias=True)\n  )\n)"
     },
     "execution_count": 6,
     "metadata": {},
     "output_type": "execute_result"
    }
   ],
   "source": [
    "model.eval()\n",
    "model2.eval()"
   ],
   "metadata": {
    "collapsed": false,
    "ExecuteTime": {
     "end_time": "2024-11-09T16:05:11.324051700Z",
     "start_time": "2024-11-09T16:05:11.289055700Z"
    }
   },
   "id": "ff5686e5593ebb10",
   "execution_count": 6
  },
  {
   "cell_type": "code",
   "outputs": [],
   "source": [
    "preprocess = transforms.Compose([\n",
    "    transforms.Resize((224, 224)),\n",
    "    transforms.ToTensor(),\n",
    "    transforms.Normalize(mean=[0.485, 0.456, 0.406], std=[0.229, 0.224, 0.225]),\n",
    "])\n",
    "\n",
    "def tensorize(img_path):\n",
    "    image = Image.open(img_path).convert('RGB')\n",
    "    return preprocess(image)"
   ],
   "metadata": {
    "collapsed": false,
    "ExecuteTime": {
     "end_time": "2024-11-09T16:04:41.755008Z",
     "start_time": "2024-11-09T16:04:41.740970700Z"
    }
   },
   "id": "7805b47ec2e54d3c",
   "execution_count": 5
  },
  {
   "cell_type": "code",
   "outputs": [
    {
     "name": "stdout",
     "output_type": "stream",
     "text": [
      "no patch, model1:\n",
      "tensor([[ 3.7089, -3.6933]], grad_fn=<AddmmBackward0>)\n",
      "no patch, model2:\n",
      "tensor([[-1.3511,  1.3667]], grad_fn=<AddmmBackward0>)\n",
      "patch, model1:\n",
      "tensor([[ 3.1389, -3.1488]], grad_fn=<AddmmBackward0>)\n",
      "patch, model2:\n",
      "tensor([[-2.8365,  2.8266]], grad_fn=<AddmmBackward0>)\n"
     ]
    }
   ],
   "source": [
    "print('GT: 1')\n",
    "img_name = 'ISIC_0000482'\n",
    "img_no_patch = tensorize('C:/Users/elmop/Downloads/isic/isic_224/isic_224/raw_224/'+img_name+'.jpg')\n",
    "img_w_patch = tensorize('C:/Users/elmop/Downloads/isic/manually-insert/manually-insert/'+img_name+'_2.jpg')\n",
    "print('no patch, model1:')\n",
    "print(model(img_no_patch.unsqueeze(0)))\n",
    "print('no patch, model2:')\n",
    "print(model2(img_no_patch.unsqueeze(0)))\n",
    "print('patch, model1:')\n",
    "print(model(img_w_patch.unsqueeze(0)))\n",
    "print('patch, model2:')\n",
    "print(model2(img_w_patch.unsqueeze(0)))\n"
   ],
   "metadata": {
    "collapsed": false,
    "ExecuteTime": {
     "end_time": "2024-11-09T16:14:15.992316400Z",
     "start_time": "2024-11-09T16:13:59.494929100Z"
    }
   },
   "id": "3a3d23a6ca43c4ee",
   "execution_count": 9
  },
  {
   "cell_type": "code",
   "outputs": [
    {
     "name": "stdout",
     "output_type": "stream",
     "text": [
      "no patch, model1:\n",
      "tensor([[-1.5936,  1.4076]], grad_fn=<AddmmBackward0>)\n",
      "no patch, model2:\n",
      "tensor([[-3.3724,  3.1864]], grad_fn=<AddmmBackward0>)\n",
      "patch, model1:\n",
      "tensor([[ 5.6298, -5.7584]], grad_fn=<AddmmBackward0>)\n",
      "patch, model2:\n",
      "tensor([[-3.3068,  3.1781]], grad_fn=<AddmmBackward0>)\n"
     ]
    }
   ],
   "source": [
    "img_name = 'ISIC_0055136'\n",
    "img_no_patch = tensorize('C:/Users/elmop/Downloads/isic/isic_224/isic_224/raw_224/'+img_name+'.jpg')\n",
    "img_w_patch = tensorize('C:/Users/elmop/Downloads/isic/manually-insert/manually-insert/'+img_name+'_2.jpg')\n",
    "print('no patch, model1:')\n",
    "print(model(img_no_patch.unsqueeze(0)))\n",
    "print('no patch, model2:')\n",
    "print(model2(img_no_patch.unsqueeze(0)))\n",
    "print('patch, model1:')\n",
    "print(model(img_w_patch.unsqueeze(0)))\n",
    "print('patch, model2:')\n",
    "print(model2(img_w_patch.unsqueeze(0)))"
   ],
   "metadata": {
    "collapsed": false,
    "ExecuteTime": {
     "end_time": "2024-11-09T16:30:42.360267500Z",
     "start_time": "2024-11-09T16:30:25.910006Z"
    }
   },
   "id": "95d8ba45c809c21d",
   "execution_count": 10
  },
  {
   "cell_type": "code",
   "outputs": [
    {
     "name": "stdout",
     "output_type": "stream",
     "text": [
      "no patch, model1:\n",
      "tensor([[ 5.6855, -5.6625]], grad_fn=<AddmmBackward0>)\n",
      "no patch, model2:\n",
      "tensor([[ 0.5903, -0.5673]], grad_fn=<AddmmBackward0>)\n",
      "patch, model1:\n",
      "tensor([[ 5.0750, -5.0889]], grad_fn=<AddmmBackward0>)\n",
      "patch, model2:\n",
      "tensor([[-2.6040,  2.5901]], grad_fn=<AddmmBackward0>)\n"
     ]
    }
   ],
   "source": [
    "img_name = 'ISIC_0026774'\n",
    "img_no_patch = tensorize('C:/Users/elmop/Downloads/isic/isic_224/isic_224/raw_224/'+img_name+'.jpg')\n",
    "img_w_patch = tensorize('C:/Users/elmop/Downloads/isic/manually-insert/manually-insert/'+img_name+'_2.jpg')\n",
    "print('no patch, model1:')\n",
    "print(model(img_no_patch.unsqueeze(0)))\n",
    "print('no patch, model2:')\n",
    "print(model2(img_no_patch.unsqueeze(0)))\n",
    "print('patch, model1:')\n",
    "print(model(img_w_patch.unsqueeze(0)))\n",
    "print('patch, model2:')\n",
    "print(model2(img_w_patch.unsqueeze(0)))"
   ],
   "metadata": {
    "collapsed": false,
    "ExecuteTime": {
     "end_time": "2024-11-09T16:33:07.384593600Z",
     "start_time": "2024-11-09T16:33:02.127602800Z"
    }
   },
   "id": "32ee9108e622c62f",
   "execution_count": 11
  },
  {
   "cell_type": "code",
   "outputs": [
    {
     "name": "stdout",
     "output_type": "stream",
     "text": [
      "no patch, model1:\n",
      "tensor([[ 5.4245, -5.4052]], grad_fn=<AddmmBackward0>)\n",
      "no patch, model2:\n",
      "tensor([[ 0.2641, -0.2448]], grad_fn=<AddmmBackward0>)\n",
      "patch, model1:\n",
      "tensor([[ 3.9211, -3.9719]], grad_fn=<AddmmBackward0>)\n",
      "patch, model2:\n",
      "tensor([[-2.3874,  2.3367]], grad_fn=<AddmmBackward0>)\n"
     ]
    }
   ],
   "source": [
    "img_name = 'ISIC_0010397'\n",
    "img_no_patch = tensorize('C:/Users/elmop/Downloads/isic/isic_224/isic_224/raw_224/'+img_name+'.jpg')\n",
    "img_w_patch = tensorize('C:/Users/elmop/Downloads/isic/manually-insert/manually-insert/'+img_name+'_2.jpg')\n",
    "print('no patch, model1:')\n",
    "print(model(img_no_patch.unsqueeze(0)))\n",
    "print('no patch, model2:')\n",
    "print(model2(img_no_patch.unsqueeze(0)))\n",
    "print('patch, model1:')\n",
    "print(model(img_w_patch.unsqueeze(0)))\n",
    "print('patch, model2:')\n",
    "print(model2(img_w_patch.unsqueeze(0)))"
   ],
   "metadata": {
    "collapsed": false,
    "ExecuteTime": {
     "end_time": "2024-11-09T16:34:31.466733500Z",
     "start_time": "2024-11-09T16:34:14.395733900Z"
    }
   },
   "id": "7a2486ac3cb3e36",
   "execution_count": 12
  },
  {
   "cell_type": "code",
   "outputs": [
    {
     "name": "stdout",
     "output_type": "stream",
     "text": [
      "no patch, model1:\n",
      "tensor([[ 3.8101, -3.7862]], grad_fn=<AddmmBackward0>)\n",
      "no patch, model2:\n",
      "tensor([[-0.9485,  0.9724]], grad_fn=<AddmmBackward0>)\n",
      "patch, model1:\n",
      "tensor([[ 3.9183, -3.8688]], grad_fn=<AddmmBackward0>)\n",
      "patch, model2:\n",
      "tensor([[-2.3199,  2.3694]], grad_fn=<AddmmBackward0>)\n"
     ]
    }
   ],
   "source": [
    "img_name = 'ISIC_0014221'\n",
    "img_no_patch = tensorize('C:/Users/elmop/Downloads/isic/isic_224/isic_224/raw_224/'+img_name+'.jpg')\n",
    "img_w_patch = tensorize('C:/Users/elmop/Downloads/isic/manually-insert/manually-insert/'+img_name+'_2.jpg')\n",
    "print('no patch, model1:')\n",
    "print(model(img_no_patch.unsqueeze(0)))\n",
    "print('no patch, model2:')\n",
    "print(model2(img_no_patch.unsqueeze(0)))\n",
    "print('patch, model1:')\n",
    "print(model(img_w_patch.unsqueeze(0)))\n",
    "print('patch, model2:')\n",
    "print(model2(img_w_patch.unsqueeze(0)))"
   ],
   "metadata": {
    "collapsed": false,
    "ExecuteTime": {
     "end_time": "2024-11-09T16:35:37.833224500Z",
     "start_time": "2024-11-09T16:35:33.436237200Z"
    }
   },
   "id": "336eaa5c264aa053",
   "execution_count": 13
  }
 ],
 "metadata": {
  "kernelspec": {
   "display_name": "Python 3",
   "language": "python",
   "name": "python3"
  },
  "language_info": {
   "codemirror_mode": {
    "name": "ipython",
    "version": 2
   },
   "file_extension": ".py",
   "mimetype": "text/x-python",
   "name": "python",
   "nbconvert_exporter": "python",
   "pygments_lexer": "ipython2",
   "version": "2.7.6"
  }
 },
 "nbformat": 4,
 "nbformat_minor": 5
}
