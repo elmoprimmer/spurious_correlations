{
 "cells": [
  {
   "cell_type": "code",
   "execution_count": 5,
   "id": "initial_id",
   "metadata": {
    "collapsed": true,
    "ExecuteTime": {
     "end_time": "2025-07-03T14:16:35.729192400Z",
     "start_time": "2025-07-03T14:16:33.580320400Z"
    }
   },
   "outputs": [],
   "source": [
    "import sys\n",
    "import os\n",
    "import math\n",
    "import numpy as np\n",
    "import torch\n",
    "sys.path.append(os.path.abspath(os.path.join(os.path.dirname(\"deep_feature_reweighting\"), '../..')))\n",
    "from external.wdpruning.vit_wdpruning import VisionTransformerWithWDPruning\n",
    "import matplotlib.pyplot as plt"
   ]
  },
  {
   "cell_type": "code",
   "outputs": [
    {
     "name": "stderr",
     "output_type": "stream",
     "text": [
      "C:\\Users\\elmop\\AppData\\Local\\Temp\\ipykernel_18304\\3087101899.py:1: FutureWarning: You are using `torch.load` with `weights_only=False` (the current default value), which uses the default pickle module implicitly. It is possible to construct malicious pickle data which will execute arbitrary code during unpickling (See https://github.com/pytorch/pytorch/blob/main/SECURITY.md#untrusted-models for more details). In a future release, the default value for `weights_only` will be flipped to `True`. This limits the functions that could be executed during unpickling. Arbitrary objects will no longer be allowed to be loaded via this mode unless they are explicitly allowlisted by the user via `torch.serialization.add_safe_globals`. We recommend you start setting `weights_only=True` for any use case where you don't have full control of the loaded file. Please open an issue on GitHub for any issues related to this experimental feature.\n",
      "  ckpt = torch.load(\"F:/model_stuff/r90e20 wb/checkpoint-best.pth\", map_location=torch.device('cpu'))['model']\n"
     ]
    }
   ],
   "source": [
    "ckpt = torch.load(\"F:/model_stuff/r90e20 wb/checkpoint-best.pth\", map_location=torch.device('cpu'))['model']"
   ],
   "metadata": {
    "collapsed": false,
    "ExecuteTime": {
     "end_time": "2025-07-03T14:15:24.946469800Z",
     "start_time": "2025-07-03T14:15:21.390341100Z"
    }
   },
   "id": "768c7abe7732215a",
   "execution_count": 2
  },
  {
   "cell_type": "code",
   "outputs": [
    {
     "name": "stdout",
     "output_type": "stream",
     "text": [
      "using stride: 16, and patch number is num_y14 * num_x14\n",
      "using drop_out rate is : 0.0\n",
      "using attn_drop_out rate is : 0.0\n",
      "using drop_path rate is : 0.1\n"
     ]
    }
   ],
   "source": [
    "model = VisionTransformerWithWDPruning(num_classes=2,\n",
    "                                       patch_size=16, embed_dim=768,\n",
    "                                       depth=12, num_heads=12, mlp_ratio=4,\n",
    "                                       head_pruning=True, fc_pruning=True)"
   ],
   "metadata": {
    "collapsed": false,
    "ExecuteTime": {
     "end_time": "2025-07-03T14:15:42.412419800Z",
     "start_time": "2025-07-03T14:15:40.817813300Z"
    }
   },
   "id": "61e33b9ebc23aa8e",
   "execution_count": 3
  },
  {
   "cell_type": "code",
   "outputs": [
    {
     "name": "stdout",
     "output_type": "stream",
     "text": [
      "[[0.         0.         0.         0.        ]\n",
      " [0.         0.         0.00130208 0.03255208]\n",
      " [0.         0.         0.         0.02473958]\n",
      " [0.         0.         0.         0.02473958]\n",
      " [0.         0.         0.00032552 0.01822917]\n",
      " [0.         0.         0.00097656 0.02083333]\n",
      " [0.         0.         0.00260417 0.03385417]\n",
      " [0.         0.         0.00390625 0.03515625]\n",
      " [0.         0.         0.03385417 0.07291666]\n",
      " [0.         0.         0.01204427 0.06901041]\n",
      " [0.08333334 0.02864583 0.1608073  0.265625  ]\n",
      " [0.         0.00390625 0.140625   0.23828125]]\n"
     ]
    }
   ],
   "source": [
    "model.load_state_dict(ckpt, strict=False)\n",
    "\n",
    "ratios = np.zeros((12,4), dtype=np.float32)\n",
    "total_proj = total_fc1 = total_fc2 = total_attn = 0\n",
    "\n",
    "for i in range(12):\n",
    "    proj_thr = torch.sigmoid(model.blocks[i].attn.proj.threshold_fc).item()\n",
    "    proj_numel = model.blocks[i].attn.proj.saliency_scores.numel() \n",
    "    attn_proj_r = 1 - math.ceil(proj_thr * proj_numel) / proj_numel \n",
    "    total_proj += attn_proj_r\n",
    "    \n",
    "    fc1_thr = torch.sigmoid(model.blocks[i].mlp.fc1.threshold_fc).item()\n",
    "    fc1_numel = model.blocks[i].mlp.fc1.saliency_scores.numel()      \n",
    "    fc1_r = 1 - math.ceil(fc1_thr * fc1_numel) / fc1_numel\n",
    "    total_fc1 += fc1_r\n",
    "    \n",
    "    fc2_thr = torch.sigmoid(model.blocks[i].mlp.fc2.threshold_fc).item()\n",
    "    fc2_numel = model.blocks[i].mlp.fc2.saliency_scores.numel()           \n",
    "    fc2_r = 1 - math.ceil(fc2_thr * fc2_numel) / fc2_numel\n",
    "    total_fc2 += fc2_r\n",
    "    \n",
    "    attn_sal = model.blocks[i].attn.qkv.head_saliency_scores\n",
    "    attn_t = torch.sigmoid(model.blocks[i].attn.qkv.threshold_head).item()\n",
    "    attn_r = 1 - math.ceil(attn_t*attn_sal.numel())/attn_sal.numel()\n",
    "    total_attn += attn_r\n",
    "\n",
    "    ratios[i] = [attn_r, attn_proj_r, fc1_r, fc2_r, ]\n",
    "    \n",
    "avg_proj = total_proj/(i+1)\n",
    "avg_fc1 = total_fc1/(i+1)\n",
    "avg_fc2 = total_fc2/(i+1)\n",
    "avg_attn = total_attn/(i+1)\n",
    "\n",
    "print(ratios)"
   ],
   "metadata": {
    "collapsed": false,
    "ExecuteTime": {
     "end_time": "2025-07-03T14:26:10.711084200Z",
     "start_time": "2025-07-03T14:26:10.527123500Z"
    }
   },
   "id": "af5f8b8e5fbe4235",
   "execution_count": 9
  },
  {
   "cell_type": "code",
   "outputs": [
    {
     "data": {
      "text/plain": "<Figure size 640x480 with 1 Axes>",
      "image/png": "[encoded data removed]"
     },
     "metadata": {},
     "output_type": "display_data"
    }
   ],
   "source": [
    "n_layers = ratios.shape[0]          \n",
    "bar_width = 0.23                        \n",
    "x = np.arange(n_layers)                \n",
    "\n",
    "labels = [\"attn_head\", \"attn_proj\", \"fc1\", \"fc2\", ]\n",
    "\n",
    "# Center the 4 bars around each x position\n",
    "offsets = (np.arange(ratios.shape[1]) - (ratios.shape[1] - 1) / 2) * bar_width\n",
    "\n",
    "for j, offset in enumerate(offsets):\n",
    "    plt.bar(x + offset, ratios[:, j], width=bar_width, label=labels[j])\n",
    "\n",
    "plt.xlabel(\"Transformer block idx\")\n",
    "plt.ylabel(\"Prune ratio\")\n",
    "title = \"attn_head: \" + str(avg_attn) +\" attn_proj: \" + str(avg_proj)\n",
    "plt.title(\"\")\n",
    "plt.xticks(x, [str(i) for i in range(n_layers)])\n",
    "plt.legend()\n",
    "plt.tight_layout()\n",
    "plt.show()"
   ],
   "metadata": {
    "collapsed": false,
    "ExecuteTime": {
     "end_time": "2025-07-03T14:28:48.218660Z",
     "start_time": "2025-07-03T14:28:47.922064Z"
    }
   },
   "id": "465680c3ec205cda",
   "execution_count": 13
  }
 ],
 "metadata": {
  "kernelspec": {
   "display_name": "Python 3",
   "language": "python",
   "name": "python3"
  },
  "language_info": {
   "codemirror_mode": {
    "name": "ipython",
    "version": 2
   },
   "file_extension": ".py",
   "mimetype": "text/x-python",
   "name": "python",
   "nbconvert_exporter": "python",
   "pygments_lexer": "ipython2",
   "version": "2.7.6"
  }
 },
 "nbformat": 4,
 "nbformat_minor": 5
}
