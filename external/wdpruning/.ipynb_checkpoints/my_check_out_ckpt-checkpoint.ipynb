{
 "cells": [
  {
   "cell_type": "code",
   "outputs": [],
   "source": [
    "import sys\n",
    "import os\n",
    "import math\n",
    "import numpy as np\n",
    "import torch\n",
    "sys.path.append(os.path.abspath(os.path.join(os.path.dirname(\"deep_feature_reweighting\"), '../..')))"
   ],
   "metadata": {
    "collapsed": false,
    "ExecuteTime": {
     "end_time": "2025-07-07T07:57:58.832082900Z",
     "start_time": "2025-07-07T07:57:51.299223700Z"
    }
   },
   "id": "f804f4f4acc8772",
   "execution_count": 3
  },
  {
   "cell_type": "code",
   "outputs": [
    {
     "name": "stderr",
     "output_type": "stream",
     "text": [
      "C:\\Users\\elmop\\AppData\\Local\\Temp\\ipykernel_20452\\3087101899.py:1: FutureWarning: You are using `torch.load` with `weights_only=False` (the current default value), which uses the default pickle module implicitly. It is possible to construct malicious pickle data which will execute arbitrary code during unpickling (See https://github.com/pytorch/pytorch/blob/main/SECURITY.md#untrusted-models for more details). In a future release, the default value for `weights_only` will be flipped to `True`. This limits the functions that could be executed during unpickling. Arbitrary objects will no longer be allowed to be loaded via this mode unless they are explicitly allowlisted by the user via `torch.serialization.add_safe_globals`. We recommend you start setting `weights_only=True` for any use case where you don't have full control of the loaded file. Please open an issue on GitHub for any issues related to this experimental feature.\n",
      "  ckpt = torch.load(\"F:/model_stuff/r90e20 wb/checkpoint-best.pth\", map_location=torch.device('cpu'))['model']\n"
     ]
    }
   ],
   "source": [
    "ckpt = torch.load(\"F:/model_stuff/r90e20 wb/checkpoint-best.pth\", map_location=torch.device('cpu'))['model']"
   ],
   "metadata": {
    "collapsed": false,
    "ExecuteTime": {
     "end_time": "2025-07-01T17:40:03.702680700Z",
     "start_time": "2025-07-01T17:40:00.885679700Z"
    }
   },
   "id": "f8142138fed1da1c",
   "execution_count": 7
  },
  {
   "cell_type": "code",
   "outputs": [
    {
     "name": "stdout",
     "output_type": "stream",
     "text": [
      "using stride: 16, and patch number is num_y14 * num_x14\n",
      "using drop_out rate is : 0.0\n",
      "using attn_drop_out rate is : 0.0\n",
      "using drop_path rate is : 0.1\n",
      "using stride: 16, and patch number is num_y14 * num_x14\n",
      "using drop_out rate is : 0.0\n",
      "using attn_drop_out rate is : 0.0\n",
      "using drop_path rate is : 0.1\n"
     ]
    }
   ],
   "source": [
    "from external.wdpruning.vit_wdpruning import VisionTransformerWithWDPruning\n",
    "\n",
    "model = VisionTransformerWithWDPruning(num_classes=2,\n",
    "                                       patch_size=16, embed_dim=768,\n",
    "                                       depth=12, num_heads=12, mlp_ratio=4,\n",
    "                                       head_pruning=True, fc_pruning=True)\n",
    "\n",
    "model2 = VisionTransformerWithWDPruning(num_classes=2,\n",
    "                                       patch_size=16, embed_dim=768,\n",
    "                                       depth=12, num_heads=12, mlp_ratio=4,\n",
    "                                       head_pruning=True, fc_pruning=True)"
   ],
   "metadata": {
    "collapsed": false,
    "ExecuteTime": {
     "end_time": "2025-07-01T17:40:06.477866800Z",
     "start_time": "2025-07-01T17:40:03.713679900Z"
    }
   },
   "id": "78019aa7468cefc7",
   "execution_count": 8
  },
  {
   "cell_type": "code",
   "outputs": [
    {
     "data": {
      "text/plain": "_IncompatibleKeys(missing_keys=[], unexpected_keys=['norm_classifier.2.weight', 'norm_classifier.2.bias', 'head_classifier.2.weight', 'head_classifier.2.bias'])"
     },
     "execution_count": 9,
     "metadata": {},
     "output_type": "execute_result"
    }
   ],
   "source": [
    "model.load_state_dict(ckpt, strict=False)\n",
    "model2.load_state_dict(ckpt, strict=False)"
   ],
   "metadata": {
    "collapsed": false,
    "ExecuteTime": {
     "end_time": "2025-07-01T17:40:07.011764800Z",
     "start_time": "2025-07-01T17:40:06.480864400Z"
    }
   },
   "id": "fd724e5e3f9a7df5",
   "execution_count": 9
  },
  {
   "cell_type": "code",
   "outputs": [],
   "source": [
    "def count_parameters(model):\n",
    "    params = sum(p.numel() for n,p in model.named_parameters() if p.requires_grad and 'blocks' in n)\n",
    "    return params"
   ],
   "metadata": {
    "collapsed": false,
    "ExecuteTime": {
     "end_time": "2025-07-01T17:40:07.096764500Z",
     "start_time": "2025-07-01T17:40:07.024762400Z"
    }
   },
   "id": "110a6c29f97fd440",
   "execution_count": 10
  },
  {
   "cell_type": "code",
   "outputs": [
    {
     "name": "stdout",
     "output_type": "stream",
     "text": [
      "0.9992639422416687\n",
      "0.9999558925628662\n",
      "0.9996821880340576\n",
      "0.9998824596405029\n",
      "0.9980912804603577\n",
      "0.9999246597290039\n",
      "0.9985417127609253\n",
      "0.9663206338882446\n",
      "0.999873161315918\n",
      "0.9999645948410034\n",
      "0.9997803568840027\n",
      "0.9743068814277649\n",
      "0.9999330043792725\n",
      "0.9999704360961914\n",
      "0.9996782541275024\n",
      "0.9746203422546387\n",
      "0.9999531507492065\n",
      "0.9999613761901855\n",
      "0.9996138215065002\n",
      "0.9805384874343872\n",
      "0.9999409914016724\n",
      "0.9999533891677856\n",
      "0.998783528804779\n",
      "0.9782466888427734\n",
      "0.9999121427536011\n",
      "0.9999463558197021\n",
      "0.9972932934761047\n",
      "0.9649326205253601\n",
      "0.999835729598999\n",
      "0.9999246597290039\n",
      "0.9959255456924438\n",
      "0.9646687507629395\n",
      "0.9957894682884216\n",
      "0.9992738366127014\n",
      "0.9660371541976929\n",
      "0.9265344738960266\n",
      "0.9944720268249512\n",
      "0.9994024038314819\n",
      "0.9876731038093567\n",
      "0.9299092292785645\n",
      "0.8923105597496033\n",
      "0.9705995917320251\n",
      "0.8390438556671143\n",
      "0.7332970499992371\n",
      "0.9809921383857727\n",
      "0.9957371950149536\n",
      "0.8591406345367432\n",
      "0.7610734105110168\n"
     ]
    }
   ],
   "source": [
    "model._make_structural_pruning()\n"
   ],
   "metadata": {
    "collapsed": false,
    "ExecuteTime": {
     "end_time": "2025-07-01T17:40:07.620645800Z",
     "start_time": "2025-07-01T17:40:07.047761900Z"
    }
   },
   "id": "33b8541bd6876aaa",
   "execution_count": 11
  },
  {
   "cell_type": "code",
   "outputs": [
    {
     "name": "stdout",
     "output_type": "stream",
     "text": [
      "0.9566196911966299\n"
     ]
    }
   ],
   "source": [
    "pre = count_parameters(model2)\n",
    "post = count_parameters(model)\n",
    "print(post/pre)"
   ],
   "metadata": {
    "collapsed": false,
    "ExecuteTime": {
     "end_time": "2025-07-01T17:40:08.016403500Z",
     "start_time": "2025-07-01T17:40:07.564404300Z"
    }
   },
   "id": "1ba320c2e6a092a8",
   "execution_count": 12
  },
  {
   "cell_type": "code",
   "outputs": [
    {
     "name": "stdout",
     "output_type": "stream",
     "text": [
      "blocks.0.attn.qkv.weight\n",
      "torch.Size([2304, 768])\n",
      "blocks.0.attn.qkv.bias\n",
      "torch.Size([2304])\n",
      "blocks.1.attn.qkv.weight\n",
      "torch.Size([2304, 768])\n",
      "blocks.1.attn.qkv.bias\n",
      "torch.Size([2304])\n",
      "blocks.2.attn.qkv.weight\n",
      "torch.Size([2304, 768])\n",
      "blocks.2.attn.qkv.bias\n",
      "torch.Size([2304])\n",
      "blocks.3.attn.qkv.weight\n",
      "torch.Size([2304, 768])\n",
      "blocks.3.attn.qkv.bias\n",
      "torch.Size([2304])\n",
      "blocks.4.attn.qkv.weight\n",
      "torch.Size([2304, 768])\n",
      "blocks.4.attn.qkv.bias\n",
      "torch.Size([2304])\n",
      "blocks.5.attn.qkv.weight\n",
      "torch.Size([2304, 768])\n",
      "blocks.5.attn.qkv.bias\n",
      "torch.Size([2304])\n",
      "blocks.6.attn.qkv.weight\n",
      "torch.Size([2304, 768])\n",
      "blocks.6.attn.qkv.bias\n",
      "torch.Size([2304])\n",
      "blocks.7.attn.qkv.weight\n",
      "torch.Size([2304, 768])\n",
      "blocks.7.attn.qkv.bias\n",
      "torch.Size([2304])\n",
      "blocks.8.attn.qkv.weight\n",
      "torch.Size([2304, 768])\n",
      "blocks.8.attn.qkv.bias\n",
      "torch.Size([2304])\n",
      "blocks.9.attn.qkv.weight\n",
      "torch.Size([2304, 768])\n",
      "blocks.9.attn.qkv.bias\n",
      "torch.Size([2304])\n",
      "blocks.10.attn.qkv.weight\n",
      "torch.Size([2112, 768])\n",
      "blocks.10.attn.qkv.bias\n",
      "torch.Size([2112])\n",
      "blocks.11.attn.qkv.weight\n",
      "torch.Size([2304, 768])\n",
      "blocks.11.attn.qkv.bias\n",
      "torch.Size([2304])\n"
     ]
    }
   ],
   "source": [
    "for name, param in model.named_parameters():\n",
    "    if param.requires_grad and 'blocks' in name and \"attn.qkv\" in name:\n",
    "        print(name)\n",
    "        print(param.size())\n",
    "        #print(param)"
   ],
   "metadata": {
    "collapsed": false,
    "ExecuteTime": {
     "end_time": "2025-07-01T17:40:08.727724Z",
     "start_time": "2025-07-01T17:40:07.620645800Z"
    }
   },
   "id": "56936ddca9c8d769",
   "execution_count": 13
  },
  {
   "cell_type": "code",
   "outputs": [
    {
     "name": "stdout",
     "output_type": "stream",
     "text": [
      "blocks.0.attn.qkv.head_saliency_scores\n",
      "torch.Size([12, 1])\n",
      "Parameter containing:\n",
      "tensor([[ 0.0292],\n",
      "        [ 0.0439],\n",
      "        [ 0.0126],\n",
      "        [ 0.0194],\n",
      "        [ 0.0247],\n",
      "        [ 0.0004],\n",
      "        [ 0.0100],\n",
      "        [ 0.0042],\n",
      "        [ 0.0043],\n",
      "        [ 0.0244],\n",
      "        [-0.0053],\n",
      "        [-0.0029]], requires_grad=True)\n",
      "blocks.1.attn.qkv.head_saliency_scores\n",
      "torch.Size([12, 1])\n",
      "Parameter containing:\n",
      "tensor([[ 0.0037],\n",
      "        [ 0.0040],\n",
      "        [-0.0062],\n",
      "        [ 0.0046],\n",
      "        [ 0.0067],\n",
      "        [ 0.0198],\n",
      "        [-0.0016],\n",
      "        [ 0.0027],\n",
      "        [-0.0052],\n",
      "        [ 0.0075],\n",
      "        [ 0.0286],\n",
      "        [-0.0112]], requires_grad=True)\n",
      "blocks.2.attn.qkv.head_saliency_scores\n",
      "torch.Size([12, 1])\n",
      "Parameter containing:\n",
      "tensor([[ 0.0134],\n",
      "        [-0.0034],\n",
      "        [ 0.0002],\n",
      "        [ 0.0227],\n",
      "        [ 0.0129],\n",
      "        [ 0.0461],\n",
      "        [ 0.0048],\n",
      "        [ 0.0326],\n",
      "        [ 0.0002],\n",
      "        [ 0.0045],\n",
      "        [ 0.0449],\n",
      "        [-0.0115]], requires_grad=True)\n",
      "blocks.3.attn.qkv.head_saliency_scores\n",
      "torch.Size([12, 1])\n",
      "Parameter containing:\n",
      "tensor([[ 0.0058],\n",
      "        [ 0.0040],\n",
      "        [ 0.0106],\n",
      "        [ 0.0085],\n",
      "        [-0.0030],\n",
      "        [ 0.0017],\n",
      "        [ 0.0346],\n",
      "        [ 0.0324],\n",
      "        [ 0.0179],\n",
      "        [ 0.0023],\n",
      "        [ 0.0071],\n",
      "        [ 0.0143]], requires_grad=True)\n",
      "blocks.4.attn.qkv.head_saliency_scores\n",
      "torch.Size([12, 1])\n",
      "Parameter containing:\n",
      "tensor([[0.0226],\n",
      "        [0.0237],\n",
      "        [0.0124],\n",
      "        [0.0206],\n",
      "        [0.0132],\n",
      "        [0.0102],\n",
      "        [0.0238],\n",
      "        [0.0097],\n",
      "        [0.0029],\n",
      "        [0.0128],\n",
      "        [0.0096],\n",
      "        [0.0103]], requires_grad=True)\n",
      "blocks.5.attn.qkv.head_saliency_scores\n",
      "torch.Size([12, 1])\n",
      "Parameter containing:\n",
      "tensor([[0.0104],\n",
      "        [0.0062],\n",
      "        [0.0146],\n",
      "        [0.0195],\n",
      "        [0.0039],\n",
      "        [0.0056],\n",
      "        [0.0086],\n",
      "        [0.0096],\n",
      "        [0.0055],\n",
      "        [0.0178],\n",
      "        [0.0101],\n",
      "        [0.0096]], requires_grad=True)\n",
      "blocks.6.attn.qkv.head_saliency_scores\n",
      "torch.Size([12, 1])\n",
      "Parameter containing:\n",
      "tensor([[0.0116],\n",
      "        [0.0135],\n",
      "        [0.0109],\n",
      "        [0.0115],\n",
      "        [0.0159],\n",
      "        [0.0137],\n",
      "        [0.0152],\n",
      "        [0.0059],\n",
      "        [0.0071],\n",
      "        [0.0042],\n",
      "        [0.0156],\n",
      "        [0.0105]], requires_grad=True)\n",
      "blocks.7.attn.qkv.head_saliency_scores\n",
      "torch.Size([12, 1])\n",
      "Parameter containing:\n",
      "tensor([[0.0043],\n",
      "        [0.0083],\n",
      "        [0.0029],\n",
      "        [0.0083],\n",
      "        [0.0070],\n",
      "        [0.0100],\n",
      "        [0.0080],\n",
      "        [0.0081],\n",
      "        [0.0120],\n",
      "        [0.0036],\n",
      "        [0.0093],\n",
      "        [0.0056]], requires_grad=True)\n",
      "blocks.8.attn.qkv.head_saliency_scores\n",
      "torch.Size([12, 1])\n",
      "Parameter containing:\n",
      "tensor([[0.0007],\n",
      "        [0.0009],\n",
      "        [0.0044],\n",
      "        [0.0023],\n",
      "        [0.0090],\n",
      "        [0.0125],\n",
      "        [0.0134],\n",
      "        [0.0098],\n",
      "        [0.0079],\n",
      "        [0.0078],\n",
      "        [0.0055],\n",
      "        [0.0094]], requires_grad=True)\n",
      "blocks.9.attn.qkv.head_saliency_scores\n",
      "torch.Size([12, 1])\n",
      "Parameter containing:\n",
      "tensor([[ 0.0041],\n",
      "        [-0.0007],\n",
      "        [ 0.0053],\n",
      "        [ 0.0024],\n",
      "        [ 0.0064],\n",
      "        [ 0.0012],\n",
      "        [ 0.0018],\n",
      "        [-0.0011],\n",
      "        [ 0.0029],\n",
      "        [ 0.0071],\n",
      "        [ 0.0025],\n",
      "        [ 0.0043]], requires_grad=True)\n",
      "blocks.10.attn.qkv.head_saliency_scores\n",
      "torch.Size([12, 1])\n",
      "Parameter containing:\n",
      "tensor([[ 0.0011],\n",
      "        [-0.0043],\n",
      "        [ 0.0028],\n",
      "        [ 0.0006],\n",
      "        [-0.0017],\n",
      "        [ 0.0005],\n",
      "        [-0.0019],\n",
      "        [ 0.0033],\n",
      "        [-0.0017],\n",
      "        [ 0.0006],\n",
      "        [-0.0002],\n",
      "        [-0.0012]], requires_grad=True)\n",
      "blocks.11.attn.qkv.head_saliency_scores\n",
      "torch.Size([12, 1])\n",
      "Parameter containing:\n",
      "tensor([[-7.5624e-04],\n",
      "        [-9.2040e-04],\n",
      "        [-4.8590e-04],\n",
      "        [-1.1567e-04],\n",
      "        [-1.1731e-03],\n",
      "        [-8.0515e-04],\n",
      "        [-2.3848e-03],\n",
      "        [-1.7819e-03],\n",
      "        [-1.3399e-03],\n",
      "        [ 3.8617e-05],\n",
      "        [-2.0338e-03],\n",
      "        [-1.2712e-03]], requires_grad=True)\n"
     ]
    }
   ],
   "source": [
    "for name, param in model2.named_parameters():\n",
    "    if param.requires_grad and 'blocks' in name and \"attn.qkv.head_saliency_scores\" in name:\n",
    "        print(name)\n",
    "        print(param.size())\n",
    "        print(param)"
   ],
   "metadata": {
    "collapsed": false,
    "ExecuteTime": {
     "end_time": "2025-07-01T17:40:10.355474Z",
     "start_time": "2025-07-01T17:40:08.439080200Z"
    }
   },
   "id": "e9b31d03247b487",
   "execution_count": 14
  },
  {
   "cell_type": "code",
   "outputs": [
    {
     "name": "stdout",
     "output_type": "stream",
     "text": [
      "blocks.0.attn.qkv.head_saliency_scores\n",
      "torch.Size([12, 1])\n",
      "Parameter containing:\n",
      "tensor([[ 0.0292],\n",
      "        [ 0.0439],\n",
      "        [ 0.0126],\n",
      "        [ 0.0194],\n",
      "        [ 0.0247],\n",
      "        [ 0.0004],\n",
      "        [ 0.0100],\n",
      "        [ 0.0042],\n",
      "        [ 0.0043],\n",
      "        [ 0.0244],\n",
      "        [-0.0053],\n",
      "        [-0.0029]], requires_grad=True)\n",
      "blocks.0.attn.qkv.threshold_head\n",
      "torch.Size([1])\n",
      "Parameter containing:\n",
      "tensor([7.2135], requires_grad=True)\n",
      "blocks.1.attn.qkv.head_saliency_scores\n",
      "torch.Size([12, 1])\n",
      "Parameter containing:\n",
      "tensor([[ 0.0037],\n",
      "        [ 0.0040],\n",
      "        [-0.0062],\n",
      "        [ 0.0046],\n",
      "        [ 0.0067],\n",
      "        [ 0.0198],\n",
      "        [-0.0016],\n",
      "        [ 0.0027],\n",
      "        [-0.0052],\n",
      "        [ 0.0075],\n",
      "        [ 0.0286],\n",
      "        [-0.0112]], requires_grad=True)\n",
      "blocks.1.attn.qkv.threshold_head\n",
      "torch.Size([1])\n",
      "Parameter containing:\n",
      "tensor([6.2594], requires_grad=True)\n",
      "blocks.2.attn.qkv.head_saliency_scores\n",
      "torch.Size([12, 1])\n",
      "Parameter containing:\n",
      "tensor([[ 0.0134],\n",
      "        [-0.0034],\n",
      "        [ 0.0002],\n",
      "        [ 0.0227],\n",
      "        [ 0.0129],\n",
      "        [ 0.0461],\n",
      "        [ 0.0048],\n",
      "        [ 0.0326],\n",
      "        [ 0.0002],\n",
      "        [ 0.0045],\n",
      "        [ 0.0449],\n",
      "        [-0.0115]], requires_grad=True)\n",
      "blocks.2.attn.qkv.threshold_head\n",
      "torch.Size([1])\n",
      "Parameter containing:\n",
      "tensor([8.9729], requires_grad=True)\n",
      "blocks.3.attn.qkv.head_saliency_scores\n",
      "torch.Size([12, 1])\n",
      "Parameter containing:\n",
      "tensor([[ 0.0058],\n",
      "        [ 0.0040],\n",
      "        [ 0.0106],\n",
      "        [ 0.0085],\n",
      "        [-0.0030],\n",
      "        [ 0.0017],\n",
      "        [ 0.0346],\n",
      "        [ 0.0324],\n",
      "        [ 0.0179],\n",
      "        [ 0.0023],\n",
      "        [ 0.0071],\n",
      "        [ 0.0143]], requires_grad=True)\n",
      "blocks.3.attn.qkv.threshold_head\n",
      "torch.Size([1])\n",
      "Parameter containing:\n",
      "tensor([9.6113], requires_grad=True)\n",
      "blocks.4.attn.qkv.head_saliency_scores\n",
      "torch.Size([12, 1])\n",
      "Parameter containing:\n",
      "tensor([[0.0226],\n",
      "        [0.0237],\n",
      "        [0.0124],\n",
      "        [0.0206],\n",
      "        [0.0132],\n",
      "        [0.0102],\n",
      "        [0.0238],\n",
      "        [0.0097],\n",
      "        [0.0029],\n",
      "        [0.0128],\n",
      "        [0.0096],\n",
      "        [0.0103]], requires_grad=True)\n",
      "blocks.4.attn.qkv.threshold_head\n",
      "torch.Size([1])\n",
      "Parameter containing:\n",
      "tensor([9.9681], requires_grad=True)\n",
      "blocks.5.attn.qkv.head_saliency_scores\n",
      "torch.Size([12, 1])\n",
      "Parameter containing:\n",
      "tensor([[0.0104],\n",
      "        [0.0062],\n",
      "        [0.0146],\n",
      "        [0.0195],\n",
      "        [0.0039],\n",
      "        [0.0056],\n",
      "        [0.0086],\n",
      "        [0.0096],\n",
      "        [0.0055],\n",
      "        [0.0178],\n",
      "        [0.0101],\n",
      "        [0.0096]], requires_grad=True)\n",
      "blocks.5.attn.qkv.threshold_head\n",
      "torch.Size([1])\n",
      "Parameter containing:\n",
      "tensor([9.7376], requires_grad=True)\n",
      "blocks.6.attn.qkv.head_saliency_scores\n",
      "torch.Size([12, 1])\n",
      "Parameter containing:\n",
      "tensor([[0.0116],\n",
      "        [0.0135],\n",
      "        [0.0109],\n",
      "        [0.0115],\n",
      "        [0.0159],\n",
      "        [0.0137],\n",
      "        [0.0152],\n",
      "        [0.0059],\n",
      "        [0.0071],\n",
      "        [0.0042],\n",
      "        [0.0156],\n",
      "        [0.0105]], requires_grad=True)\n",
      "blocks.6.attn.qkv.threshold_head\n",
      "torch.Size([1])\n",
      "Parameter containing:\n",
      "tensor([9.3394], requires_grad=True)\n",
      "blocks.7.attn.qkv.head_saliency_scores\n",
      "torch.Size([12, 1])\n",
      "Parameter containing:\n",
      "tensor([[0.0043],\n",
      "        [0.0083],\n",
      "        [0.0029],\n",
      "        [0.0083],\n",
      "        [0.0070],\n",
      "        [0.0100],\n",
      "        [0.0080],\n",
      "        [0.0081],\n",
      "        [0.0120],\n",
      "        [0.0036],\n",
      "        [0.0093],\n",
      "        [0.0056]], requires_grad=True)\n",
      "blocks.7.attn.qkv.threshold_head\n",
      "torch.Size([1])\n",
      "Parameter containing:\n",
      "tensor([8.7137], requires_grad=True)\n",
      "blocks.8.attn.qkv.head_saliency_scores\n",
      "torch.Size([12, 1])\n",
      "Parameter containing:\n",
      "tensor([[0.0007],\n",
      "        [0.0009],\n",
      "        [0.0044],\n",
      "        [0.0023],\n",
      "        [0.0090],\n",
      "        [0.0125],\n",
      "        [0.0134],\n",
      "        [0.0098],\n",
      "        [0.0079],\n",
      "        [0.0078],\n",
      "        [0.0055],\n",
      "        [0.0094]], requires_grad=True)\n",
      "blocks.8.attn.qkv.threshold_head\n",
      "torch.Size([1])\n",
      "Parameter containing:\n",
      "tensor([5.4659], requires_grad=True)\n",
      "blocks.9.attn.qkv.head_saliency_scores\n",
      "torch.Size([12, 1])\n",
      "Parameter containing:\n",
      "tensor([[ 0.0041],\n",
      "        [-0.0007],\n",
      "        [ 0.0053],\n",
      "        [ 0.0024],\n",
      "        [ 0.0064],\n",
      "        [ 0.0012],\n",
      "        [ 0.0018],\n",
      "        [-0.0011],\n",
      "        [ 0.0029],\n",
      "        [ 0.0071],\n",
      "        [ 0.0025],\n",
      "        [ 0.0043]], requires_grad=True)\n",
      "blocks.9.attn.qkv.threshold_head\n",
      "torch.Size([1])\n",
      "Parameter containing:\n",
      "tensor([5.1924], requires_grad=True)\n",
      "blocks.10.attn.qkv.head_saliency_scores\n",
      "torch.Size([12, 1])\n",
      "Parameter containing:\n",
      "tensor([[ 0.0011],\n",
      "        [-0.0043],\n",
      "        [ 0.0028],\n",
      "        [ 0.0006],\n",
      "        [-0.0017],\n",
      "        [ 0.0005],\n",
      "        [-0.0019],\n",
      "        [ 0.0033],\n",
      "        [-0.0017],\n",
      "        [ 0.0006],\n",
      "        [-0.0002],\n",
      "        [-0.0012]], requires_grad=True)\n",
      "blocks.10.attn.qkv.threshold_head\n",
      "torch.Size([1])\n",
      "Parameter containing:\n",
      "tensor([2.1146], requires_grad=True)\n",
      "blocks.11.attn.qkv.head_saliency_scores\n",
      "torch.Size([12, 1])\n",
      "Parameter containing:\n",
      "tensor([[-7.5624e-04],\n",
      "        [-9.2040e-04],\n",
      "        [-4.8590e-04],\n",
      "        [-1.1567e-04],\n",
      "        [-1.1731e-03],\n",
      "        [-8.0515e-04],\n",
      "        [-2.3848e-03],\n",
      "        [-1.7819e-03],\n",
      "        [-1.3399e-03],\n",
      "        [ 3.8617e-05],\n",
      "        [-2.0338e-03],\n",
      "        [-1.2712e-03]], requires_grad=True)\n",
      "blocks.11.attn.qkv.threshold_head\n",
      "torch.Size([1])\n",
      "Parameter containing:\n",
      "tensor([3.9437], requires_grad=True)\n"
     ]
    }
   ],
   "source": [
    "total_params = 0\n",
    "for name, param in model2.named_parameters():\n",
    "    if param.requires_grad and 'blocks' in name and \"head\" in name:\n",
    "        print(name)\n",
    "        print(param.size())\n",
    "        print(param)"
   ],
   "metadata": {
    "collapsed": false,
    "ExecuteTime": {
     "end_time": "2025-07-01T17:40:10.870635800Z",
     "start_time": "2025-07-01T17:40:10.176755600Z"
    }
   },
   "id": "b43d1d5e67f0b28a",
   "execution_count": 15
  },
  {
   "cell_type": "code",
   "outputs": [
    {
     "data": {
      "text/plain": "torch.Size([2112, 768])"
     },
     "execution_count": 16,
     "metadata": {},
     "output_type": "execute_result"
    }
   ],
   "source": [
    "model.blocks[10].attn.qkv.weight.shape"
   ],
   "metadata": {
    "collapsed": false,
    "ExecuteTime": {
     "end_time": "2025-07-01T17:40:11.382634Z",
     "start_time": "2025-07-01T17:40:10.242348100Z"
    }
   },
   "id": "95a8ae3a63e11a83",
   "execution_count": 16
  },
  {
   "cell_type": "code",
   "outputs": [],
   "source": [
    "from pruner.modules.binarizer import TopKBinarizer"
   ],
   "metadata": {
    "collapsed": false,
    "ExecuteTime": {
     "end_time": "2025-07-01T17:40:12.618320300Z",
     "start_time": "2025-07-01T17:40:11.152335500Z"
    }
   },
   "id": "4f61635d1a45fff1",
   "execution_count": 17
  },
  {
   "cell_type": "code",
   "outputs": [
    {
     "name": "stdout",
     "output_type": "stream",
     "text": [
      "Parameter containing:\n",
      "tensor([[ 0.0011],\n",
      "        [-0.0043],\n",
      "        [ 0.0028],\n",
      "        [ 0.0006],\n",
      "        [-0.0017],\n",
      "        [ 0.0005],\n",
      "        [-0.0019],\n",
      "        [ 0.0033],\n",
      "        [-0.0017],\n",
      "        [ 0.0006],\n",
      "        [-0.0002],\n",
      "        [-0.0012]], requires_grad=True)\n",
      "Parameter containing:\n",
      "tensor([2.1146], requires_grad=True)\n",
      "0.8923105597496033\n",
      "0.8923105597496033\n",
      "tensor([[1.],\n",
      "        [0.],\n",
      "        [1.],\n",
      "        [1.],\n",
      "        [1.],\n",
      "        [1.],\n",
      "        [1.],\n",
      "        [1.],\n",
      "        [1.],\n",
      "        [1.],\n",
      "        [1.],\n",
      "        [1.]], grad_fn=<TopKBinarizerBackward>)\n"
     ]
    }
   ],
   "source": [
    "i = 10\n",
    "sal_scores = model2.blocks[i].attn.qkv.head_saliency_scores\n",
    "print(sal_scores)\n",
    "t = model2.blocks[i].attn.qkv.threshold_head\n",
    "print(t)\n",
    "print(torch.sigmoid(t).item())\n",
    "mask_head = TopKBinarizer.apply(sal_scores, t, -1)\n",
    "print(mask_head)"
   ],
   "metadata": {
    "collapsed": false,
    "ExecuteTime": {
     "end_time": "2025-07-01T17:46:55.838595600Z",
     "start_time": "2025-07-01T17:46:55.776070500Z"
    }
   },
   "id": "fb9a7b6b6d5010a6",
   "execution_count": 29
  },
  {
   "cell_type": "code",
   "outputs": [
    {
     "name": "stdout",
     "output_type": "stream",
     "text": [
      "blocks.0.attn.qkv.head_saliency_scores\n",
      "torch.Size([12, 1])\n",
      "blocks.0.attn.proj.saliency_scores\n",
      "torch.Size([768, 1])\n",
      "blocks.0.mlp.fc1.saliency_scores\n",
      "torch.Size([3072, 1])\n",
      "blocks.0.mlp.fc2.saliency_scores\n",
      "torch.Size([768, 1])\n",
      "blocks.1.attn.qkv.head_saliency_scores\n",
      "torch.Size([12, 1])\n",
      "blocks.1.attn.proj.saliency_scores\n",
      "torch.Size([768, 1])\n",
      "blocks.1.mlp.fc1.saliency_scores\n",
      "torch.Size([3072, 1])\n",
      "blocks.1.mlp.fc2.saliency_scores\n",
      "torch.Size([768, 1])\n",
      "blocks.2.attn.qkv.head_saliency_scores\n",
      "torch.Size([12, 1])\n",
      "blocks.2.attn.proj.saliency_scores\n",
      "torch.Size([768, 1])\n",
      "blocks.2.mlp.fc1.saliency_scores\n",
      "torch.Size([3072, 1])\n",
      "blocks.2.mlp.fc2.saliency_scores\n",
      "torch.Size([768, 1])\n",
      "blocks.3.attn.qkv.head_saliency_scores\n",
      "torch.Size([12, 1])\n",
      "blocks.3.attn.proj.saliency_scores\n",
      "torch.Size([768, 1])\n",
      "blocks.3.mlp.fc1.saliency_scores\n",
      "torch.Size([3072, 1])\n",
      "blocks.3.mlp.fc2.saliency_scores\n",
      "torch.Size([768, 1])\n",
      "blocks.4.attn.qkv.head_saliency_scores\n",
      "torch.Size([12, 1])\n",
      "blocks.4.attn.proj.saliency_scores\n",
      "torch.Size([768, 1])\n",
      "blocks.4.mlp.fc1.saliency_scores\n",
      "torch.Size([3072, 1])\n",
      "blocks.4.mlp.fc2.saliency_scores\n",
      "torch.Size([768, 1])\n",
      "blocks.5.attn.qkv.head_saliency_scores\n",
      "torch.Size([12, 1])\n",
      "blocks.5.attn.proj.saliency_scores\n",
      "torch.Size([768, 1])\n",
      "blocks.5.mlp.fc1.saliency_scores\n",
      "torch.Size([3072, 1])\n",
      "blocks.5.mlp.fc2.saliency_scores\n",
      "torch.Size([768, 1])\n",
      "blocks.6.attn.qkv.head_saliency_scores\n",
      "torch.Size([12, 1])\n",
      "blocks.6.attn.proj.saliency_scores\n",
      "torch.Size([768, 1])\n",
      "blocks.6.mlp.fc1.saliency_scores\n",
      "torch.Size([3072, 1])\n",
      "blocks.6.mlp.fc2.saliency_scores\n",
      "torch.Size([768, 1])\n",
      "blocks.7.attn.qkv.head_saliency_scores\n",
      "torch.Size([12, 1])\n",
      "blocks.7.attn.proj.saliency_scores\n",
      "torch.Size([768, 1])\n",
      "blocks.7.mlp.fc1.saliency_scores\n",
      "torch.Size([3072, 1])\n",
      "blocks.7.mlp.fc2.saliency_scores\n",
      "torch.Size([768, 1])\n",
      "blocks.8.attn.qkv.head_saliency_scores\n",
      "torch.Size([12, 1])\n",
      "blocks.8.attn.proj.saliency_scores\n",
      "torch.Size([768, 1])\n",
      "blocks.8.mlp.fc1.saliency_scores\n",
      "torch.Size([3072, 1])\n",
      "blocks.8.mlp.fc2.saliency_scores\n",
      "torch.Size([768, 1])\n",
      "blocks.9.attn.qkv.head_saliency_scores\n",
      "torch.Size([12, 1])\n",
      "blocks.9.attn.proj.saliency_scores\n",
      "torch.Size([768, 1])\n",
      "blocks.9.mlp.fc1.saliency_scores\n",
      "torch.Size([3072, 1])\n",
      "blocks.9.mlp.fc2.saliency_scores\n",
      "torch.Size([768, 1])\n",
      "blocks.10.attn.qkv.head_saliency_scores\n",
      "torch.Size([12, 1])\n",
      "blocks.10.attn.proj.saliency_scores\n",
      "torch.Size([768, 1])\n",
      "blocks.10.mlp.fc1.saliency_scores\n",
      "torch.Size([3072, 1])\n",
      "blocks.10.mlp.fc2.saliency_scores\n",
      "torch.Size([768, 1])\n",
      "blocks.11.attn.qkv.head_saliency_scores\n",
      "torch.Size([12, 1])\n",
      "blocks.11.attn.proj.saliency_scores\n",
      "torch.Size([768, 1])\n",
      "blocks.11.mlp.fc1.saliency_scores\n",
      "torch.Size([3072, 1])\n",
      "blocks.11.mlp.fc2.saliency_scores\n",
      "torch.Size([768, 1])\n"
     ]
    }
   ],
   "source": [
    "for name, param in model2.named_parameters():\n",
    "    if param.requires_grad and 'blocks' in name and (\"saliency\") in name:\n",
    "        print(name)\n",
    "        print(param.size())\n",
    "        #print(param)"
   ],
   "metadata": {
    "collapsed": false,
    "ExecuteTime": {
     "end_time": "2025-07-01T18:29:53.444252100Z",
     "start_time": "2025-07-01T18:29:53.415118500Z"
    }
   },
   "id": "fb88d490b788990d",
   "execution_count": 75
  },
  {
   "cell_type": "code",
   "outputs": [
    {
     "name": "stdout",
     "output_type": "stream",
     "text": [
      "0.0 0.0 0.0 0.0\n",
      "0.0 0.0 0.0013020833333333703 0.03255208333333337\n",
      "0.0 0.0 0.0 0.02473958333333337\n",
      "0.0 0.0 0.0 0.02473958333333337\n",
      "0.0 0.0 0.00032552083333337034 0.01822916666666663\n",
      "0.0 0.0 0.0009765625 0.02083333333333337\n",
      "0.0 0.0 0.0026041666666666297 0.03385416666666663\n",
      "0.0 0.0 0.00390625 0.03515625\n",
      "0.0 0.0 0.03385416666666663 0.07291666666666663\n",
      "0.0 0.0 0.01204427083333337 0.06901041666666663\n",
      "0.08333333333333337 0.02864583333333337 0.16080729166666663 0.265625\n",
      "0.0 0.00390625 0.140625 0.23828125\n",
      "[[0.         0.         0.         0.        ]\n",
      " [0.         0.         0.00130208 0.03255208]\n",
      " [0.         0.         0.         0.02473958]\n",
      " [0.         0.         0.         0.02473958]\n",
      " [0.         0.         0.00032552 0.01822917]\n",
      " [0.         0.         0.00097656 0.02083333]\n",
      " [0.         0.         0.00260417 0.03385417]\n",
      " [0.         0.         0.00390625 0.03515625]\n",
      " [0.         0.         0.03385417 0.07291666]\n",
      " [0.         0.         0.01204427 0.06901041]\n",
      " [0.08333334 0.02864583 0.1608073  0.265625  ]\n",
      " [0.         0.00390625 0.140625   0.23828125]]\n"
     ]
    }
   ],
   "source": [
    "ratios = np.zeros((12,4), dtype=np.float32)\n",
    "\n",
    "for i in range(12):\n",
    "    proj_thr = torch.sigmoid(model2.blocks[i].attn.proj.threshold_fc).item()\n",
    "    proj_numel = model2.blocks[i].attn.proj.saliency_scores.numel() \n",
    "    attn_proj_r = 1 - math.ceil(proj_thr * proj_numel) / proj_numel \n",
    "    \n",
    "    fc1_thr = torch.sigmoid(model2.blocks[i].mlp.fc1.threshold_fc).item()\n",
    "    fc1_numel = model2.blocks[i].mlp.fc1.saliency_scores.numel()      \n",
    "    fc1_r = 1 - math.ceil(fc1_thr * fc1_numel) / fc1_numel\n",
    "    \n",
    "    fc2_thr = torch.sigmoid(model2.blocks[i].mlp.fc2.threshold_fc).item()\n",
    "    fc2_numel = model2.blocks[i].mlp.fc2.saliency_scores.numel()           \n",
    "    fc2_r = 1 - math.ceil(fc2_thr * fc2_numel) / fc2_numel\n",
    "    \n",
    "    attn_sal = model2.blocks[i].attn.qkv.head_saliency_scores\n",
    "    attn_t = torch.sigmoid(model2.blocks[i].attn.qkv.threshold_head).item()\n",
    "    attn_r = 1 - math.ceil(attn_t*attn_sal.numel())/attn_sal.numel()\n",
    "    print(attn_r, attn_proj_r, fc1_r, fc2_r, )\n",
    "\n",
    "    ratios[i] = [attn_r, attn_proj_r, fc1_r, fc2_r, ]\n",
    "    \n",
    "print(ratios)"
   ],
   "metadata": {
    "collapsed": false,
    "ExecuteTime": {
     "end_time": "2025-07-01T18:46:51.300918700Z",
     "start_time": "2025-07-01T18:46:51.072967200Z"
    }
   },
   "id": "87fdc7c0aa051cc3",
   "execution_count": 101
  },
  {
   "cell_type": "code",
   "outputs": [],
   "source": [
    "import matplotlib.pyplot as plt"
   ],
   "metadata": {
    "collapsed": false,
    "ExecuteTime": {
     "end_time": "2025-07-01T18:40:48.248088800Z",
     "start_time": "2025-07-01T18:40:46.197538700Z"
    }
   },
   "id": "e89883f1e2c9e0af",
   "execution_count": 88
  },
  {
   "cell_type": "code",
   "outputs": [
    {
     "data": {
      "text/plain": "<Figure size 640x480 with 1 Axes>",
      "image/png": "[encoded data removed]"
     },
     "metadata": {},
     "output_type": "display_data"
    }
   ],
   "source": [
    "n_layers = ratios.shape[0]              # 12\n",
    "bar_width = 0.23                         # wider bars\n",
    "x = np.arange(n_layers)                 # layer centers\n",
    "\n",
    "labels = [\"attn_head\", \"attn_proj\", \"fc1\", \"fc2\", ]\n",
    "\n",
    "# Center the 4 bars around each x position\n",
    "offsets = (np.arange(ratios.shape[1]) - (ratios.shape[1] - 1) / 2) * bar_width\n",
    "\n",
    "for j, offset in enumerate(offsets):\n",
    "    plt.bar(x + offset, ratios[:, j], width=bar_width, label=labels[j])\n",
    "\n",
    "plt.xlabel(\"Transformer block (layer index)\")\n",
    "plt.ylabel(\"Pruned fraction (1 − keep ratio)\")\n",
    "plt.title(\"Per‑layer sparsity ratios (wider bars)\")\n",
    "plt.xticks(x, [str(i) for i in range(n_layers)])\n",
    "plt.legend()\n",
    "plt.tight_layout()\n",
    "plt.show()"
   ],
   "metadata": {
    "collapsed": false,
    "ExecuteTime": {
     "end_time": "2025-07-01T18:47:03.374650Z",
     "start_time": "2025-07-01T18:47:03.120642Z"
    }
   },
   "id": "e9e7a0c8515206c5",
   "execution_count": 102
  },
  {
   "cell_type": "code",
   "outputs": [
    {
     "name": "stdout",
     "output_type": "stream",
     "text": [
      "[[1 2 3]\n",
      " [4 5 6]]\n",
      "(2, 3)\n",
      "[2.5 3.5 4.5]\n"
     ]
    }
   ],
   "source": [
    "a = np.array([[1,2,3],[4,5,6]])\n",
    "print(a)\n",
    "print(a.shape)\n",
    "print(np.sum(a,axis=0)/2)"
   ],
   "metadata": {
    "collapsed": false,
    "ExecuteTime": {
     "end_time": "2025-07-07T08:00:26.136739500Z",
     "start_time": "2025-07-07T08:00:26.007346900Z"
    }
   },
   "id": "add2aab236e3525f",
   "execution_count": 12
  }
 ],
 "metadata": {
  "kernelspec": {
   "display_name": "Python 3",
   "language": "python",
   "name": "python3"
  },
  "language_info": {
   "codemirror_mode": {
    "name": "ipython",
    "version": 2
   },
   "file_extension": ".py",
   "mimetype": "text/x-python",
   "name": "python",
   "nbconvert_exporter": "python",
   "pygments_lexer": "ipython2",
   "version": "2.7.6"
  }
 },
 "nbformat": 4,
 "nbformat_minor": 5
}
