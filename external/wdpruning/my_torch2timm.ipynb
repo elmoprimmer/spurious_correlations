{
 "cells": [
  {
   "cell_type": "code",
   "outputs": [],
   "source": [
    "import sys\n",
    "import os\n",
    "sys.path.append(os.path.abspath(os.path.join(os.path.dirname(\"deep_feature_reweighting\"), '../..')))"
   ],
   "metadata": {
    "collapsed": false,
    "ExecuteTime": {
     "end_time": "2025-06-04T11:01:31.246682400Z",
     "start_time": "2025-06-04T11:01:31.219683900Z"
    }
   },
   "id": "9975162d8b783c08",
   "execution_count": 2
  },
  {
   "cell_type": "code",
   "execution_count": 3,
   "id": "initial_id",
   "metadata": {
    "collapsed": true,
    "ExecuteTime": {
     "end_time": "2025-06-04T11:01:31.265690400Z",
     "start_time": "2025-06-04T11:01:31.239680700Z"
    }
   },
   "outputs": [],
   "source": [
    "import re\n",
    "\n",
    "_TV_LAY_RE = re.compile(r'encoder\\.layers\\.encoder_layer_(\\d+)\\.')\n",
    "\n",
    "def _convert_torchvision_vit(state_dict: dict) -> dict:\n",
    "    \"\"\"\n",
    "    Map TorchVision ViT keys to timm / WD-Pruning ViT keys.\n",
    "    Only renames – leaves tensor data untouched.\n",
    "    \"\"\"\n",
    "    out = {}\n",
    "    for k, v in state_dict.items():\n",
    "\n",
    "        # 1. patch-embedding conv\n",
    "        if k.startswith('conv_proj.'):\n",
    "            out[k.replace('conv_proj', 'patch_embed.proj')] = v\n",
    "            continue\n",
    "\n",
    "        # 2. position embed\n",
    "        if k == 'encoder.pos_embedding':\n",
    "            out['pos_embed'] = v\n",
    "            continue\n",
    "\n",
    "        # 3. transformer blocks\n",
    "        m = _TV_LAY_RE.match(k)\n",
    "        if m:\n",
    "            blk = m.group(1)                          # block id 0-11\n",
    "            rest = k[m.end():]                        # everything after \"..._N.\"\n",
    "            rest = (rest\n",
    "                .replace('self_attention.in_proj_weight', 'attn.qkv.weight')\n",
    "                .replace('self_attention.in_proj_bias',  'attn.qkv.bias')\n",
    "                .replace('self_attention.out_proj',      'attn.proj')\n",
    "                .replace('ln_1', 'norm1')\n",
    "                .replace('ln_2', 'norm2')\n",
    "                .replace('mlp.0', 'mlp.fc1')\n",
    "                .replace('mlp.3', 'mlp.fc2'))\n",
    "            out[f'blocks.{blk}.{rest}'] = v\n",
    "            continue\n",
    "\n",
    "        # 4. final norm\n",
    "        if k.startswith('encoder.ln.'):\n",
    "            out[k.replace('encoder.ln', 'norm')] = v\n",
    "            continue\n",
    "\n",
    "        # 5. classifier head\n",
    "        if k.startswith('heads.head.'):\n",
    "            out['head.' + k.split('.', 2)[-1]] = v\n",
    "            continue\n",
    "\n",
    "        # 6. anything else (class_token, etc.)\n",
    "        if k == 'class_token':\n",
    "            out['cls_token'] = v\n",
    "            continue\n",
    "\n",
    "        out[k] = v           # fallback – copy as-is\n",
    "\n",
    "    return out\n"
   ]
  },
  {
   "cell_type": "code",
   "outputs": [
    {
     "name": "stderr",
     "output_type": "stream",
     "text": [
      "C:\\Users\\elmop\\AppData\\Local\\Temp\\ipykernel_3924\\1946250570.py:2: FutureWarning: You are using `torch.load` with `weights_only=False` (the current default value), which uses the default pickle module implicitly. It is possible to construct malicious pickle data which will execute arbitrary code during unpickling (See https://github.com/pytorch/pytorch/blob/main/SECURITY.md#untrusted-models for more details). In a future release, the default value for `weights_only` will be flipped to `True`. This limits the functions that could be executed during unpickling. Arbitrary objects will no longer be allowed to be loaded via this mode unless they are explicitly allowlisted by the user via `torch.serialization.add_safe_globals`. We recommend you start setting `weights_only=True` for any use case where you don't have full control of the loaded file. Please open an issue on GitHub for any issues related to this experimental feature.\n",
      "  tv_ckpt  = torch.load('F:/model_stuff/vit_isic_v2.pt', map_location='cpu')\n"
     ]
    },
    {
     "ename": "RuntimeError",
     "evalue": "[enforce fail at inline_container.cc:603] . unexpected pos 246364672 vs 246364560",
     "output_type": "error",
     "traceback": [
      "\u001B[1;31m---------------------------------------------------------------------------\u001B[0m",
      "\u001B[1;31mRuntimeError\u001B[0m                              Traceback (most recent call last)",
      "File \u001B[1;32m~\\anaconda3\\envs\\dfr\\lib\\site-packages\\torch\\serialization.py:652\u001B[0m, in \u001B[0;36msave\u001B[1;34m(obj, f, pickle_module, pickle_protocol, _use_new_zipfile_serialization, _disable_byteorder_record)\u001B[0m\n\u001B[0;32m    651\u001B[0m \u001B[38;5;28;01mwith\u001B[39;00m _open_zipfile_writer(f) \u001B[38;5;28;01mas\u001B[39;00m opened_zipfile:\n\u001B[1;32m--> 652\u001B[0m     \u001B[43m_save\u001B[49m\u001B[43m(\u001B[49m\u001B[43mobj\u001B[49m\u001B[43m,\u001B[49m\u001B[43m \u001B[49m\u001B[43mopened_zipfile\u001B[49m\u001B[43m,\u001B[49m\u001B[43m \u001B[49m\u001B[43mpickle_module\u001B[49m\u001B[43m,\u001B[49m\u001B[43m \u001B[49m\u001B[43mpickle_protocol\u001B[49m\u001B[43m,\u001B[49m\u001B[43m \u001B[49m\u001B[43m_disable_byteorder_record\u001B[49m\u001B[43m)\u001B[49m\n\u001B[0;32m    653\u001B[0m     \u001B[38;5;28;01mreturn\u001B[39;00m\n",
      "File \u001B[1;32m~\\anaconda3\\envs\\dfr\\lib\\site-packages\\torch\\serialization.py:886\u001B[0m, in \u001B[0;36m_save\u001B[1;34m(obj, zip_file, pickle_module, pickle_protocol, _disable_byteorder_record)\u001B[0m\n\u001B[0;32m    885\u001B[0m num_bytes \u001B[38;5;241m=\u001B[39m storage\u001B[38;5;241m.\u001B[39mnbytes()\n\u001B[1;32m--> 886\u001B[0m \u001B[43mzip_file\u001B[49m\u001B[38;5;241;43m.\u001B[39;49m\u001B[43mwrite_record\u001B[49m\u001B[43m(\u001B[49m\u001B[43mname\u001B[49m\u001B[43m,\u001B[49m\u001B[43m \u001B[49m\u001B[43mstorage\u001B[49m\u001B[43m,\u001B[49m\u001B[43m \u001B[49m\u001B[43mnum_bytes\u001B[49m\u001B[43m)\u001B[49m\n",
      "\u001B[1;31mRuntimeError\u001B[0m: [enforce fail at inline_container.cc:783] . PytorchStreamWriter failed writing file data/62: file write failed",
      "\nDuring handling of the above exception, another exception occurred:\n",
      "\u001B[1;31mRuntimeError\u001B[0m                              Traceback (most recent call last)",
      "Cell \u001B[1;32mIn[4], line 4\u001B[0m\n\u001B[0;32m      2\u001B[0m tv_ckpt  \u001B[38;5;241m=\u001B[39m torch\u001B[38;5;241m.\u001B[39mload(\u001B[38;5;124m'\u001B[39m\u001B[38;5;124mF:/model_stuff/vit_isic_v2.pt\u001B[39m\u001B[38;5;124m'\u001B[39m, map_location\u001B[38;5;241m=\u001B[39m\u001B[38;5;124m'\u001B[39m\u001B[38;5;124mcpu\u001B[39m\u001B[38;5;124m'\u001B[39m)\n\u001B[0;32m      3\u001B[0m timm_ckpt \u001B[38;5;241m=\u001B[39m _convert_torchvision_vit(tv_ckpt)\n\u001B[1;32m----> 4\u001B[0m \u001B[43mtorch\u001B[49m\u001B[38;5;241;43m.\u001B[39;49m\u001B[43msave\u001B[49m\u001B[43m(\u001B[49m\u001B[43mtimm_ckpt\u001B[49m\u001B[43m,\u001B[49m\u001B[43m \u001B[49m\u001B[38;5;124;43m'\u001B[39;49m\u001B[38;5;124;43mC:/Users/elmop/deep_feature_reweighting/deep_feature_reweighting/dfr/logs/vit_isic_v2_timm.pth\u001B[39;49m\u001B[38;5;124;43m'\u001B[39;49m\u001B[43m)\u001B[49m\n",
      "File \u001B[1;32m~\\anaconda3\\envs\\dfr\\lib\\site-packages\\torch\\serialization.py:651\u001B[0m, in \u001B[0;36msave\u001B[1;34m(obj, f, pickle_module, pickle_protocol, _use_new_zipfile_serialization, _disable_byteorder_record)\u001B[0m\n\u001B[0;32m    648\u001B[0m _check_save_filelike(f)\n\u001B[0;32m    650\u001B[0m \u001B[38;5;28;01mif\u001B[39;00m _use_new_zipfile_serialization:\n\u001B[1;32m--> 651\u001B[0m     \u001B[38;5;28;01mwith\u001B[39;00m _open_zipfile_writer(f) \u001B[38;5;28;01mas\u001B[39;00m opened_zipfile:\n\u001B[0;32m    652\u001B[0m         _save(obj, opened_zipfile, pickle_module, pickle_protocol, _disable_byteorder_record)\n\u001B[0;32m    653\u001B[0m         \u001B[38;5;28;01mreturn\u001B[39;00m\n",
      "File \u001B[1;32m~\\anaconda3\\envs\\dfr\\lib\\site-packages\\torch\\serialization.py:499\u001B[0m, in \u001B[0;36m_open_zipfile_writer_file.__exit__\u001B[1;34m(self, *args)\u001B[0m\n\u001B[0;32m    498\u001B[0m \u001B[38;5;28;01mdef\u001B[39;00m \u001B[38;5;21m__exit__\u001B[39m(\u001B[38;5;28mself\u001B[39m, \u001B[38;5;241m*\u001B[39margs) \u001B[38;5;241m-\u001B[39m\u001B[38;5;241m>\u001B[39m \u001B[38;5;28;01mNone\u001B[39;00m:\n\u001B[1;32m--> 499\u001B[0m     \u001B[38;5;28;43mself\u001B[39;49m\u001B[38;5;241;43m.\u001B[39;49m\u001B[43mfile_like\u001B[49m\u001B[38;5;241;43m.\u001B[39;49m\u001B[43mwrite_end_of_file\u001B[49m\u001B[43m(\u001B[49m\u001B[43m)\u001B[49m\n\u001B[0;32m    500\u001B[0m     \u001B[38;5;28;01mif\u001B[39;00m \u001B[38;5;28mself\u001B[39m\u001B[38;5;241m.\u001B[39mfile_stream \u001B[38;5;129;01mis\u001B[39;00m \u001B[38;5;129;01mnot\u001B[39;00m \u001B[38;5;28;01mNone\u001B[39;00m:\n\u001B[0;32m    501\u001B[0m         \u001B[38;5;28mself\u001B[39m\u001B[38;5;241m.\u001B[39mfile_stream\u001B[38;5;241m.\u001B[39mclose()\n",
      "\u001B[1;31mRuntimeError\u001B[0m: [enforce fail at inline_container.cc:603] . unexpected pos 246364672 vs 246364560"
     ]
    }
   ],
   "source": [
    "import torch\n",
    "tv_ckpt  = torch.load('F:/model_stuff/vit_isic_v2.pt', map_location='cpu')\n",
    "timm_ckpt = _convert_torchvision_vit(tv_ckpt)\n",
    "torch.save(timm_ckpt, 'C:/Users/elmop/deep_feature_reweighting/deep_feature_reweighting/dfr/logs/vit_isic_v2_timm.pth')"
   ],
   "metadata": {
    "collapsed": false,
    "ExecuteTime": {
     "end_time": "2025-06-04T11:02:17.144603500Z",
     "start_time": "2025-06-04T11:01:36.186487100Z"
    }
   },
   "id": "36fc60a40fbf1465",
   "execution_count": 4
  },
  {
   "cell_type": "code",
   "outputs": [],
   "source": [],
   "metadata": {
    "collapsed": false
   },
   "id": "9a0a114d66b4f085"
  }
 ],
 "metadata": {
  "kernelspec": {
   "display_name": "Python 3",
   "language": "python",
   "name": "python3"
  },
  "language_info": {
   "codemirror_mode": {
    "name": "ipython",
    "version": 2
   },
   "file_extension": ".py",
   "mimetype": "text/x-python",
   "name": "python",
   "nbconvert_exporter": "python",
   "pygments_lexer": "ipython2",
   "version": "2.7.6"
  }
 },
 "nbformat": 4,
 "nbformat_minor": 5
}
