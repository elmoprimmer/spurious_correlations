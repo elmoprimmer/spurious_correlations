{
 "cells": [
  {
   "cell_type": "code",
   "execution_count": 1,
   "id": "c9522649-295e-4ecd-8d79-160a5bbde2ec",
   "metadata": {
    "ExecuteTime": {
     "end_time": "2025-07-07T07:57:58.832082900Z",
     "start_time": "2025-07-07T07:57:51.299223700Z"
    },
    "collapsed": false,
    "editable": true,
    "jupyter": {
     "outputs_hidden": false
    },
    "slideshow": {
     "slide_type": ""
    },
    "tags": []
   },
   "outputs": [],
   "source": [
    "import sys\n",
    "import os\n",
    "import math\n",
    "import numpy as np\n",
    "import torch\n",
    "sys.path.append(os.path.abspath(os.path.join(os.path.dirname(\"ide\"), '../..')))\n",
    "#sys.path.append(os.path.abspath(os.path.join(os.path.dirname(\"deep_feature_reweighting\"), '../..')))"
   ]
  },
  {
   "cell_type": "code",
   "execution_count": 2,
   "id": "f8142138fed1da1c",
   "metadata": {
    "ExecuteTime": {
     "end_time": "2025-07-01T17:40:03.702680700Z",
     "start_time": "2025-07-01T17:40:00.885679700Z"
    },
    "collapsed": false,
    "editable": true,
    "jupyter": {
     "outputs_hidden": false
    },
    "slideshow": {
     "slide_type": ""
    },
    "tags": []
   },
   "outputs": [],
   "source": [
    "#ckpt = torch.load(\"F:/model_stuff/r90e20 wb/checkpoint-best.pth\", map_location=torch.device('cpu'))['model']\n",
    "ckpt = torch.load(\"/home/primmere/ide/external/wdpruning/logs/wb/r90e50val/checkpoint-best.pth\", map_location=torch.device('cuda'),weights_only=False)['model']"
   ]
  },
  {
   "cell_type": "code",
   "execution_count": 3,
   "id": "78019aa7468cefc7",
   "metadata": {
    "ExecuteTime": {
     "end_time": "2025-07-01T17:40:06.477866800Z",
     "start_time": "2025-07-01T17:40:03.713679900Z"
    },
    "collapsed": false,
    "editable": true,
    "jupyter": {
     "outputs_hidden": false
    },
    "slideshow": {
     "slide_type": ""
    },
    "tags": []
   },
   "outputs": [
    {
     "name": "stdout",
     "output_type": "stream",
     "text": [
      "using stride: 16, and patch number is num_y14 * num_x14\n",
      "using drop_out rate is : 0.0\n",
      "using attn_drop_out rate is : 0.0\n",
      "using drop_path rate is : 0.1\n",
      "using stride: 16, and patch number is num_y14 * num_x14\n",
      "using drop_out rate is : 0.0\n",
      "using attn_drop_out rate is : 0.0\n",
      "using drop_path rate is : 0.1\n"
     ]
    }
   ],
   "source": [
    "from external.wdpruning.vit_wdpruning import VisionTransformerWithWDPruning\n",
    "\n",
    "model = VisionTransformerWithWDPruning(num_classes=2,\n",
    "                                       patch_size=16, embed_dim=768,\n",
    "                                       depth=12, num_heads=12, mlp_ratio=4,\n",
    "                                       head_pruning=True, fc_pruning=True)\n",
    "\n",
    "model2 = VisionTransformerWithWDPruning(num_classes=2,\n",
    "                                       patch_size=16, embed_dim=768,\n",
    "                                       depth=12, num_heads=12, mlp_ratio=4,\n",
    "                                       head_pruning=True, fc_pruning=True)"
   ]
  },
  {
   "cell_type": "code",
   "execution_count": 4,
   "id": "fd724e5e3f9a7df5",
   "metadata": {
    "ExecuteTime": {
     "end_time": "2025-07-01T17:40:07.011764800Z",
     "start_time": "2025-07-01T17:40:06.480864400Z"
    },
    "collapsed": false,
    "jupyter": {
     "outputs_hidden": false
    }
   },
   "outputs": [
    {
     "data": {
      "text/plain": [
       "_IncompatibleKeys(missing_keys=[], unexpected_keys=['norm_classifier.2.weight', 'norm_classifier.2.bias', 'head_classifier.2.weight', 'head_classifier.2.bias'])"
      ]
     },
     "execution_count": 4,
     "metadata": {},
     "output_type": "execute_result"
    }
   ],
   "source": [
    "model.load_state_dict(ckpt, strict=False)\n",
    "model2.load_state_dict(ckpt, strict=False)"
   ]
  },
  {
   "cell_type": "code",
   "execution_count": 5,
   "id": "110a6c29f97fd440",
   "metadata": {
    "ExecuteTime": {
     "end_time": "2025-07-01T17:40:07.096764500Z",
     "start_time": "2025-07-01T17:40:07.024762400Z"
    },
    "collapsed": false,
    "jupyter": {
     "outputs_hidden": false
    }
   },
   "outputs": [],
   "source": [
    "def count_parameters(model):\n",
    "    params = sum(p.numel() for n,p in model.named_parameters() if p.requires_grad and 'blocks' in n)\n",
    "    return params"
   ]
  },
  {
   "cell_type": "code",
   "execution_count": 6,
   "id": "33b8541bd6876aaa",
   "metadata": {
    "ExecuteTime": {
     "end_time": "2025-07-01T17:40:07.620645800Z",
     "start_time": "2025-07-01T17:40:07.047761900Z"
    },
    "collapsed": false,
    "editable": true,
    "jupyter": {
     "outputs_hidden": false
    },
    "slideshow": {
     "slide_type": ""
    },
    "tags": []
   },
   "outputs": [],
   "source": [
    "model._make_structural_pruning()\n"
   ]
  },
  {
   "cell_type": "code",
   "execution_count": 7,
   "id": "1ba320c2e6a092a8",
   "metadata": {
    "ExecuteTime": {
     "end_time": "2025-07-01T17:40:08.016403500Z",
     "start_time": "2025-07-01T17:40:07.564404300Z"
    },
    "collapsed": false,
    "jupyter": {
     "outputs_hidden": false
    }
   },
   "outputs": [
    {
     "name": "stdout",
     "output_type": "stream",
     "text": [
      "85109952\n",
      "85054464\n",
      "0.9993480433404545\n"
     ]
    }
   ],
   "source": [
    "pre = count_parameters(model2)\n",
    "post = count_parameters(model)\n",
    "print(pre)\n",
    "print(post)\n",
    "print(post/pre)"
   ]
  },
  {
   "cell_type": "code",
   "execution_count": 27,
   "id": "56936ddca9c8d769",
   "metadata": {
    "ExecuteTime": {
     "end_time": "2025-07-01T17:40:08.727724Z",
     "start_time": "2025-07-01T17:40:07.620645800Z"
    },
    "collapsed": false,
    "jupyter": {
     "outputs_hidden": false
    },
    "scrolled": true
   },
   "outputs": [
    {
     "name": "stdout",
     "output_type": "stream",
     "text": [
      "done\n"
     ]
    }
   ],
   "source": [
    "for name, param in model.named_parameters():\n",
    "    for name2, param2 in model2.named_parameters():\n",
    "        if name == name2:\n",
    "            if param.size()!=param2.size():\n",
    "                print(name)\n",
    "                print(param.size())\n",
    "                print(param2.size())\n",
    "        #print(param)\n",
    "print(\"done\")"
   ]
  },
  {
   "cell_type": "code",
   "execution_count": 10,
   "id": "e9b31d03247b487",
   "metadata": {
    "ExecuteTime": {
     "end_time": "2025-07-01T17:40:10.355474Z",
     "start_time": "2025-07-01T17:40:08.439080200Z"
    },
    "collapsed": false,
    "jupyter": {
     "outputs_hidden": false
    },
    "scrolled": true
   },
   "outputs": [
    {
     "name": "stdout",
     "output_type": "stream",
     "text": [
      "blocks.0.attn.qkv.head_saliency_scores\n",
      "torch.Size([12, 1])\n",
      "Parameter containing:\n",
      "tensor([[ 0.0034],\n",
      "        [ 0.0059],\n",
      "        [ 0.0008],\n",
      "        [ 0.0029],\n",
      "        [ 0.0018],\n",
      "        [-0.0035],\n",
      "        [ 0.0030],\n",
      "        [ 0.0019],\n",
      "        [-0.0029],\n",
      "        [ 0.0011],\n",
      "        [ 0.0004],\n",
      "        [-0.0012]], requires_grad=True)\n",
      "blocks.1.attn.qkv.head_saliency_scores\n",
      "torch.Size([12, 1])\n",
      "Parameter containing:\n",
      "tensor([[ 2.3251e-04],\n",
      "        [-3.3665e-04],\n",
      "        [ 9.3405e-04],\n",
      "        [-9.7161e-04],\n",
      "        [ 5.6230e-04],\n",
      "        [ 5.4293e-03],\n",
      "        [-6.7269e-04],\n",
      "        [-2.6583e-03],\n",
      "        [-2.3133e-06],\n",
      "        [-5.8304e-04],\n",
      "        [ 6.5214e-03],\n",
      "        [-8.2193e-04]], requires_grad=True)\n",
      "blocks.2.attn.qkv.head_saliency_scores\n",
      "torch.Size([12, 1])\n",
      "Parameter containing:\n",
      "tensor([[ 1.5943e-03],\n",
      "        [-1.5297e-03],\n",
      "        [ 8.1663e-05],\n",
      "        [ 1.1283e-04],\n",
      "        [-1.4587e-03],\n",
      "        [ 8.5676e-03],\n",
      "        [-7.6784e-05],\n",
      "        [ 6.7360e-03],\n",
      "        [ 1.0695e-04],\n",
      "        [-5.9015e-04],\n",
      "        [ 7.7576e-03],\n",
      "        [-2.6582e-03]], requires_grad=True)\n",
      "blocks.3.attn.qkv.head_saliency_scores\n",
      "torch.Size([12, 1])\n",
      "Parameter containing:\n",
      "tensor([[ 0.0003],\n",
      "        [ 0.0006],\n",
      "        [-0.0004],\n",
      "        [-0.0008],\n",
      "        [-0.0011],\n",
      "        [-0.0003],\n",
      "        [ 0.0058],\n",
      "        [ 0.0056],\n",
      "        [ 0.0015],\n",
      "        [-0.0025],\n",
      "        [ 0.0017],\n",
      "        [-0.0009]], requires_grad=True)\n",
      "blocks.4.attn.qkv.head_saliency_scores\n",
      "torch.Size([12, 1])\n",
      "Parameter containing:\n",
      "tensor([[ 0.0036],\n",
      "        [ 0.0035],\n",
      "        [-0.0006],\n",
      "        [ 0.0024],\n",
      "        [ 0.0014],\n",
      "        [ 0.0003],\n",
      "        [ 0.0021],\n",
      "        [ 0.0007],\n",
      "        [ 0.0013],\n",
      "        [ 0.0025],\n",
      "        [ 0.0030],\n",
      "        [ 0.0022]], requires_grad=True)\n",
      "blocks.5.attn.qkv.head_saliency_scores\n",
      "torch.Size([12, 1])\n",
      "Parameter containing:\n",
      "tensor([[ 0.0026],\n",
      "        [ 0.0011],\n",
      "        [ 0.0014],\n",
      "        [ 0.0037],\n",
      "        [-0.0007],\n",
      "        [ 0.0008],\n",
      "        [ 0.0001],\n",
      "        [ 0.0031],\n",
      "        [ 0.0003],\n",
      "        [ 0.0033],\n",
      "        [ 0.0019],\n",
      "        [-0.0002]], requires_grad=True)\n",
      "blocks.6.attn.qkv.head_saliency_scores\n",
      "torch.Size([12, 1])\n",
      "Parameter containing:\n",
      "tensor([[ 1.4029e-03],\n",
      "        [ 2.2639e-03],\n",
      "        [ 5.4259e-04],\n",
      "        [ 9.1138e-04],\n",
      "        [ 3.3918e-03],\n",
      "        [ 8.5855e-06],\n",
      "        [ 2.0505e-03],\n",
      "        [ 7.3023e-04],\n",
      "        [ 1.1573e-03],\n",
      "        [-3.1809e-04],\n",
      "        [ 3.7321e-03],\n",
      "        [-1.2003e-04]], requires_grad=True)\n",
      "blocks.7.attn.qkv.head_saliency_scores\n",
      "torch.Size([12, 1])\n",
      "Parameter containing:\n",
      "tensor([[ 0.0008],\n",
      "        [ 0.0022],\n",
      "        [ 0.0023],\n",
      "        [ 0.0024],\n",
      "        [ 0.0025],\n",
      "        [ 0.0004],\n",
      "        [ 0.0008],\n",
      "        [-0.0003],\n",
      "        [ 0.0027],\n",
      "        [ 0.0004],\n",
      "        [ 0.0024],\n",
      "        [ 0.0004]], requires_grad=True)\n",
      "blocks.8.attn.qkv.head_saliency_scores\n",
      "torch.Size([12, 1])\n",
      "Parameter containing:\n",
      "tensor([[-2.0172e-04],\n",
      "        [ 7.2590e-04],\n",
      "        [ 2.1524e-04],\n",
      "        [ 8.2863e-05],\n",
      "        [ 3.4624e-03],\n",
      "        [ 3.0494e-03],\n",
      "        [ 2.8482e-03],\n",
      "        [ 3.7555e-05],\n",
      "        [ 1.0816e-03],\n",
      "        [ 8.6895e-04],\n",
      "        [-1.2959e-03],\n",
      "        [ 1.1946e-03]], requires_grad=True)\n",
      "blocks.9.attn.qkv.head_saliency_scores\n",
      "torch.Size([12, 1])\n",
      "Parameter containing:\n",
      "tensor([[-0.0006],\n",
      "        [ 0.0001],\n",
      "        [ 0.0021],\n",
      "        [ 0.0018],\n",
      "        [ 0.0003],\n",
      "        [ 0.0017],\n",
      "        [ 0.0025],\n",
      "        [ 0.0006],\n",
      "        [ 0.0002],\n",
      "        [ 0.0008],\n",
      "        [ 0.0017],\n",
      "        [-0.0009]], requires_grad=True)\n",
      "blocks.10.attn.qkv.head_saliency_scores\n",
      "torch.Size([12, 1])\n",
      "Parameter containing:\n",
      "tensor([[-1.7363e-03],\n",
      "        [-3.9436e-04],\n",
      "        [ 1.1396e-03],\n",
      "        [-1.1635e-05],\n",
      "        [-9.7784e-05],\n",
      "        [-8.5902e-04],\n",
      "        [ 1.4761e-03],\n",
      "        [ 2.0507e-03],\n",
      "        [ 2.7272e-03],\n",
      "        [ 6.0748e-04],\n",
      "        [ 1.8104e-03],\n",
      "        [-7.0468e-04]], requires_grad=True)\n",
      "blocks.11.attn.qkv.head_saliency_scores\n",
      "torch.Size([12, 1])\n",
      "Parameter containing:\n",
      "tensor([[-0.0013],\n",
      "        [-0.0011],\n",
      "        [-0.0001],\n",
      "        [-0.0008],\n",
      "        [ 0.0004],\n",
      "        [-0.0006],\n",
      "        [ 0.0002],\n",
      "        [-0.0015],\n",
      "        [-0.0014],\n",
      "        [ 0.0011],\n",
      "        [-0.0003],\n",
      "        [ 0.0003]], requires_grad=True)\n"
     ]
    }
   ],
   "source": [
    "for name, param in model2.named_parameters():\n",
    "    if param.requires_grad and 'blocks' in name and \"attn.qkv.head_saliency_scores\" in name:\n",
    "        print(name)\n",
    "        print(param.size())\n",
    "        print(param)"
   ]
  },
  {
   "cell_type": "code",
   "execution_count": 11,
   "id": "b43d1d5e67f0b28a",
   "metadata": {
    "ExecuteTime": {
     "end_time": "2025-07-01T17:40:10.870635800Z",
     "start_time": "2025-07-01T17:40:10.176755600Z"
    },
    "collapsed": false,
    "jupyter": {
     "outputs_hidden": false
    },
    "scrolled": true
   },
   "outputs": [
    {
     "name": "stdout",
     "output_type": "stream",
     "text": [
      "blocks.0.attn.qkv.head_saliency_scores\n",
      "torch.Size([12, 1])\n",
      "Parameter containing:\n",
      "tensor([[ 0.0034],\n",
      "        [ 0.0059],\n",
      "        [ 0.0008],\n",
      "        [ 0.0029],\n",
      "        [ 0.0018],\n",
      "        [-0.0035],\n",
      "        [ 0.0030],\n",
      "        [ 0.0019],\n",
      "        [-0.0029],\n",
      "        [ 0.0011],\n",
      "        [ 0.0004],\n",
      "        [-0.0012]], requires_grad=True)\n",
      "blocks.0.attn.qkv.threshold_head\n",
      "torch.Size([1])\n",
      "Parameter containing:\n",
      "tensor([10.0939], requires_grad=True)\n",
      "blocks.1.attn.qkv.head_saliency_scores\n",
      "torch.Size([12, 1])\n",
      "Parameter containing:\n",
      "tensor([[ 2.3251e-04],\n",
      "        [-3.3665e-04],\n",
      "        [ 9.3405e-04],\n",
      "        [-9.7161e-04],\n",
      "        [ 5.6230e-04],\n",
      "        [ 5.4293e-03],\n",
      "        [-6.7269e-04],\n",
      "        [-2.6583e-03],\n",
      "        [-2.3133e-06],\n",
      "        [-5.8304e-04],\n",
      "        [ 6.5214e-03],\n",
      "        [-8.2193e-04]], requires_grad=True)\n",
      "blocks.1.attn.qkv.threshold_head\n",
      "torch.Size([1])\n",
      "Parameter containing:\n",
      "tensor([9.9970], requires_grad=True)\n",
      "blocks.2.attn.qkv.head_saliency_scores\n",
      "torch.Size([12, 1])\n",
      "Parameter containing:\n",
      "tensor([[ 1.5943e-03],\n",
      "        [-1.5297e-03],\n",
      "        [ 8.1663e-05],\n",
      "        [ 1.1283e-04],\n",
      "        [-1.4587e-03],\n",
      "        [ 8.5676e-03],\n",
      "        [-7.6784e-05],\n",
      "        [ 6.7360e-03],\n",
      "        [ 1.0695e-04],\n",
      "        [-5.9015e-04],\n",
      "        [ 7.7576e-03],\n",
      "        [-2.6582e-03]], requires_grad=True)\n",
      "blocks.2.attn.qkv.threshold_head\n",
      "torch.Size([1])\n",
      "Parameter containing:\n",
      "tensor([10.0504], requires_grad=True)\n",
      "blocks.3.attn.qkv.head_saliency_scores\n",
      "torch.Size([12, 1])\n",
      "Parameter containing:\n",
      "tensor([[ 0.0003],\n",
      "        [ 0.0006],\n",
      "        [-0.0004],\n",
      "        [-0.0008],\n",
      "        [-0.0011],\n",
      "        [-0.0003],\n",
      "        [ 0.0058],\n",
      "        [ 0.0056],\n",
      "        [ 0.0015],\n",
      "        [-0.0025],\n",
      "        [ 0.0017],\n",
      "        [-0.0009]], requires_grad=True)\n",
      "blocks.3.attn.qkv.threshold_head\n",
      "torch.Size([1])\n",
      "Parameter containing:\n",
      "tensor([10.0204], requires_grad=True)\n",
      "blocks.4.attn.qkv.head_saliency_scores\n",
      "torch.Size([12, 1])\n",
      "Parameter containing:\n",
      "tensor([[ 0.0036],\n",
      "        [ 0.0035],\n",
      "        [-0.0006],\n",
      "        [ 0.0024],\n",
      "        [ 0.0014],\n",
      "        [ 0.0003],\n",
      "        [ 0.0021],\n",
      "        [ 0.0007],\n",
      "        [ 0.0013],\n",
      "        [ 0.0025],\n",
      "        [ 0.0030],\n",
      "        [ 0.0022]], requires_grad=True)\n",
      "blocks.4.attn.qkv.threshold_head\n",
      "torch.Size([1])\n",
      "Parameter containing:\n",
      "tensor([10.0899], requires_grad=True)\n",
      "blocks.5.attn.qkv.head_saliency_scores\n",
      "torch.Size([12, 1])\n",
      "Parameter containing:\n",
      "tensor([[ 0.0026],\n",
      "        [ 0.0011],\n",
      "        [ 0.0014],\n",
      "        [ 0.0037],\n",
      "        [-0.0007],\n",
      "        [ 0.0008],\n",
      "        [ 0.0001],\n",
      "        [ 0.0031],\n",
      "        [ 0.0003],\n",
      "        [ 0.0033],\n",
      "        [ 0.0019],\n",
      "        [-0.0002]], requires_grad=True)\n",
      "blocks.5.attn.qkv.threshold_head\n",
      "torch.Size([1])\n",
      "Parameter containing:\n",
      "tensor([10.0553], requires_grad=True)\n",
      "blocks.6.attn.qkv.head_saliency_scores\n",
      "torch.Size([12, 1])\n",
      "Parameter containing:\n",
      "tensor([[ 1.4029e-03],\n",
      "        [ 2.2639e-03],\n",
      "        [ 5.4259e-04],\n",
      "        [ 9.1138e-04],\n",
      "        [ 3.3918e-03],\n",
      "        [ 8.5855e-06],\n",
      "        [ 2.0505e-03],\n",
      "        [ 7.3023e-04],\n",
      "        [ 1.1573e-03],\n",
      "        [-3.1809e-04],\n",
      "        [ 3.7321e-03],\n",
      "        [-1.2003e-04]], requires_grad=True)\n",
      "blocks.6.attn.qkv.threshold_head\n",
      "torch.Size([1])\n",
      "Parameter containing:\n",
      "tensor([10.0570], requires_grad=True)\n",
      "blocks.7.attn.qkv.head_saliency_scores\n",
      "torch.Size([12, 1])\n",
      "Parameter containing:\n",
      "tensor([[ 0.0008],\n",
      "        [ 0.0022],\n",
      "        [ 0.0023],\n",
      "        [ 0.0024],\n",
      "        [ 0.0025],\n",
      "        [ 0.0004],\n",
      "        [ 0.0008],\n",
      "        [-0.0003],\n",
      "        [ 0.0027],\n",
      "        [ 0.0004],\n",
      "        [ 0.0024],\n",
      "        [ 0.0004]], requires_grad=True)\n",
      "blocks.7.attn.qkv.threshold_head\n",
      "torch.Size([1])\n",
      "Parameter containing:\n",
      "tensor([10.0619], requires_grad=True)\n",
      "blocks.8.attn.qkv.head_saliency_scores\n",
      "torch.Size([12, 1])\n",
      "Parameter containing:\n",
      "tensor([[-2.0172e-04],\n",
      "        [ 7.2590e-04],\n",
      "        [ 2.1524e-04],\n",
      "        [ 8.2863e-05],\n",
      "        [ 3.4624e-03],\n",
      "        [ 3.0494e-03],\n",
      "        [ 2.8482e-03],\n",
      "        [ 3.7555e-05],\n",
      "        [ 1.0816e-03],\n",
      "        [ 8.6895e-04],\n",
      "        [-1.2959e-03],\n",
      "        [ 1.1946e-03]], requires_grad=True)\n",
      "blocks.8.attn.qkv.threshold_head\n",
      "torch.Size([1])\n",
      "Parameter containing:\n",
      "tensor([10.0250], requires_grad=True)\n",
      "blocks.9.attn.qkv.head_saliency_scores\n",
      "torch.Size([12, 1])\n",
      "Parameter containing:\n",
      "tensor([[-0.0006],\n",
      "        [ 0.0001],\n",
      "        [ 0.0021],\n",
      "        [ 0.0018],\n",
      "        [ 0.0003],\n",
      "        [ 0.0017],\n",
      "        [ 0.0025],\n",
      "        [ 0.0006],\n",
      "        [ 0.0002],\n",
      "        [ 0.0008],\n",
      "        [ 0.0017],\n",
      "        [-0.0009]], requires_grad=True)\n",
      "blocks.9.attn.qkv.threshold_head\n",
      "torch.Size([1])\n",
      "Parameter containing:\n",
      "tensor([10.0243], requires_grad=True)\n",
      "blocks.10.attn.qkv.head_saliency_scores\n",
      "torch.Size([12, 1])\n",
      "Parameter containing:\n",
      "tensor([[-1.7363e-03],\n",
      "        [-3.9436e-04],\n",
      "        [ 1.1396e-03],\n",
      "        [-1.1635e-05],\n",
      "        [-9.7784e-05],\n",
      "        [-8.5902e-04],\n",
      "        [ 1.4761e-03],\n",
      "        [ 2.0507e-03],\n",
      "        [ 2.7272e-03],\n",
      "        [ 6.0748e-04],\n",
      "        [ 1.8104e-03],\n",
      "        [-7.0468e-04]], requires_grad=True)\n",
      "blocks.10.attn.qkv.threshold_head\n",
      "torch.Size([1])\n",
      "Parameter containing:\n",
      "tensor([9.9954], requires_grad=True)\n",
      "blocks.11.attn.qkv.head_saliency_scores\n",
      "torch.Size([12, 1])\n",
      "Parameter containing:\n",
      "tensor([[-0.0013],\n",
      "        [-0.0011],\n",
      "        [-0.0001],\n",
      "        [-0.0008],\n",
      "        [ 0.0004],\n",
      "        [-0.0006],\n",
      "        [ 0.0002],\n",
      "        [-0.0015],\n",
      "        [-0.0014],\n",
      "        [ 0.0011],\n",
      "        [-0.0003],\n",
      "        [ 0.0003]], requires_grad=True)\n",
      "blocks.11.attn.qkv.threshold_head\n",
      "torch.Size([1])\n",
      "Parameter containing:\n",
      "tensor([9.9754], requires_grad=True)\n"
     ]
    }
   ],
   "source": [
    "total_params = 0\n",
    "for name, param in model2.named_parameters():\n",
    "    if param.requires_grad and 'blocks' in name and \"head\" in name:\n",
    "        print(name)\n",
    "        print(param.size())\n",
    "        print(param)"
   ]
  },
  {
   "cell_type": "code",
   "execution_count": 12,
   "id": "95a8ae3a63e11a83",
   "metadata": {
    "ExecuteTime": {
     "end_time": "2025-07-01T17:40:11.382634Z",
     "start_time": "2025-07-01T17:40:10.242348100Z"
    },
    "collapsed": false,
    "jupyter": {
     "outputs_hidden": false
    }
   },
   "outputs": [
    {
     "data": {
      "text/plain": [
       "torch.Size([2304, 768])"
      ]
     },
     "execution_count": 12,
     "metadata": {},
     "output_type": "execute_result"
    }
   ],
   "source": [
    "model.blocks[10].attn.qkv.weight.shape"
   ]
  },
  {
   "cell_type": "code",
   "execution_count": 13,
   "id": "4f61635d1a45fff1",
   "metadata": {
    "ExecuteTime": {
     "end_time": "2025-07-01T17:40:12.618320300Z",
     "start_time": "2025-07-01T17:40:11.152335500Z"
    },
    "collapsed": false,
    "jupyter": {
     "outputs_hidden": false
    }
   },
   "outputs": [],
   "source": [
    "from pruner.modules.binarizer import TopKBinarizer"
   ]
  },
  {
   "cell_type": "code",
   "execution_count": 14,
   "id": "fb9a7b6b6d5010a6",
   "metadata": {
    "ExecuteTime": {
     "end_time": "2025-07-01T17:46:55.838595600Z",
     "start_time": "2025-07-01T17:46:55.776070500Z"
    },
    "collapsed": false,
    "jupyter": {
     "outputs_hidden": false
    }
   },
   "outputs": [
    {
     "name": "stdout",
     "output_type": "stream",
     "text": [
      "Parameter containing:\n",
      "tensor([[-1.7363e-03],\n",
      "        [-3.9436e-04],\n",
      "        [ 1.1396e-03],\n",
      "        [-1.1635e-05],\n",
      "        [-9.7784e-05],\n",
      "        [-8.5902e-04],\n",
      "        [ 1.4761e-03],\n",
      "        [ 2.0507e-03],\n",
      "        [ 2.7272e-03],\n",
      "        [ 6.0748e-04],\n",
      "        [ 1.8104e-03],\n",
      "        [-7.0468e-04]], requires_grad=True)\n",
      "Parameter containing:\n",
      "tensor([9.9954], requires_grad=True)\n",
      "0.999954342842102\n",
      "tensor([[1.],\n",
      "        [1.],\n",
      "        [1.],\n",
      "        [1.],\n",
      "        [1.],\n",
      "        [1.],\n",
      "        [1.],\n",
      "        [1.],\n",
      "        [1.],\n",
      "        [1.],\n",
      "        [1.],\n",
      "        [1.]], grad_fn=<TopKBinarizerBackward>)\n"
     ]
    }
   ],
   "source": [
    "i = 10\n",
    "sal_scores = model2.blocks[i].attn.qkv.head_saliency_scores\n",
    "print(sal_scores)\n",
    "t = model2.blocks[i].attn.qkv.threshold_head\n",
    "print(t)\n",
    "print(torch.sigmoid(t).item())\n",
    "mask_head = TopKBinarizer.apply(sal_scores, t, -1)\n",
    "print(mask_head)"
   ]
  },
  {
   "cell_type": "code",
   "execution_count": 15,
   "id": "8f8f70b4-2dfc-42c4-95c8-2aefed6fd07c",
   "metadata": {
    "ExecuteTime": {
     "end_time": "2025-07-01T17:46:55.838595600Z",
     "start_time": "2025-07-01T17:46:55.776070500Z"
    }
   },
   "outputs": [
    {
     "name": "stdout",
     "output_type": "stream",
     "text": [
      "0.9999586343765259\n",
      "0.9999544620513916\n",
      "0.9999568462371826\n",
      "0.9999555349349976\n",
      "0.9999585151672363\n",
      "0.9999570846557617\n",
      "0.9999570846557617\n",
      "0.9999573230743408\n",
      "0.9999557733535767\n",
      "0.9999556541442871\n",
      "0.999954342842102\n",
      "0.9999535083770752\n"
     ]
    }
   ],
   "source": [
    "for i in range(12):\n",
    "    sal_scores = model2.blocks[i].attn.qkv.head_saliency_scores\n",
    "    #print(sal_scores)\n",
    "    t = model2.blocks[i].attn.qkv.threshold_head\n",
    "    #print(t)\n",
    "    print(torch.sigmoid(t).item())\n",
    "    mask_head = TopKBinarizer.apply(sal_scores, t, -1)\n",
    "    #print(mask_head)"
   ]
  },
  {
   "cell_type": "code",
   "execution_count": 16,
   "id": "2dfbc3c7-507b-41f2-8da8-c5e254752ce5",
   "metadata": {
    "ExecuteTime": {
     "end_time": "2025-07-01T17:46:55.838595600Z",
     "start_time": "2025-07-01T17:46:55.776070500Z"
    }
   },
   "outputs": [
    {
     "name": "stdout",
     "output_type": "stream",
     "text": [
      "0.9999580383300781\n",
      "tensor([], size=(0, 2), dtype=torch.int64)\n",
      "0.9999561309814453\n",
      "tensor([], size=(0, 2), dtype=torch.int64)\n",
      "0.9999580383300781\n",
      "tensor([], size=(0, 2), dtype=torch.int64)\n",
      "0.9999566078186035\n",
      "tensor([], size=(0, 2), dtype=torch.int64)\n",
      "0.9999563694000244\n",
      "tensor([], size=(0, 2), dtype=torch.int64)\n",
      "0.9999569654464722\n",
      "tensor([], size=(0, 2), dtype=torch.int64)\n",
      "0.9999570846557617\n",
      "tensor([], size=(0, 2), dtype=torch.int64)\n",
      "0.9999570846557617\n",
      "tensor([], size=(0, 2), dtype=torch.int64)\n",
      "0.9999539852142334\n",
      "tensor([], size=(0, 2), dtype=torch.int64)\n",
      "0.9999549388885498\n",
      "tensor([], size=(0, 2), dtype=torch.int64)\n",
      "0.9999544620513916\n",
      "tensor([], size=(0, 2), dtype=torch.int64)\n",
      "0.9999531507492065\n",
      "tensor([], size=(0, 2), dtype=torch.int64)\n"
     ]
    }
   ],
   "source": [
    "for i in range(12):\n",
    "    sal_scores = model2.blocks[i].attn.proj.saliency_scores\n",
    "    #print(sal_scores)\n",
    "    t = model2.blocks[i].attn.proj.threshold_fc\n",
    "    #print(t)\n",
    "    print(torch.sigmoid(t).item())\n",
    "    mask_head = TopKBinarizer.apply(sal_scores, t, -1)\n",
    "    print(torch.nonzero(mask_head == 0, as_tuple=False))\n"
   ]
  },
  {
   "cell_type": "code",
   "execution_count": 17,
   "id": "fb88d490b788990d",
   "metadata": {
    "ExecuteTime": {
     "end_time": "2025-07-01T18:29:53.444252100Z",
     "start_time": "2025-07-01T18:29:53.415118500Z"
    },
    "collapsed": false,
    "jupyter": {
     "outputs_hidden": false
    },
    "scrolled": true
   },
   "outputs": [
    {
     "name": "stdout",
     "output_type": "stream",
     "text": [
      "blocks.0.attn.qkv.head_saliency_scores\n",
      "torch.Size([12, 1])\n",
      "blocks.0.attn.proj.saliency_scores\n",
      "torch.Size([768, 1])\n",
      "blocks.0.mlp.fc1.saliency_scores\n",
      "torch.Size([3072, 1])\n",
      "blocks.0.mlp.fc2.saliency_scores\n",
      "torch.Size([768, 1])\n",
      "blocks.1.attn.qkv.head_saliency_scores\n",
      "torch.Size([12, 1])\n",
      "blocks.1.attn.proj.saliency_scores\n",
      "torch.Size([768, 1])\n",
      "blocks.1.mlp.fc1.saliency_scores\n",
      "torch.Size([3072, 1])\n",
      "blocks.1.mlp.fc2.saliency_scores\n",
      "torch.Size([768, 1])\n",
      "blocks.2.attn.qkv.head_saliency_scores\n",
      "torch.Size([12, 1])\n",
      "blocks.2.attn.proj.saliency_scores\n",
      "torch.Size([768, 1])\n",
      "blocks.2.mlp.fc1.saliency_scores\n",
      "torch.Size([3072, 1])\n",
      "blocks.2.mlp.fc2.saliency_scores\n",
      "torch.Size([768, 1])\n",
      "blocks.3.attn.qkv.head_saliency_scores\n",
      "torch.Size([12, 1])\n",
      "blocks.3.attn.proj.saliency_scores\n",
      "torch.Size([768, 1])\n",
      "blocks.3.mlp.fc1.saliency_scores\n",
      "torch.Size([3072, 1])\n",
      "blocks.3.mlp.fc2.saliency_scores\n",
      "torch.Size([768, 1])\n",
      "blocks.4.attn.qkv.head_saliency_scores\n",
      "torch.Size([12, 1])\n",
      "blocks.4.attn.proj.saliency_scores\n",
      "torch.Size([768, 1])\n",
      "blocks.4.mlp.fc1.saliency_scores\n",
      "torch.Size([3072, 1])\n",
      "blocks.4.mlp.fc2.saliency_scores\n",
      "torch.Size([768, 1])\n",
      "blocks.5.attn.qkv.head_saliency_scores\n",
      "torch.Size([12, 1])\n",
      "blocks.5.attn.proj.saliency_scores\n",
      "torch.Size([768, 1])\n",
      "blocks.5.mlp.fc1.saliency_scores\n",
      "torch.Size([3072, 1])\n",
      "blocks.5.mlp.fc2.saliency_scores\n",
      "torch.Size([768, 1])\n",
      "blocks.6.attn.qkv.head_saliency_scores\n",
      "torch.Size([12, 1])\n",
      "blocks.6.attn.proj.saliency_scores\n",
      "torch.Size([768, 1])\n",
      "blocks.6.mlp.fc1.saliency_scores\n",
      "torch.Size([3072, 1])\n",
      "blocks.6.mlp.fc2.saliency_scores\n",
      "torch.Size([768, 1])\n",
      "blocks.7.attn.qkv.head_saliency_scores\n",
      "torch.Size([12, 1])\n",
      "blocks.7.attn.proj.saliency_scores\n",
      "torch.Size([768, 1])\n",
      "blocks.7.mlp.fc1.saliency_scores\n",
      "torch.Size([3072, 1])\n",
      "blocks.7.mlp.fc2.saliency_scores\n",
      "torch.Size([768, 1])\n",
      "blocks.8.attn.qkv.head_saliency_scores\n",
      "torch.Size([12, 1])\n",
      "blocks.8.attn.proj.saliency_scores\n",
      "torch.Size([768, 1])\n",
      "blocks.8.mlp.fc1.saliency_scores\n",
      "torch.Size([3072, 1])\n",
      "blocks.8.mlp.fc2.saliency_scores\n",
      "torch.Size([768, 1])\n",
      "blocks.9.attn.qkv.head_saliency_scores\n",
      "torch.Size([12, 1])\n",
      "blocks.9.attn.proj.saliency_scores\n",
      "torch.Size([768, 1])\n",
      "blocks.9.mlp.fc1.saliency_scores\n",
      "torch.Size([3072, 1])\n",
      "blocks.9.mlp.fc2.saliency_scores\n",
      "torch.Size([768, 1])\n",
      "blocks.10.attn.qkv.head_saliency_scores\n",
      "torch.Size([12, 1])\n",
      "blocks.10.attn.proj.saliency_scores\n",
      "torch.Size([768, 1])\n",
      "blocks.10.mlp.fc1.saliency_scores\n",
      "torch.Size([3072, 1])\n",
      "blocks.10.mlp.fc2.saliency_scores\n",
      "torch.Size([768, 1])\n",
      "blocks.11.attn.qkv.head_saliency_scores\n",
      "torch.Size([12, 1])\n",
      "blocks.11.attn.proj.saliency_scores\n",
      "torch.Size([768, 1])\n",
      "blocks.11.mlp.fc1.saliency_scores\n",
      "torch.Size([3072, 1])\n",
      "blocks.11.mlp.fc2.saliency_scores\n",
      "torch.Size([768, 1])\n"
     ]
    }
   ],
   "source": [
    "for name, param in model2.named_parameters():\n",
    "    if param.requires_grad and 'blocks' in name and (\"saliency\") in name:\n",
    "        print(name)\n",
    "        print(param.size())\n",
    "        #print(param)"
   ]
  },
  {
   "cell_type": "code",
   "execution_count": 18,
   "id": "87fdc7c0aa051cc3",
   "metadata": {
    "ExecuteTime": {
     "end_time": "2025-07-01T18:46:51.300918700Z",
     "start_time": "2025-07-01T18:46:51.072967200Z"
    },
    "collapsed": false,
    "jupyter": {
     "outputs_hidden": false
    }
   },
   "outputs": [
    {
     "name": "stdout",
     "output_type": "stream",
     "text": [
      "0.0 0.0 0.0 0.0\n",
      "0.0 0.0 0.0 0.0\n",
      "0.0 0.0 0.0 0.0\n",
      "0.0 0.0 0.0 0.0\n",
      "0.0 0.0 0.0 0.0\n",
      "0.0 0.0 0.0 0.0\n",
      "0.0 0.0 0.0 0.0\n",
      "0.0 0.0 0.0 0.0\n",
      "0.0 0.0 0.0 0.0\n",
      "0.0 0.0 0.0 0.0\n",
      "0.0 0.0 0.0 0.0\n",
      "0.0 0.0 0.0 0.0\n",
      "[[0. 0. 0. 0.]\n",
      " [0. 0. 0. 0.]\n",
      " [0. 0. 0. 0.]\n",
      " [0. 0. 0. 0.]\n",
      " [0. 0. 0. 0.]\n",
      " [0. 0. 0. 0.]\n",
      " [0. 0. 0. 0.]\n",
      " [0. 0. 0. 0.]\n",
      " [0. 0. 0. 0.]\n",
      " [0. 0. 0. 0.]\n",
      " [0. 0. 0. 0.]\n",
      " [0. 0. 0. 0.]]\n"
     ]
    }
   ],
   "source": [
    "ratios = np.zeros((12,4), dtype=np.float32)\n",
    "\n",
    "for i in range(12):\n",
    "    proj_thr = torch.sigmoid(model2.blocks[i].attn.proj.threshold_fc).item()\n",
    "    proj_numel = model2.blocks[i].attn.proj.saliency_scores.numel() \n",
    "    attn_proj_r = 1 - math.ceil(proj_thr * proj_numel) / proj_numel \n",
    "    \n",
    "    fc1_thr = torch.sigmoid(model2.blocks[i].mlp.fc1.threshold_fc).item()\n",
    "    fc1_numel = model2.blocks[i].mlp.fc1.saliency_scores.numel()      \n",
    "    fc1_r = 1 - math.ceil(fc1_thr * fc1_numel) / fc1_numel\n",
    "    \n",
    "    fc2_thr = torch.sigmoid(model2.blocks[i].mlp.fc2.threshold_fc).item()\n",
    "    fc2_numel = model2.blocks[i].mlp.fc2.saliency_scores.numel()           \n",
    "    fc2_r = 1 - math.ceil(fc2_thr * fc2_numel) / fc2_numel\n",
    "    \n",
    "    attn_sal = model2.blocks[i].attn.qkv.head_saliency_scores\n",
    "    attn_t = torch.sigmoid(model2.blocks[i].attn.qkv.threshold_head).item()\n",
    "    attn_r = 1 - math.ceil(attn_t*attn_sal.numel())/attn_sal.numel()\n",
    "    print(attn_r, attn_proj_r, fc1_r, fc2_r, )\n",
    "\n",
    "    ratios[i] = [attn_r, attn_proj_r, fc1_r, fc2_r, ]\n",
    "    \n",
    "print(ratios)\n"
   ]
  },
  {
   "cell_type": "code",
   "execution_count": 19,
   "id": "e89883f1e2c9e0af",
   "metadata": {
    "ExecuteTime": {
     "end_time": "2025-07-01T18:40:48.248088800Z",
     "start_time": "2025-07-01T18:40:46.197538700Z"
    },
    "collapsed": false,
    "jupyter": {
     "outputs_hidden": false
    }
   },
   "outputs": [],
   "source": [
    "import matplotlib.pyplot as plt"
   ]
  },
  {
   "cell_type": "code",
   "execution_count": 20,
   "id": "e9e7a0c8515206c5",
   "metadata": {
    "ExecuteTime": {
     "end_time": "2025-07-01T18:47:03.374650Z",
     "start_time": "2025-07-01T18:47:03.120642Z"
    },
    "collapsed": false,
    "jupyter": {
     "outputs_hidden": false
    }
   },
   "outputs": [
    {
     "data": {
      "image/png": "[encoded data removed]",
      "text/plain": [
       "<Figure size 640x480 with 1 Axes>"
      ]
     },
     "metadata": {},
     "output_type": "display_data"
    }
   ],
   "source": [
    "n_layers = ratios.shape[0]              # 12\n",
    "avgs = np.sum(ratios, axis=0)/n_layers\n",
    "\n",
    "bar_width = 0.23                   # wider bars\n",
    "x = np.arange(n_layers)                 # layer centers\n",
    "\n",
    "labels = [\n",
    "    f\"attn_head r={avgs[0]:.4f}\",\n",
    "    f\"attn_proj r={avgs[1]:.4f}\",\n",
    "    f\"fc1 r={avgs[2]:.4f}\",\n",
    "    f\"fc2 r={avgs[3]:.4f}\",\n",
    "]\n",
    "# Center the 4 bars around each x position\n",
    "offsets = (np.arange(ratios.shape[1]) - (ratios.shape[1] - 1) / 2) * bar_width\n",
    "\n",
    "for j, offset in enumerate(offsets):\n",
    "    plt.bar(x + offset, ratios[:, j], width=bar_width, label=labels[j])\n",
    "\n",
    "plt.xlabel(\"Transformer block (layer index)\")\n",
    "plt.ylabel(\"Pruned fraction (1 − keep ratio)\")\n",
    "plt.title(\"Per‑layer sparsity ratios (wider bars)\")\n",
    "plt.xticks(x, [str(i) for i in range(n_layers)])\n",
    "plt.legend()\n",
    "plt.tight_layout()\n",
    "plt.show()"
   ]
  },
  {
   "cell_type": "code",
   "execution_count": 21,
   "id": "add2aab236e3525f",
   "metadata": {
    "ExecuteTime": {
     "end_time": "2025-07-07T08:00:26.136739500Z",
     "start_time": "2025-07-07T08:00:26.007346900Z"
    },
    "collapsed": false,
    "editable": true,
    "jupyter": {
     "outputs_hidden": false
    },
    "slideshow": {
     "slide_type": ""
    },
    "tags": []
   },
   "outputs": [
    {
     "name": "stdout",
     "output_type": "stream",
     "text": [
      "[[1 2 3]\n",
      " [4 5 6]]\n",
      "(2, 3)\n",
      "[2.5 3.5 4.5]\n"
     ]
    }
   ],
   "source": [
    "a = np.array([[1,2,3],[4,5,6]])\n",
    "print(a)\n",
    "print(a.shape)\n",
    "print(np.sum(a,axis=0)/2)"
   ]
  },
  {
   "cell_type": "code",
   "execution_count": 28,
   "id": "9d03f86f-031f-4ef1-8ab8-7203e6055ec3",
   "metadata": {
    "editable": true,
    "slideshow": {
     "slide_type": ""
    },
    "tags": []
   },
   "outputs": [
    {
     "name": "stdout",
     "output_type": "stream",
     "text": [
      "\n",
      "Present only in model2 (pre):\n",
      "  blocks.0.attn.proj.saliency_scores  →  shape torch.Size([768, 1])\n",
      "  blocks.0.attn.proj.threshold_fc  →  shape torch.Size([1])\n",
      "  blocks.0.attn.qkv.head_saliency_scores  →  shape torch.Size([12, 1])\n",
      "  blocks.0.attn.qkv.threshold_head  →  shape torch.Size([1])\n",
      "  blocks.0.mlp.fc1.saliency_scores  →  shape torch.Size([3072, 1])\n",
      "  blocks.0.mlp.fc1.threshold_fc  →  shape torch.Size([1])\n",
      "  blocks.0.mlp.fc2.saliency_scores  →  shape torch.Size([768, 1])\n",
      "  blocks.0.mlp.fc2.threshold_fc  →  shape torch.Size([1])\n",
      "  blocks.1.attn.proj.saliency_scores  →  shape torch.Size([768, 1])\n",
      "  blocks.1.attn.proj.threshold_fc  →  shape torch.Size([1])\n",
      "  blocks.1.attn.qkv.head_saliency_scores  →  shape torch.Size([12, 1])\n",
      "  blocks.1.attn.qkv.threshold_head  →  shape torch.Size([1])\n",
      "  blocks.1.mlp.fc1.saliency_scores  →  shape torch.Size([3072, 1])\n",
      "  blocks.1.mlp.fc1.threshold_fc  →  shape torch.Size([1])\n",
      "  blocks.1.mlp.fc2.saliency_scores  →  shape torch.Size([768, 1])\n",
      "  blocks.1.mlp.fc2.threshold_fc  →  shape torch.Size([1])\n",
      "  blocks.10.attn.proj.saliency_scores  →  shape torch.Size([768, 1])\n",
      "  blocks.10.attn.proj.threshold_fc  →  shape torch.Size([1])\n",
      "  blocks.10.attn.qkv.head_saliency_scores  →  shape torch.Size([12, 1])\n",
      "  blocks.10.attn.qkv.threshold_head  →  shape torch.Size([1])\n",
      "  blocks.10.mlp.fc1.saliency_scores  →  shape torch.Size([3072, 1])\n",
      "  blocks.10.mlp.fc1.threshold_fc  →  shape torch.Size([1])\n",
      "  blocks.10.mlp.fc2.saliency_scores  →  shape torch.Size([768, 1])\n",
      "  blocks.10.mlp.fc2.threshold_fc  →  shape torch.Size([1])\n",
      "  blocks.11.attn.proj.saliency_scores  →  shape torch.Size([768, 1])\n",
      "  blocks.11.attn.proj.threshold_fc  →  shape torch.Size([1])\n",
      "  blocks.11.attn.qkv.head_saliency_scores  →  shape torch.Size([12, 1])\n",
      "  blocks.11.attn.qkv.threshold_head  →  shape torch.Size([1])\n",
      "  blocks.11.mlp.fc1.saliency_scores  →  shape torch.Size([3072, 1])\n",
      "  blocks.11.mlp.fc1.threshold_fc  →  shape torch.Size([1])\n",
      "  blocks.11.mlp.fc2.saliency_scores  →  shape torch.Size([768, 1])\n",
      "  blocks.11.mlp.fc2.threshold_fc  →  shape torch.Size([1])\n",
      "  blocks.2.attn.proj.saliency_scores  →  shape torch.Size([768, 1])\n",
      "  blocks.2.attn.proj.threshold_fc  →  shape torch.Size([1])\n",
      "  blocks.2.attn.qkv.head_saliency_scores  →  shape torch.Size([12, 1])\n",
      "  blocks.2.attn.qkv.threshold_head  →  shape torch.Size([1])\n",
      "  blocks.2.mlp.fc1.saliency_scores  →  shape torch.Size([3072, 1])\n",
      "  blocks.2.mlp.fc1.threshold_fc  →  shape torch.Size([1])\n",
      "  blocks.2.mlp.fc2.saliency_scores  →  shape torch.Size([768, 1])\n",
      "  blocks.2.mlp.fc2.threshold_fc  →  shape torch.Size([1])\n",
      "  blocks.3.attn.proj.saliency_scores  →  shape torch.Size([768, 1])\n",
      "  blocks.3.attn.proj.threshold_fc  →  shape torch.Size([1])\n",
      "  blocks.3.attn.qkv.head_saliency_scores  →  shape torch.Size([12, 1])\n",
      "  blocks.3.attn.qkv.threshold_head  →  shape torch.Size([1])\n",
      "  blocks.3.mlp.fc1.saliency_scores  →  shape torch.Size([3072, 1])\n",
      "  blocks.3.mlp.fc1.threshold_fc  →  shape torch.Size([1])\n",
      "  blocks.3.mlp.fc2.saliency_scores  →  shape torch.Size([768, 1])\n",
      "  blocks.3.mlp.fc2.threshold_fc  →  shape torch.Size([1])\n",
      "  blocks.4.attn.proj.saliency_scores  →  shape torch.Size([768, 1])\n",
      "  blocks.4.attn.proj.threshold_fc  →  shape torch.Size([1])\n",
      "  blocks.4.attn.qkv.head_saliency_scores  →  shape torch.Size([12, 1])\n",
      "  blocks.4.attn.qkv.threshold_head  →  shape torch.Size([1])\n",
      "  blocks.4.mlp.fc1.saliency_scores  →  shape torch.Size([3072, 1])\n",
      "  blocks.4.mlp.fc1.threshold_fc  →  shape torch.Size([1])\n",
      "  blocks.4.mlp.fc2.saliency_scores  →  shape torch.Size([768, 1])\n",
      "  blocks.4.mlp.fc2.threshold_fc  →  shape torch.Size([1])\n",
      "  blocks.5.attn.proj.saliency_scores  →  shape torch.Size([768, 1])\n",
      "  blocks.5.attn.proj.threshold_fc  →  shape torch.Size([1])\n",
      "  blocks.5.attn.qkv.head_saliency_scores  →  shape torch.Size([12, 1])\n",
      "  blocks.5.attn.qkv.threshold_head  →  shape torch.Size([1])\n",
      "  blocks.5.mlp.fc1.saliency_scores  →  shape torch.Size([3072, 1])\n",
      "  blocks.5.mlp.fc1.threshold_fc  →  shape torch.Size([1])\n",
      "  blocks.5.mlp.fc2.saliency_scores  →  shape torch.Size([768, 1])\n",
      "  blocks.5.mlp.fc2.threshold_fc  →  shape torch.Size([1])\n",
      "  blocks.6.attn.proj.saliency_scores  →  shape torch.Size([768, 1])\n",
      "  blocks.6.attn.proj.threshold_fc  →  shape torch.Size([1])\n",
      "  blocks.6.attn.qkv.head_saliency_scores  →  shape torch.Size([12, 1])\n",
      "  blocks.6.attn.qkv.threshold_head  →  shape torch.Size([1])\n",
      "  blocks.6.mlp.fc1.saliency_scores  →  shape torch.Size([3072, 1])\n",
      "  blocks.6.mlp.fc1.threshold_fc  →  shape torch.Size([1])\n",
      "  blocks.6.mlp.fc2.saliency_scores  →  shape torch.Size([768, 1])\n",
      "  blocks.6.mlp.fc2.threshold_fc  →  shape torch.Size([1])\n",
      "  blocks.7.attn.proj.saliency_scores  →  shape torch.Size([768, 1])\n",
      "  blocks.7.attn.proj.threshold_fc  →  shape torch.Size([1])\n",
      "  blocks.7.attn.qkv.head_saliency_scores  →  shape torch.Size([12, 1])\n",
      "  blocks.7.attn.qkv.threshold_head  →  shape torch.Size([1])\n",
      "  blocks.7.mlp.fc1.saliency_scores  →  shape torch.Size([3072, 1])\n",
      "  blocks.7.mlp.fc1.threshold_fc  →  shape torch.Size([1])\n",
      "  blocks.7.mlp.fc2.saliency_scores  →  shape torch.Size([768, 1])\n",
      "  blocks.7.mlp.fc2.threshold_fc  →  shape torch.Size([1])\n",
      "  blocks.8.attn.proj.saliency_scores  →  shape torch.Size([768, 1])\n",
      "  blocks.8.attn.proj.threshold_fc  →  shape torch.Size([1])\n",
      "  blocks.8.attn.qkv.head_saliency_scores  →  shape torch.Size([12, 1])\n",
      "  blocks.8.attn.qkv.threshold_head  →  shape torch.Size([1])\n",
      "  blocks.8.mlp.fc1.saliency_scores  →  shape torch.Size([3072, 1])\n",
      "  blocks.8.mlp.fc1.threshold_fc  →  shape torch.Size([1])\n",
      "  blocks.8.mlp.fc2.saliency_scores  →  shape torch.Size([768, 1])\n",
      "  blocks.8.mlp.fc2.threshold_fc  →  shape torch.Size([1])\n",
      "  blocks.9.attn.proj.saliency_scores  →  shape torch.Size([768, 1])\n",
      "  blocks.9.attn.proj.threshold_fc  →  shape torch.Size([1])\n",
      "  blocks.9.attn.qkv.head_saliency_scores  →  shape torch.Size([12, 1])\n",
      "  blocks.9.attn.qkv.threshold_head  →  shape torch.Size([1])\n",
      "  blocks.9.mlp.fc1.saliency_scores  →  shape torch.Size([3072, 1])\n",
      "  blocks.9.mlp.fc1.threshold_fc  →  shape torch.Size([1])\n",
      "  blocks.9.mlp.fc2.saliency_scores  →  shape torch.Size([768, 1])\n",
      "  blocks.9.mlp.fc2.threshold_fc  →  shape torch.Size([1])\n"
     ]
    }
   ],
   "source": [
    "from collections import defaultdict\n",
    "\n",
    "def get_block_params(model, trainable_only=True):\n",
    "    \"\"\"Return a dict name ➜ tensor for parameters in 'blocks'.\"\"\"\n",
    "    return {\n",
    "        n: p\n",
    "        for n, p in model.named_parameters()\n",
    "        if 'blocks' in n and (p.requires_grad or not trainable_only)\n",
    "    }\n",
    "\n",
    "m1 = get_block_params(model)      # post\n",
    "m2 = get_block_params(model2)     # pre\n",
    "\n",
    "# 1. Names present in one model but not the other\n",
    "only_in_m1 = m1.keys() - m2.keys()\n",
    "only_in_m2 = m2.keys() - m1.keys()\n",
    "\n",
    "# 2. Shapes differ\n",
    "shape_mismatch = {\n",
    "    n: (m1[n].shape, m2[n].shape)\n",
    "    for n in m1.keys() & m2.keys()\n",
    "    if m1[n].shape != m2[n].shape\n",
    "}\n",
    "\n",
    "# 3. Same tensor but requires_grad differs\n",
    "grad_flag_diff = {\n",
    "    n: (m1[n].requires_grad, m2[n].requires_grad)\n",
    "    for n in (set(get_block_params(model, False)) |\n",
    "              set(get_block_params(model2, False)))\n",
    "    if ('blocks' in n and\n",
    "        m1.get(n, None) is not None and\n",
    "        m2.get(n, None) is not None and\n",
    "        m1[n].requires_grad != m2[n].requires_grad)\n",
    "}\n",
    "\n",
    "# --- report ------------------------------------------------------------\n",
    "if only_in_m1:\n",
    "    print(\"Present only in model (post):\")\n",
    "    for n in sorted(only_in_m1):\n",
    "        print(f\"  {n}  →  shape {m1[n].shape}\")\n",
    "\n",
    "if only_in_m2:\n",
    "    print(\"\\nPresent only in model2 (pre):\")\n",
    "    for n in sorted(only_in_m2):\n",
    "        print(f\"  {n}  →  shape {m2[n].shape}\")\n",
    "\n",
    "if shape_mismatch:\n",
    "    print(\"\\nSame name but different shape:\")\n",
    "    for n, (s1, s2) in shape_mismatch.items():\n",
    "        print(f\"  {n}: {s1} vs {s2}\")\n",
    "\n",
    "if grad_flag_diff:\n",
    "    print(\"\\nSame name/shape but requires_grad differs:\")\n",
    "    for n, (g1, g2) in grad_flag_diff.items():\n",
    "        print(f\"  {n}: model requires_grad={g1}, model2 requires_grad={g2}\")\n",
    "\n",
    "if not (only_in_m1 or only_in_m2 or shape_mismatch or grad_flag_diff):\n",
    "    print(\"No differences in 'blocks' parameters!\")\n"
   ]
  }
 ],
 "metadata": {
  "kernelspec": {
   "display_name": "dfr2",
   "language": "python",
   "name": "dfr2"
  },
  "language_info": {
   "codemirror_mode": {
    "name": "ipython",
    "version": 3
   },
   "file_extension": ".py",
   "mimetype": "text/x-python",
   "name": "python",
   "nbconvert_exporter": "python",
   "pygments_lexer": "ipython3",
   "version": "3.10.12"
  }
 },
 "nbformat": 4,
 "nbformat_minor": 5
}
