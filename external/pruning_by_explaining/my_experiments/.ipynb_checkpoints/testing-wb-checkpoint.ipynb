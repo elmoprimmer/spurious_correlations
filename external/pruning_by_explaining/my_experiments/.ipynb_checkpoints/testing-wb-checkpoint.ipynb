{
 "cells": [
  {
   "cell_type": "code",
   "execution_count": 1,
   "id": "c79d284bb264d1f6",
   "metadata": {
    "ExecuteTime": {
     "end_time": "2025-07-02T21:39:59.236365Z",
     "start_time": "2025-07-02T21:39:45.451882600Z"
    },
    "collapsed": false,
    "editable": true,
    "jupyter": {
     "outputs_hidden": false
    },
    "slideshow": {
     "slide_type": ""
    },
    "tags": []
   },
   "outputs": [],
   "source": [
    "import yaml\n",
    "import click\n",
    "import torch\n",
    "import tqdm.auto\n",
    "import numpy as np\n",
    "from torchvision.models import vit_b_16\n",
    "\n",
    "from matplotlib import pyplot as plt\n",
    "\n",
    "\n",
    "import sys\n",
    "import os\n",
    "import re\n",
    "import math\n",
    "#project_root = \"C:/Users/elmop/deep_feature_reweighting/deep_feature_reweighting/external/pruning_by_explaining\"\n",
    "project_root = \"/home/primmere/ide/external/pruning_by_explaining\"\n",
    "sys.path.insert(0, project_root)                 \n",
    "sys.path.insert(0, os.path.dirname(project_root))\n",
    "\n",
    "from pruning_by_explaining.models import ModelLoader\n",
    "from pruning_by_explaining.metrics import compute_accuracy\n",
    "from pruning_by_explaining.my_metrics import compute_worst_accuracy\n",
    "from pruning_by_explaining.my_datasets import WaterBirds, get_sample_indices_for_group, WaterBirdSubset, ISIC, ISICSubset\n",
    "from pruning_by_explaining.utils import (\n",
    "    initialize_random_seed,\n",
    "    initialize_wandb_logger,\n",
    ")\n",
    "\n",
    "\n",
    "from pruning_by_explaining.pxp import (\n",
    "    ModelLayerUtils,\n",
    "    get_cnn_composite,\n",
    "    get_vit_composite,\n",
    ")\n",
    "\n",
    "from pruning_by_explaining.pxp import GlobalPruningOperations\n",
    "from pruning_by_explaining.pxp import ComponentAttibution\n"
   ]
  },
  {
   "cell_type": "code",
   "execution_count": 2,
   "id": "d4b96b7a-1da2-4d1e-96d9-9809ff76be0a",
   "metadata": {},
   "outputs": [
    {
     "ename": "IndentationError",
     "evalue": "unindent does not match any outer indentation level (<tokenize>, line 76)",
     "output_type": "error",
     "traceback": [
      "\u001b[0;36m  File \u001b[0;32m<tokenize>:76\u001b[0;36m\u001b[0m\n\u001b[0;31m    plt.savefig(save_path)\u001b[0m\n\u001b[0m    ^\u001b[0m\n\u001b[0;31mIndentationError\u001b[0m\u001b[0;31m:\u001b[0m unindent does not match any outer indentation level\n"
     ]
    }
   ],
   "source": [
    "def visualise(global_pruning_mask_combined, prune_r, layertype = \"Linear\", save = True):\n",
    "    if layertype == \"Linear\":\n",
    "        count=0\n",
    "        ratios = np.zeros((12,2))\n",
    "        i = 0\n",
    "        for n, t in global_pruning_mask_combined.items():\n",
    "            param_total = t['Linear']['weight'].numel()\n",
    "            param_nonzero = t['Linear']['weight'].nonzero().size(0)\n",
    "            param_shape = t['Linear']['weight'].shape\n",
    "        \n",
    "            pruned = (param_total-param_nonzero)/param_shape[1]\n",
    "            total = param_total/param_shape[1]\n",
    "        \n",
    "            if 'mlp.0' in n:\n",
    "                ratios[i][0] = pruned/total\n",
    "            if 'mlp.3' in n:\n",
    "                ratios[i][1] = pruned/total\n",
    "                i += 1\n",
    "        \n",
    "        #print(array)\n",
    "        avgs = np.sum(ratios, axis=0)/12\n",
    "        \n",
    "        bar_width = 0.23\n",
    "        x = np.arange(12)\n",
    "        \n",
    "        labels = [\n",
    "            f\"fc1 r={avgs[0]:.4f}\",\n",
    "            f\"fc2 r={avgs[1]:.4f}\",\n",
    "        ]\n",
    "        offsets = (np.arange(ratios.shape[1]) - (ratios.shape[1] - 1) / 2) * bar_width\n",
    "        \n",
    "        for j, offset in enumerate(offsets):\n",
    "            plt.bar(x + offset, ratios[:, j], width=bar_width, label=labels[j])\n",
    "        \n",
    "        plt.xlabel(\"Transformer block idx\")\n",
    "        plt.ylabel(\"Prune ratio\")\n",
    "        plt.title(f'r = {prune_r}')\n",
    "        plt.xticks(x, [str(i) for i in range(12)])\n",
    "        plt.legend()\n",
    "        plt.tight_layout()\n",
    "        \n",
    "        save_dir = \"\"\n",
    "        save_path = os.path.join(save_dir, f\"prune_ratios{prune_r}.png\")\n",
    "        if save:\n",
    "            plt.savefig(save_path)\n",
    "        else:\n",
    "            plt.show()\n",
    "        plt.close()\n",
    "    if layertype == \"Softmax\":\n",
    "        ratios = np.zeros((12,1))\n",
    "        i = 0\n",
    "        for v in global_pruning_mask_combined.values():\n",
    "            ratios[i][0] = len(v.detach().numpy())/12\n",
    "            i += 1\n",
    "\n",
    "        bar_width = 0.23\n",
    "        x = np.arange(12)\n",
    "        \n",
    "        labels = [\n",
    "            f\"Attention head\",\n",
    "        ]\n",
    "        offsets = (np.arange(ratios.shape[1]) - (ratios.shape[1] - 1) / 2) * bar_width\n",
    "        \n",
    "        for j, offset in enumerate(offsets):\n",
    "            plt.bar(x + offset, ratios[:, j], width=bar_width, label=labels[j])\n",
    "        \n",
    "        plt.xlabel(\"Transformer block idx\")\n",
    "        plt.ylabel(\"Prune ratio\")\n",
    "        plt.title(f'r = {prune_r}')\n",
    "        plt.xticks(x, [str(i) for i in range(12)])\n",
    "        plt.legend()\n",
    "        plt.tight_layout()\n",
    "        save_dir = \"\"\n",
    "        save_path = os.path.join(save_dir, f\"prune_ratios{prune_r}.png\")\n",
    "                if save:\n",
    "            plt.savefig(save_path)\n",
    "        else:\n",
    "            plt.show()\n",
    "        plt.close()"
   ]
  },
  {
   "cell_type": "code",
   "execution_count": 3,
   "id": "b41d0ce48cf8cb4c",
   "metadata": {
    "ExecuteTime": {
     "end_time": "2025-07-02T08:24:20.023885700Z",
     "start_time": "2025-07-02T08:24:19.673321500Z"
    },
    "collapsed": false,
    "editable": true,
    "jupyter": {
     "outputs_hidden": false
    },
    "slideshow": {
     "slide_type": ""
    },
    "tags": []
   },
   "outputs": [
    {
     "name": "stdout",
     "output_type": "stream",
     "text": [
      "[0 1 2]\n",
      "Number of unique labels: 2, Number of unique places: 2, Total groups: 4\n",
      "group 0: 6314\n",
      "group 1: 5526\n",
      "group 2: 1571\n",
      "[0 1 2 3]\n",
      "Number of unique labels: 2, Number of unique places: 2, Total groups: 4\n",
      "group 0: 60\n",
      "group 1: 60\n",
      "group 2: 60\n",
      "group 3: 60\n",
      "[0 1 2 3]\n",
      "Number of unique labels: 2, Number of unique places: 2, Total groups: 4\n",
      "group 0: 3158\n",
      "group 1: 2763\n",
      "group 2: 882\n",
      "group 3: 761\n",
      "target groups: [3]\n",
      "pruning indices: 30\n"
     ]
    }
   ],
   "source": [
    "seed = 1\n",
    "initialize_random_seed(seed)\n",
    "num_workers = 12\n",
    "device_string = \"cuda\"\n",
    "device = torch.device(device_string)\n",
    "isic = ISIC(\n",
    "    \"/scratch_shared/primmere/isic/isic_224/raw_224_with_selected\", \n",
    "    metadata_path='/scratch_shared/primmere/isic/metadata_w_split_v2_w_elmos_modifications.csv', \n",
    "    seed=seed, \n",
    "    num_workers=num_workers\n",
    "        )\n",
    "least_rel_first = True\n",
    "abs_flag = True\n",
    "#least_rel_first2 = False\n",
    "#abs_flag2 = False\n",
    "#Zplus_flag = True\n",
    "\n",
    "#scale_bool = True\n",
    "\n",
    "prune_r = [0.85, 0.88, 0.9, 0.92, 0.95]\n",
    "\n",
    "\n",
    "\n",
    "layer_type = 'Softmax'\n",
    "\n",
    "train_set = isic.get_train_set()\n",
    "val_set = isic.get_valid_set()\n",
    "test_set = isic.get_test_set()\n",
    "\n",
    "pruning_indices = get_sample_indices_for_group(val_set, 30, device_string, [3])\n",
    "print(\"pruning indices:\" , len(pruning_indices))\n",
    "\n",
    "custom_pruning_set = ISICSubset(val_set, pruning_indices)\n",
    "\n",
    "train_dataloader = torch.utils.data.DataLoader(train_set, batch_size=128, shuffle=True, num_workers=num_workers)\n",
    "prune_dataloader = torch.utils.data.DataLoader(custom_pruning_set, batch_size=1, shuffle=True, num_workers=num_workers)\n",
    "#prune_dataloader2 = torch.utils.data.DataLoader(custom_pruning_set2, batch_size=8, shuffle=True, num_workers=num_workers)\n",
    "#prune_dataloader3 = torch.utils.data.DataLoader(custom_pruning_set3, batch_size=8, shuffle=True, num_workers=num_workers)\n",
    "val_dataloader = torch.utils.data.DataLoader(test_set, batch_size=64, shuffle=True, num_workers=num_workers)"
   ]
  },
  {
   "cell_type": "code",
   "execution_count": 4,
   "id": "672071d5bfd8ce01",
   "metadata": {
    "ExecuteTime": {
     "end_time": "2025-07-02T21:40:07.494175Z",
     "start_time": "2025-07-02T21:39:59.246373Z"
    },
    "collapsed": false,
    "editable": true,
    "jupyter": {
     "outputs_hidden": false
    },
    "slideshow": {
     "slide_type": ""
    },
    "tags": []
   },
   "outputs": [],
   "source": [
    "suggested_composite = {\n",
    "        \"low_level_hidden_layer_rule\": \"Epsilon\",\n",
    "        \"mid_level_hidden_layer_rule\":\"Epsilon\",\n",
    "        \"high_level_hidden_layer_rule\": \"Epsilon\",\n",
    "        \"fully_connected_layers_rule\": \"Epsilon\",\n",
    "        \"softmax_rule\": \"Epsilon\",\n",
    "    }\n",
    "composite = get_vit_composite(\"vit_b_16\", suggested_composite)\n",
    "layer_types = {\n",
    "        \"Softmax\": torch.nn.Softmax,\n",
    "        \"Linear\": torch.nn.Linear,\n",
    "        \"Conv2d\": torch.nn.Conv2d,\n",
    "    }"
   ]
  },
  {
   "cell_type": "code",
   "execution_count": 5,
   "id": "de2053c4-6614-46aa-be9f-b59ef6189006",
   "metadata": {
    "scrolled": true
   },
   "outputs": [
    {
     "name": "stdout",
     "output_type": "stream",
     "text": [
      "Arch:vit_b_16\n"
     ]
    },
    {
     "name": "stderr",
     "output_type": "stream",
     "text": [
      "/home/primmere/ide/external/pruning_by_explaining/models/utils.py:70: FutureWarning: You are using `torch.load` with `weights_only=False` (the current default value), which uses the default pickle module implicitly. It is possible to construct malicious pickle data which will execute arbitrary code during unpickling (See https://github.com/pytorch/pytorch/blob/main/SECURITY.md#untrusted-models for more details). In a future release, the default value for `weights_only` will be flipped to `True`. This limits the functions that could be executed during unpickling. Arbitrary objects will no longer be allowed to be loaded via this mode unless they are explicitly allowlisted by the user via `torch.serialization.add_safe_globals`. We recommend you start setting `weights_only=True` for any use case where you don't have full control of the loaded file. Please open an issue on GitHub for any issues related to this experimental feature.\n",
      "  loaded_checkpoint = torch.load(checkpoint_path, map_location=device)\n"
     ]
    }
   ],
   "source": [
    "model = ModelLoader.get_basic_model(\"vit_b_16\", '/home/primmere/logs/isic_logs_4/vit_isic_v2.pt', device, num_classes=2)\n",
    "#model2 = ModelLoader.get_basic_model(\"vit_b_16\", \"/home/primmere/ide/dfr/logs/vit_waterbirds.pth\", device, num_classes=2)\n",
    "#model3 = ModelLoader.get_basic_model(\"vit_b_16\", \"/home/primmere/ide/dfr/logs/vit_waterbirds.pth\", device, num_classes=2)\n",
    "\n"
   ]
  },
  {
   "cell_type": "code",
   "execution_count": 6,
   "id": "20258526-a237-412b-957e-986133fc5f23",
   "metadata": {
    "editable": true,
    "scrolled": true,
    "slideshow": {
     "slide_type": ""
    },
    "tags": []
   },
   "outputs": [
    {
     "data": {
      "text/plain": [
       "'\\n0.8175568482284505\\n0: 0.9050031665611147\\n1: 0.9996380745566413\\n2: 0.4557823129251701\\n3: 0.21287779237844942\\n'"
      ]
     },
     "execution_count": 6,
     "metadata": {},
     "output_type": "execute_result"
    }
   ],
   "source": [
    "\"\"\"\n",
    "acc, acc_groups = compute_worst_accuracy(\n",
    "        model,\n",
    "        val_dataloader,\n",
    "        device,\n",
    "    )\n",
    "print(acc)\n",
    "for i in range(len(acc_groups)):\n",
    "    print(f'{i}: {acc_groups[i]}')\n",
    "\"\"\"\n",
    "\n",
    "\n",
    "\n",
    "\"\"\"\n",
    "0.8175568482284505\n",
    "0: 0.9050031665611147\n",
    "1: 0.9996380745566413\n",
    "2: 0.4557823129251701\n",
    "3: 0.21287779237844942\n",
    "\"\"\"\n"
   ]
  },
  {
   "cell_type": "code",
   "execution_count": 7,
   "id": "6ef84cca0140e419",
   "metadata": {
    "ExecuteTime": {
     "end_time": "2025-07-02T08:41:21.019829100Z",
     "start_time": "2025-07-02T08:41:20.959062Z"
    }
   },
   "outputs": [
    {
     "name": "stderr",
     "output_type": "stream",
     "text": [
      "/home/primmere/.conda/envs/dfr2/lib/python3.10/site-packages/torch/autograd/graph.py:768: UserWarning: Attempting to run cuBLAS, but there was no current CUDA context! Attempting to set the primary context... (Triggered internally at ../aten/src/ATen/cuda/CublasHandlePool.cpp:135.)\n",
      "  return Variable._execution_engine.run_backward(  # Calls into the C++ engine to run the backward pass\n"
     ]
    },
    {
     "name": "stdout",
     "output_type": "stream",
     "text": [
      "done!\n"
     ]
    }
   ],
   "source": [
    "component_attributor = ComponentAttibution(\n",
    "        \"Relevance\",\n",
    "        \"ViT\",\n",
    "        layer_types[layer_type],\n",
    "        least_rel_first\n",
    "    )\n",
    "\n",
    "components_relevances = component_attributor.attribute(\n",
    "        model,\n",
    "        prune_dataloader,\n",
    "        composite,\n",
    "        abs_flag=abs_flag,\n",
    "        Zplus_flag=False,\n",
    "        device=device,\n",
    "    )\n",
    "\n",
    "layer_names = component_attributor.layer_names\n",
    "pruner = GlobalPruningOperations(\n",
    "        layer_types[layer_type],\n",
    "        layer_names,\n",
    "    )\n",
    "\n",
    "print(\"done!\")\n",
    "\n"
   ]
  },
  {
   "cell_type": "code",
   "execution_count": 8,
   "id": "1462a03a-5bfc-4e37-849b-6a47322c98f9",
   "metadata": {
    "scrolled": true
   },
   "outputs": [
    {
     "name": "stdout",
     "output_type": "stream",
     "text": [
      "0 2.739\n",
      "1 3.752\n",
      "2 2.459\n",
      "3 4.225\n",
      "4 7.457\n",
      "5 4.093\n",
      "6 4.980\n",
      "7 3.282\n",
      "8 1.355\n",
      "9 0.000\n",
      "10 0.000\n",
      "11 0.011\n"
     ]
    }
   ],
   "source": [
    "i = 0\n",
    "for k in components_relevances.keys():\n",
    "    #print(torch.mean(v))\n",
    "    a = torch.mean(components_relevances[k]).item()\n",
    "    print(f'{i} {a:.3f}')\n",
    "    i += 1"
   ]
  },
  {
   "cell_type": "code",
   "execution_count": 9,
   "id": "e0d15975-f270-42b7-976f-388ade4b6ee9",
   "metadata": {
    "scrolled": true
   },
   "outputs": [
    {
     "name": "stdout",
     "output_type": "stream",
     "text": [
      "encoder.layers.encoder_layer_0.self_attention.softmax 32.86621856689453\n",
      "encoder.layers.encoder_layer_1.self_attention.softmax 45.02645492553711\n",
      "encoder.layers.encoder_layer_2.self_attention.softmax 29.50483512878418\n",
      "encoder.layers.encoder_layer_3.self_attention.softmax 50.70082473754883\n",
      "encoder.layers.encoder_layer_4.self_attention.softmax 89.48729705810547\n",
      "encoder.layers.encoder_layer_5.self_attention.softmax 49.11297607421875\n",
      "encoder.layers.encoder_layer_6.self_attention.softmax 59.76432800292969\n",
      "encoder.layers.encoder_layer_7.self_attention.softmax 39.38343048095703\n",
      "encoder.layers.encoder_layer_8.self_attention.softmax 16.256092071533203\n",
      "encoder.layers.encoder_layer_9.self_attention.softmax 1.8475186891464546e-07\n",
      "encoder.layers.encoder_layer_10.self_attention.softmax 5.622020580631215e-06\n",
      "encoder.layers.encoder_layer_11.self_attention.softmax 0.12606577575206757\n"
     ]
    }
   ],
   "source": [
    "for name, R in components_relevances.items():\n",
    "    print(name, torch.sum(R).item())"
   ]
  },
  {
   "cell_type": "code",
   "execution_count": 10,
   "id": "a7e03dca-c95d-4829-9547-a86eb5e77fcc",
   "metadata": {},
   "outputs": [
    {
     "data": {
      "text/plain": [
       "'\\ncombined_relevances = {}\\nfor (k, v), (k2, v2) in zip(components_relevances.items(), components_relevances2.items()):\\n    combined_relevances[k] = v-v2\\n\\n'"
      ]
     },
     "execution_count": 10,
     "metadata": {},
     "output_type": "execute_result"
    }
   ],
   "source": [
    "\"\"\"\n",
    "combined_relevances = {}\n",
    "for (k, v), (k2, v2) in zip(components_relevances.items(), components_relevances2.items()):\n",
    "    combined_relevances[k] = v-v2\n",
    "\n",
    "\"\"\"\n",
    "    "
   ]
  },
  {
   "cell_type": "code",
   "execution_count": null,
   "id": "9da8ce45-77f9-4149-80ef-57b2081a7f96",
   "metadata": {},
   "outputs": [],
   "source": []
  },
  {
   "cell_type": "code",
   "execution_count": 11,
   "id": "9b7e8d11-2cca-4d6c-9189-b7b8e6790fe0",
   "metadata": {},
   "outputs": [
    {
     "data": {
      "application/vnd.jupyter.widget-view+json": {
       "model_id": "",
       "version_major": 2,
       "version_minor": 0
      },
      "text/plain": [
       "evaluating group acc:   0%|          | 0/119 [00:00<?, ?it/s]"
      ]
     },
     "metadata": {},
     "output_type": "display_data"
    },
    {
     "name": "stdout",
     "output_type": "stream",
     "text": [
      "0.85 & 0.817 & 0.899 & 0.999 & 0.456 & 0.238 \\\\\n"
     ]
    },
    {
     "data": {
      "application/vnd.jupyter.widget-view+json": {
       "model_id": "",
       "version_major": 2,
       "version_minor": 0
      },
      "text/plain": [
       "evaluating group acc:   0%|          | 0/119 [00:00<?, ?it/s]"
      ]
     },
     "metadata": {},
     "output_type": "display_data"
    },
    {
     "name": "stdout",
     "output_type": "stream",
     "text": [
      "0.88 & 0.804 & 0.858 & 0.996 & 0.483 & 0.252 \\\\\n"
     ]
    },
    {
     "data": {
      "application/vnd.jupyter.widget-view+json": {
       "model_id": "",
       "version_major": 2,
       "version_minor": 0
      },
      "text/plain": [
       "evaluating group acc:   0%|          | 0/119 [00:00<?, ?it/s]"
      ]
     },
     "metadata": {},
     "output_type": "display_data"
    },
    {
     "name": "stdout",
     "output_type": "stream",
     "text": [
      "0.9 & 0.796 & 0.834 & 0.953 & 0.505 & 0.410 \\\\\n"
     ]
    },
    {
     "data": {
      "application/vnd.jupyter.widget-view+json": {
       "model_id": "",
       "version_major": 2,
       "version_minor": 0
      },
      "text/plain": [
       "evaluating group acc:   0%|          | 0/119 [00:00<?, ?it/s]"
      ]
     },
     "metadata": {},
     "output_type": "display_data"
    },
    {
     "name": "stderr",
     "output_type": "stream",
     "text": [
      "Exception ignored in: <function _MultiProcessingDataLoaderIter.__del__ at 0x14da277a30a0>\n",
      "Traceback (most recent call last):\n",
      "  File \"/home/primmere/.conda/envs/dfr2/lib/python3.10/site-packages/torch/utils/data/dataloader.py\", line 1477, in __del__\n",
      "Exception ignored in: <function _MultiProcessingDataLoaderIter.__del__ at 0x14da277a30a0>    \n",
      "self._shutdown_workers()Traceback (most recent call last):\n",
      "\n",
      "  File \"/home/primmere/.conda/envs/dfr2/lib/python3.10/site-packages/torch/utils/data/dataloader.py\", line 1477, in __del__\n",
      "  File \"/home/primmere/.conda/envs/dfr2/lib/python3.10/site-packages/torch/utils/data/dataloader.py\", line 1460, in _shutdown_workers\n",
      "        self._shutdown_workers()if w.is_alive():\n",
      "\n",
      "  File \"/home/primmere/.conda/envs/dfr2/lib/python3.10/site-packages/torch/utils/data/dataloader.py\", line 1460, in _shutdown_workers\n",
      "  File \"/home/primmere/.conda/envs/dfr2/lib/python3.10/multiprocessing/process.py\", line 160, in is_alive\n",
      "        assert self._parent_pid == os.getpid(), 'can only test a child process'if w.is_alive():\n",
      "\n",
      "AssertionError  File \"/home/primmere/.conda/envs/dfr2/lib/python3.10/multiprocessing/process.py\", line 160, in is_alive\n",
      ": can only test a child process    \n",
      "assert self._parent_pid == os.getpid(), 'can only test a child process'\n",
      "AssertionError: can only test a child process\n",
      "Exception ignored in: <function _MultiProcessingDataLoaderIter.__del__ at 0x14da277a30a0>\n",
      "Traceback (most recent call last):\n",
      "  File \"/home/primmere/.conda/envs/dfr2/lib/python3.10/site-packages/torch/utils/data/dataloader.py\", line 1477, in __del__\n",
      "    self._shutdown_workers()\n",
      "      File \"/home/primmere/.conda/envs/dfr2/lib/python3.10/site-packages/torch/utils/data/dataloader.py\", line 1460, in _shutdown_workers\n",
      "if w.is_alive():\n",
      "  File \"/home/primmere/.conda/envs/dfr2/lib/python3.10/multiprocessing/process.py\", line 160, in is_alive\n",
      "    assert self._parent_pid == os.getpid(), 'can only test a child process'\n",
      "Exception ignored in: AssertionError: can only test a child process\n",
      "<function _MultiProcessingDataLoaderIter.__del__ at 0x14da277a30a0>\n",
      "Traceback (most recent call last):\n",
      "  File \"/home/primmere/.conda/envs/dfr2/lib/python3.10/site-packages/torch/utils/data/dataloader.py\", line 1477, in __del__\n",
      "    self._shutdown_workers()\n",
      "  File \"/home/primmere/.conda/envs/dfr2/lib/python3.10/site-packages/torch/utils/data/dataloader.py\", line 1460, in _shutdown_workers\n",
      "Exception ignored in: <function _MultiProcessingDataLoaderIter.__del__ at 0x14da277a30a0>    \n",
      "if w.is_alive():Traceback (most recent call last):\n",
      "Exception ignored in:   File \"/home/primmere/.conda/envs/dfr2/lib/python3.10/site-packages/torch/utils/data/dataloader.py\", line 1477, in __del__\n",
      "\n",
      "  File \"/home/primmere/.conda/envs/dfr2/lib/python3.10/multiprocessing/process.py\", line 160, in is_alive\n",
      "<function _MultiProcessingDataLoaderIter.__del__ at 0x14da277a30a0>Exception ignored in: \n",
      "    Traceback (most recent call last):\n",
      "assert self._parent_pid == os.getpid(), 'can only test a child process'<function _MultiProcessingDataLoaderIter.__del__ at 0x14da277a30a0>      File \"/home/primmere/.conda/envs/dfr2/lib/python3.10/site-packages/torch/utils/data/dataloader.py\", line 1477, in __del__\n",
      "self._shutdown_workers()\n",
      "    \n",
      "self._shutdown_workers()AssertionError\n",
      "\n",
      ": Traceback (most recent call last):\n",
      "  File \"/home/primmere/.conda/envs/dfr2/lib/python3.10/site-packages/torch/utils/data/dataloader.py\", line 1460, in _shutdown_workers\n",
      "  File \"/home/primmere/.conda/envs/dfr2/lib/python3.10/site-packages/torch/utils/data/dataloader.py\", line 1460, in _shutdown_workers\n",
      "      File \"/home/primmere/.conda/envs/dfr2/lib/python3.10/site-packages/torch/utils/data/dataloader.py\", line 1477, in __del__\n",
      "if w.is_alive():        \n",
      "self._shutdown_workers()  File \"/home/primmere/.conda/envs/dfr2/lib/python3.10/multiprocessing/process.py\", line 160, in is_alive\n",
      "if w.is_alive():\n",
      "      File \"/home/primmere/.conda/envs/dfr2/lib/python3.10/site-packages/torch/utils/data/dataloader.py\", line 1460, in _shutdown_workers\n",
      "assert self._parent_pid == os.getpid(), 'can only test a child process'\n",
      "\n",
      "    AssertionError  File \"/home/primmere/.conda/envs/dfr2/lib/python3.10/multiprocessing/process.py\", line 160, in is_alive\n",
      "can only test a child process:     can only test a child process\n",
      "assert self._parent_pid == os.getpid(), 'can only test a child process'\n",
      "\n",
      "if w.is_alive():AssertionError\n",
      ":   File \"/home/primmere/.conda/envs/dfr2/lib/python3.10/multiprocessing/process.py\", line 160, in is_alive\n",
      "can only test a child process\n",
      "Exception ignored in: <function _MultiProcessingDataLoaderIter.__del__ at 0x14da277a30a0>    \n",
      "Traceback (most recent call last):\n",
      "  File \"/home/primmere/.conda/envs/dfr2/lib/python3.10/site-packages/torch/utils/data/dataloader.py\", line 1477, in __del__\n",
      "    self._shutdown_workers()assert self._parent_pid == os.getpid(), 'can only test a child process'\n",
      "\n",
      "Exception ignored in:   File \"/home/primmere/.conda/envs/dfr2/lib/python3.10/site-packages/torch/utils/data/dataloader.py\", line 1460, in _shutdown_workers\n",
      "<function _MultiProcessingDataLoaderIter.__del__ at 0x14da277a30a0>AssertionError    \n",
      ": if w.is_alive():Traceback (most recent call last):\n",
      "\n",
      "can only test a child process  File \"/home/primmere/.conda/envs/dfr2/lib/python3.10/site-packages/torch/utils/data/dataloader.py\", line 1477, in __del__\n",
      "  File \"/home/primmere/.conda/envs/dfr2/lib/python3.10/multiprocessing/process.py\", line 160, in is_alive\n",
      "\n",
      "    :     assert self._parent_pid == os.getpid(), 'can only test a child process'self._shutdown_workers()\n",
      "\n",
      "AssertionError  File \"/home/primmere/.conda/envs/dfr2/lib/python3.10/site-packages/torch/utils/data/dataloader.py\", line 1460, in _shutdown_workers\n",
      "can only test a child process\n",
      "    Exception ignored in: Exception ignored in: if w.is_alive():<function _MultiProcessingDataLoaderIter.__del__ at 0x14da277a30a0>\n",
      "<function _MultiProcessingDataLoaderIter.__del__ at 0x14da277a30a0>\n",
      "  File \"/home/primmere/.conda/envs/dfr2/lib/python3.10/multiprocessing/process.py\", line 160, in is_alive\n",
      "\n",
      "Traceback (most recent call last):\n",
      "    Traceback (most recent call last):\n",
      "  File \"/home/primmere/.conda/envs/dfr2/lib/python3.10/site-packages/torch/utils/data/dataloader.py\", line 1477, in __del__\n",
      "assert self._parent_pid == os.getpid(), 'can only test a child process'  File \"/home/primmere/.conda/envs/dfr2/lib/python3.10/site-packages/torch/utils/data/dataloader.py\", line 1477, in __del__\n",
      "\n",
      "AssertionError        Traceback (most recent call last):\n",
      "self._shutdown_workers(): self._shutdown_workers()Exception ignored in: Exception ignored in: Exception ignored in: \n",
      "can only test a child process\n",
      "<function _MultiProcessingDataLoaderIter.__del__ at 0x14da277a30a0><function _MultiProcessingDataLoaderIter.__del__ at 0x14da277a30a0><function _MultiProcessingDataLoaderIter.__del__ at 0x14da277a30a0>  File \"/home/primmere/.conda/envs/dfr2/lib/python3.10/site-packages/torch/utils/data/dataloader.py\", line 1460, in _shutdown_workers\n",
      "\n",
      "  File \"/home/primmere/.conda/envs/dfr2/lib/python3.10/site-packages/torch/utils/data/dataloader.py\", line 1460, in _shutdown_workers\n",
      "\n",
      "\n",
      "\n",
      "    Traceback (most recent call last):\n",
      "Traceback (most recent call last):\n",
      "  File \"/home/primmere/.conda/envs/dfr2/lib/python3.10/site-packages/torch/utils/data/dataloader.py\", line 1477, in __del__\n",
      "      File \"/home/primmere/.conda/envs/dfr2/lib/python3.10/site-packages/torch/utils/data/dataloader.py\", line 1477, in __del__\n",
      "  File \"/home/primmere/.conda/envs/dfr2/lib/python3.10/site-packages/torch/utils/data/dataloader.py\", line 1477, in __del__\n",
      "if w.is_alive():if w.is_alive():\n",
      "        \n",
      "      File \"/home/primmere/.conda/envs/dfr2/lib/python3.10/multiprocessing/process.py\", line 160, in is_alive\n",
      "self._shutdown_workers()      File \"/home/primmere/.conda/envs/dfr2/lib/python3.10/multiprocessing/process.py\", line 160, in is_alive\n",
      "\n",
      "self._shutdown_workers()  File \"/home/primmere/.conda/envs/dfr2/lib/python3.10/site-packages/torch/utils/data/dataloader.py\", line 1460, in _shutdown_workers\n",
      "    self._shutdown_workers()assert self._parent_pid == os.getpid(), 'can only test a child process'\n",
      "\n",
      "\n",
      "assert self._parent_pid == os.getpid(), 'can only test a child process'      File \"/home/primmere/.conda/envs/dfr2/lib/python3.10/site-packages/torch/utils/data/dataloader.py\", line 1460, in _shutdown_workers\n",
      "if w.is_alive():AssertionError\n",
      "AssertionError\n",
      "  File \"/home/primmere/.conda/envs/dfr2/lib/python3.10/site-packages/torch/utils/data/dataloader.py\", line 1460, in _shutdown_workers\n",
      ": :   File \"/home/primmere/.conda/envs/dfr2/lib/python3.10/multiprocessing/process.py\", line 160, in is_alive\n",
      "    can only test a child process        can only test a child processif w.is_alive():assert self._parent_pid == os.getpid(), 'can only test a child process'\n",
      "\n",
      "\n",
      "if w.is_alive():  File \"/home/primmere/.conda/envs/dfr2/lib/python3.10/multiprocessing/process.py\", line 160, in is_alive\n",
      "\n",
      "\n",
      "      File \"/home/primmere/.conda/envs/dfr2/lib/python3.10/multiprocessing/process.py\", line 160, in is_alive\n",
      "AssertionError    : assert self._parent_pid == os.getpid(), 'can only test a child process'assert self._parent_pid == os.getpid(), 'can only test a child process'can only test a child process\n",
      "\n",
      "\n",
      "AssertionErrorAssertionError: can only test a child processException ignored in: <function _MultiProcessingDataLoaderIter.__del__ at 0x14da277a30a0>\n",
      "\n",
      ": Traceback (most recent call last):\n",
      "  File \"/home/primmere/.conda/envs/dfr2/lib/python3.10/site-packages/torch/utils/data/dataloader.py\", line 1477, in __del__\n",
      "Exception ignored in: can only test a child process    \n",
      "self._shutdown_workers()\n",
      "  File \"/home/primmere/.conda/envs/dfr2/lib/python3.10/site-packages/torch/utils/data/dataloader.py\", line 1460, in _shutdown_workers\n",
      "<function _MultiProcessingDataLoaderIter.__del__ at 0x14da277a30a0>Exception ignored in: \n",
      "<function _MultiProcessingDataLoaderIter.__del__ at 0x14da277a30a0>    Traceback (most recent call last):\n",
      "Exception ignored in: \n",
      "if w.is_alive():  File \"/home/primmere/.conda/envs/dfr2/lib/python3.10/site-packages/torch/utils/data/dataloader.py\", line 1477, in __del__\n",
      "<function _MultiProcessingDataLoaderIter.__del__ at 0x14da277a30a0>Exception ignored in: Traceback (most recent call last):\n",
      "\n",
      "\n",
      "<function _MultiProcessingDataLoaderIter.__del__ at 0x14da277a30a0>  File \"/home/primmere/.conda/envs/dfr2/lib/python3.10/site-packages/torch/utils/data/dataloader.py\", line 1477, in __del__\n",
      "      File \"/home/primmere/.conda/envs/dfr2/lib/python3.10/multiprocessing/process.py\", line 160, in is_alive\n",
      "Traceback (most recent call last):\n",
      "\n",
      "self._shutdown_workers()  File \"/home/primmere/.conda/envs/dfr2/lib/python3.10/site-packages/torch/utils/data/dataloader.py\", line 1477, in __del__\n",
      "    Traceback (most recent call last):\n",
      "    \n",
      "self._shutdown_workers()  File \"/home/primmere/.conda/envs/dfr2/lib/python3.10/site-packages/torch/utils/data/dataloader.py\", line 1477, in __del__\n",
      "    assert self._parent_pid == os.getpid(), 'can only test a child process'  File \"/home/primmere/.conda/envs/dfr2/lib/python3.10/site-packages/torch/utils/data/dataloader.py\", line 1460, in _shutdown_workers\n",
      "\n",
      "self._shutdown_workers()\n",
      "    \n",
      "    AssertionErrorself._shutdown_workers()  File \"/home/primmere/.conda/envs/dfr2/lib/python3.10/site-packages/torch/utils/data/dataloader.py\", line 1460, in _shutdown_workers\n",
      "if w.is_alive():: \n",
      "\n",
      "can only test a child process  File \"/home/primmere/.conda/envs/dfr2/lib/python3.10/site-packages/torch/utils/data/dataloader.py\", line 1460, in _shutdown_workers\n",
      "      File \"/home/primmere/.conda/envs/dfr2/lib/python3.10/multiprocessing/process.py\", line 160, in is_alive\n",
      "\n",
      "  File \"/home/primmere/.conda/envs/dfr2/lib/python3.10/site-packages/torch/utils/data/dataloader.py\", line 1460, in _shutdown_workers\n",
      "if w.is_alive():        if w.is_alive():\n",
      "    assert self._parent_pid == os.getpid(), 'can only test a child process'  File \"/home/primmere/.conda/envs/dfr2/lib/python3.10/multiprocessing/process.py\", line 160, in is_alive\n",
      "\n",
      "if w.is_alive():\n",
      "      File \"/home/primmere/.conda/envs/dfr2/lib/python3.10/multiprocessing/process.py\", line 160, in is_alive\n",
      "\n",
      "AssertionErrorassert self._parent_pid == os.getpid(), 'can only test a child process'  File \"/home/primmere/.conda/envs/dfr2/lib/python3.10/multiprocessing/process.py\", line 160, in is_alive\n",
      "    : \n",
      "assert self._parent_pid == os.getpid(), 'can only test a child process'    can only test a child processAssertionError\n",
      "assert self._parent_pid == os.getpid(), 'can only test a child process'\n",
      ": AssertionError\n",
      "can only test a child process: AssertionError\n",
      "can only test a child process: \n",
      "can only test a child process\n",
      "Exception ignored in: <function _MultiProcessingDataLoaderIter.__del__ at 0x14da277a30a0>\n",
      "Traceback (most recent call last):\n",
      "  File \"/home/primmere/.conda/envs/dfr2/lib/python3.10/site-packages/torch/utils/data/dataloader.py\", line 1477, in __del__\n",
      "    self._shutdown_workers()\n",
      "  File \"/home/primmere/.conda/envs/dfr2/lib/python3.10/site-packages/torch/utils/data/dataloader.py\", line 1460, in _shutdown_workers\n",
      "    if w.is_alive():\n",
      "  File \"/home/primmere/.conda/envs/dfr2/lib/python3.10/multiprocessing/process.py\", line 160, in is_alive\n",
      "    assert self._parent_pid == os.getpid(), 'can only test a child process'\n",
      "AssertionError: can only test a child process\n"
     ]
    },
    {
     "name": "stdout",
     "output_type": "stream",
     "text": [
      "0.92 & 0.740 & 0.734 & 0.804 & 0.630 & 0.658 \\\\\n"
     ]
    },
    {
     "data": {
      "application/vnd.jupyter.widget-view+json": {
       "model_id": "",
       "version_major": 2,
       "version_minor": 0
      },
      "text/plain": [
       "evaluating group acc:   0%|          | 0/119 [00:00<?, ?it/s]"
      ]
     },
     "metadata": {},
     "output_type": "display_data"
    },
    {
     "name": "stdout",
     "output_type": "stream",
     "text": [
      "0.95 & 0.786 & 0.844 & 0.949 & 0.382 & 0.419 \\\\\n"
     ]
    }
   ],
   "source": [
    "for r in prune_r:\n",
    "    global_pruning_mask = pruner.generate_global_pruning_mask(\n",
    "                    model,\n",
    "                    components_relevances,\n",
    "                    r,\n",
    "                    subsequent_layer_pruning=layer_type,\n",
    "                    least_relevant_first=True,\n",
    "                    device=device,\n",
    "                )\n",
    "    hook_handles = pruner.fit_pruning_mask(model, global_pruning_mask,)\n",
    "    acc, acc_groups = compute_worst_accuracy(\n",
    "            model,\n",
    "            val_dataloader,\n",
    "            device,\n",
    "        )\n",
    "    print(f'{r} & {acc:.3f} & {acc_groups[0]:.3f} & {acc_groups[1]:.3f} & {acc_groups[2]:.3f} & {acc_groups[3]:.3f} \\\\\\\\')\n",
    "    #visualise(global_pruning_mask, r, layer_type)"
   ]
  },
  {
   "cell_type": "code",
   "execution_count": 12,
   "id": "17ab5090-9a65-449f-bee3-006f75e51c9c",
   "metadata": {},
   "outputs": [
    {
     "data": {
      "text/plain": [
       "'\\n0.9 & 0.816 & 0.894 & 1.000 & 0.472 & 0.227 \\\\\\n0.92 & 0.820 & 0.892 & 0.999 & 0.488 & 0.255 \\\\\\n0.94 & 0.829 & 0.880 & 0.999 & 0.517 & 0.368 \\\\\\n0.95 & 0.837 & 0.879 & 0.998 & 0.536 & 0.430 \\\\\\n0.96 & 0.838 & 0.864 & 0.985 & 0.558 & 0.524 \\\\\\n0.98 & 0.710 & 0.772 & 0.630 & 0.664 & 0.796 \\\\\\n'"
      ]
     },
     "execution_count": 12,
     "metadata": {},
     "output_type": "execute_result"
    }
   ],
   "source": [
    "\"\"\"\n",
    "0.9 & 0.816 & 0.894 & 1.000 & 0.472 & 0.227 \\\\\n",
    "0.92 & 0.820 & 0.892 & 0.999 & 0.488 & 0.255 \\\\\n",
    "0.94 & 0.829 & 0.880 & 0.999 & 0.517 & 0.368 \\\\\n",
    "0.95 & 0.837 & 0.879 & 0.998 & 0.536 & 0.430 \\\\\n",
    "0.96 & 0.838 & 0.864 & 0.985 & 0.558 & 0.524 \\\\\n",
    "0.98 & 0.710 & 0.772 & 0.630 & 0.664 & 0.796 \\\\\n",
    "\"\"\""
   ]
  },
  {
   "cell_type": "code",
   "execution_count": 13,
   "id": "1d76d864-9176-4345-bbab-1de27d1eae27",
   "metadata": {},
   "outputs": [
    {
     "ename": "IndexError",
     "evalue": "too many indices for tensor of dimension 1",
     "output_type": "error",
     "traceback": [
      "\u001b[0;31m---------------------------------------------------------------------------\u001b[0m",
      "\u001b[0;31mIndexError\u001b[0m                                Traceback (most recent call last)",
      "Cell \u001b[0;32mIn[13], line 3\u001b[0m\n\u001b[1;32m      1\u001b[0m count\u001b[38;5;241m=\u001b[39m\u001b[38;5;241m0\u001b[39m\n\u001b[1;32m      2\u001b[0m \u001b[38;5;28;01mfor\u001b[39;00m n, t \u001b[38;5;129;01min\u001b[39;00m global_pruning_mask\u001b[38;5;241m.\u001b[39mitems():\n\u001b[0;32m----> 3\u001b[0m     param_total \u001b[38;5;241m=\u001b[39m \u001b[43mt\u001b[49m\u001b[43m[\u001b[49m\u001b[38;5;124;43m'\u001b[39;49m\u001b[38;5;124;43mLinear\u001b[39;49m\u001b[38;5;124;43m'\u001b[39;49m\u001b[43m]\u001b[49m[\u001b[38;5;124m'\u001b[39m\u001b[38;5;124mweight\u001b[39m\u001b[38;5;124m'\u001b[39m]\u001b[38;5;241m.\u001b[39mnumel()\n\u001b[1;32m      4\u001b[0m     param_nonzero \u001b[38;5;241m=\u001b[39m t[\u001b[38;5;124m'\u001b[39m\u001b[38;5;124mLinear\u001b[39m\u001b[38;5;124m'\u001b[39m][\u001b[38;5;124m'\u001b[39m\u001b[38;5;124mweight\u001b[39m\u001b[38;5;124m'\u001b[39m]\u001b[38;5;241m.\u001b[39mnonzero()\u001b[38;5;241m.\u001b[39msize(\u001b[38;5;241m0\u001b[39m)\n\u001b[1;32m      5\u001b[0m     param_shape \u001b[38;5;241m=\u001b[39m t[\u001b[38;5;124m'\u001b[39m\u001b[38;5;124mLinear\u001b[39m\u001b[38;5;124m'\u001b[39m][\u001b[38;5;124m'\u001b[39m\u001b[38;5;124mweight\u001b[39m\u001b[38;5;124m'\u001b[39m]\u001b[38;5;241m.\u001b[39mshape\n",
      "\u001b[0;31mIndexError\u001b[0m: too many indices for tensor of dimension 1"
     ]
    }
   ],
   "source": [
    "count=0\n",
    "for n, t in global_pruning_mask.items():\n",
    "    param_total = t['Linear']['weight'].numel()\n",
    "    param_nonzero = t['Linear']['weight'].nonzero().size(0)\n",
    "    param_shape = t['Linear']['weight'].shape\n",
    "    \n",
    "    pruned = (param_total-param_nonzero)/param_shape[1]\n",
    "    total = param_total/param_shape[1]\n",
    "    #print(pruned, \"/\", total, \"pruned,\", pruned/total)\n",
    "    print(f'{100*pruned/total:.1f}% - {pruned} / {total} pruned')\n",
    "    "
   ]
  },
  {
   "cell_type": "code",
   "execution_count": null,
   "id": "5466eb15-f9a8-42be-a130-e8ddab627837",
   "metadata": {
    "scrolled": true
   },
   "outputs": [],
   "source": [
    "\"\"\"\n",
    "acc, acc_groups = compute_worst_accuracy(\n",
    "        model,\n",
    "        val_dataloader,\n",
    "        device,\n",
    "    )\n",
    "print(acc)\n",
    "for i in range(4):\n",
    "    print(f'{i}: {acc_groups[i]}')\n",
    "\n",
    "\"\"\""
   ]
  },
  {
   "cell_type": "code",
   "execution_count": null,
   "id": "e782f2e2-8413-4517-b067-4a39819820a8",
   "metadata": {
    "scrolled": true
   },
   "outputs": [],
   "source": [
    "#global_pruning_mask"
   ]
  },
  {
   "cell_type": "code",
   "execution_count": null,
   "id": "6cee3a74-6842-496a-ad4f-dd0887936387",
   "metadata": {
    "scrolled": true
   },
   "outputs": [],
   "source": [
    "#global_pruning_mask2"
   ]
  },
  {
   "cell_type": "code",
   "execution_count": null,
   "id": "f7409203-8aa2-436a-992b-806e956c814f",
   "metadata": {},
   "outputs": [],
   "source": [
    "for v in components_relevances.values():\n",
    "    print(v[0:6])"
   ]
  },
  {
   "cell_type": "markdown",
   "id": "d2be5cdf-7447-46bc-a9b1-0eab4f7f2d18",
   "metadata": {},
   "source": [
    "for v in components_relevances.values():\n",
    "    print(v[0:7])"
   ]
  },
  {
   "cell_type": "code",
   "execution_count": null,
   "id": "cbbf5e12-db0b-4891-add0-7354c7778bab",
   "metadata": {},
   "outputs": [],
   "source": [
    "print(f'{prune_r},{acc:.3f},{acc_groups[0]:.3f},{acc_groups[1]:.3f},{acc_groups[2]:.3f},{acc_groups[3]:.3f}')"
   ]
  },
  {
   "cell_type": "code",
   "execution_count": null,
   "id": "e65d5e47-a302-4e68-b1c0-8ad2d03dde00",
   "metadata": {},
   "outputs": [],
   "source": []
  },
  {
   "cell_type": "code",
   "execution_count": null,
   "id": "11a40a04-c611-4c8a-bd89-0098caefae08",
   "metadata": {},
   "outputs": [],
   "source": [
    "print(f'{r} & {acc:.3f} & {acc_groups[0]:.3f} & {acc_groups[1]:.3f} & {acc_groups[2]:.3f} & {acc_groups[3]:.3f} \\\\\\\\')"
   ]
  },
  {
   "cell_type": "code",
   "execution_count": null,
   "id": "be818c92-7cba-4a7c-938e-6bdca6bd043c",
   "metadata": {},
   "outputs": [],
   "source": [
    "layer_type"
   ]
  },
  {
   "cell_type": "code",
   "execution_count": null,
   "id": "e53d7736-bfd2-4aba-bc8a-8196df3c5bab",
   "metadata": {},
   "outputs": [],
   "source": [
    "visualise(global_pruning_mask_combined, r, layer_type)"
   ]
  },
  {
   "cell_type": "code",
   "execution_count": null,
   "id": "ee831010-9350-40a2-b63e-e26d8f9d8293",
   "metadata": {},
   "outputs": [],
   "source": []
  }
 ],
 "metadata": {
  "kernelspec": {
   "display_name": "dfr2",
   "language": "python",
   "name": "dfr2"
  },
  "language_info": {
   "codemirror_mode": {
    "name": "ipython",
    "version": 3
   },
   "file_extension": ".py",
   "mimetype": "text/x-python",
   "name": "python",
   "nbconvert_exporter": "python",
   "pygments_lexer": "ipython3",
   "version": "3.10.12"
  }
 },
 "nbformat": 4,
 "nbformat_minor": 5
}
