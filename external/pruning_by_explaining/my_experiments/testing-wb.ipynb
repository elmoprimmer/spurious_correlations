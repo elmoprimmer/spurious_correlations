{
 "cells": [
  {
   "cell_type": "code",
   "execution_count": 1,
   "id": "c79d284bb264d1f6",
   "metadata": {
    "ExecuteTime": {
     "end_time": "2025-07-02T21:39:59.236365Z",
     "start_time": "2025-07-02T21:39:45.451882600Z"
    },
    "collapsed": false,
    "editable": true,
    "jupyter": {
     "outputs_hidden": false
    },
    "slideshow": {
     "slide_type": ""
    },
    "tags": []
   },
   "outputs": [],
   "source": [
    "import yaml\n",
    "import click\n",
    "import torch\n",
    "import tqdm.auto\n",
    "import numpy as np\n",
    "from torchvision.models import vit_b_16\n",
    "\n",
    "from matplotlib import pyplot as plt\n",
    "\n",
    "\n",
    "import sys\n",
    "import os\n",
    "import re\n",
    "import math\n",
    "#project_root = \"C:/Users/elmop/deep_feature_reweighting/deep_feature_reweighting/external/pruning_by_explaining\"\n",
    "project_root = \"/home/primmere/ide/external/pruning_by_explaining\"\n",
    "sys.path.insert(0, project_root)                 \n",
    "sys.path.insert(0, os.path.dirname(project_root))\n",
    "\n",
    "from pruning_by_explaining.models import ModelLoader\n",
    "from pruning_by_explaining.metrics import compute_accuracy\n",
    "from pruning_by_explaining.my_metrics import compute_worst_accuracy\n",
    "from pruning_by_explaining.my_datasets import WaterBirds, get_sample_indices_for_group, WaterBirdSubset, ISIC, ISICSubset\n",
    "from pruning_by_explaining.utils import (\n",
    "    initialize_random_seed,\n",
    "    initialize_wandb_logger,\n",
    ")\n",
    "\n",
    "\n",
    "from pruning_by_explaining.pxp import (\n",
    "    ModelLayerUtils,\n",
    "    get_cnn_composite,\n",
    "    get_vit_composite,\n",
    ")\n",
    "\n",
    "from pruning_by_explaining.pxp import GlobalPruningOperations\n",
    "from pruning_by_explaining.pxp import ComponentAttibution\n",
    "\n",
    "\n",
    "from pruning_by_explaining.my_experiments.utils import visualise, plot_layer_head_heatmap, plot_layer_head_pruned, plot_r_accuracy_lines"
   ]
  },
  {
   "cell_type": "code",
   "execution_count": 2,
   "id": "b41d0ce48cf8cb4c",
   "metadata": {
    "ExecuteTime": {
     "end_time": "2025-07-02T08:24:20.023885700Z",
     "start_time": "2025-07-02T08:24:19.673321500Z"
    },
    "collapsed": false,
    "editable": true,
    "jupyter": {
     "outputs_hidden": false
    },
    "slideshow": {
     "slide_type": ""
    },
    "tags": []
   },
   "outputs": [
    {
     "name": "stdout",
     "output_type": "stream",
     "text": [
      "[0 1 2 3]\n",
      "Number of unique labels: 2, Number of unique places: 2, Total groups: 4\n",
      "group 0: 3518\n",
      "group 1: 185\n",
      "group 2: 55\n",
      "group 3: 1037\n",
      "[0 1 2 3]\n",
      "Number of unique labels: 2, Number of unique places: 2, Total groups: 4\n",
      "group 0: 456\n",
      "group 1: 456\n",
      "group 2: 143\n",
      "group 3: 144\n",
      "[0 1 2 3]\n",
      "Number of unique labels: 2, Number of unique places: 2, Total groups: 4\n",
      "group 0: 2255\n",
      "group 1: 2255\n",
      "group 2: 642\n",
      "group 3: 642\n",
      "target groups: [0, 1, 2, 3]\n",
      "pruning indices: 400\n"
     ]
    }
   ],
   "source": [
    "seed = 2\n",
    "## weird combos seed 5 incices 1234 100 drops after 0.5\n",
    "#                    1  -''-                        0.7\n",
    "#                    2 -''-             not so clear, but between 0.6 and 0.7\n",
    "#                    3 -''-                         0.4\n",
    "#                    4 -''-                         0.5\n",
    "initialize_random_seed(seed)\n",
    "num_workers = 12\n",
    "device_string = \"cuda\"\n",
    "device = torch.device(device_string)\n",
    "waterbirds = WaterBirds('/scratch_shared/primmere/waterbird', seed = seed, num_workers = num_workers)\n",
    "\n",
    "least_rel_first = True\n",
    "abs_flag = True\n",
    "\n",
    "\n",
    "save = False\n",
    "new_checkpoint_path = \"checkpoints/wb_attn_30_0123_r0.1.pth\"\n",
    "\n",
    "prune_r = [0.1,0.2,0.3,0.4,0.5,0.6,0.7,0.8]\n",
    "\n",
    "           \n",
    "layer_type = 'Linear'\n",
    "\n",
    "train_set = waterbirds.get_train_set()\n",
    "val_set = waterbirds.get_valid_set()\n",
    "test_set = waterbirds.get_test_set()\n",
    "\n",
    "n_indices = 100\n",
    "pruning_indices = get_sample_indices_for_group(val_set, n_indices, device_string, [1,2])\n",
    "print(\"pruning indices:\" , len(pruning_indices))\n",
    "\n",
    "custom_pruning_set = WaterBirdSubset(val_set, pruning_indices)\n",
    "\n",
    "train_dataloader = torch.utils.data.DataLoader(train_set, batch_size=128, shuffle=True, num_workers=num_workers)\n",
    "prune_dataloader = torch.utils.data.DataLoader(custom_pruning_set, batch_size=1, shuffle=True, num_workers=num_workers)\n",
    "val_dataloader = torch.utils.data.DataLoader(test_set, batch_size=32, shuffle=True, num_workers=num_workers)"
   ]
  },
  {
   "cell_type": "code",
   "execution_count": 3,
   "id": "672071d5bfd8ce01",
   "metadata": {
    "ExecuteTime": {
     "end_time": "2025-07-02T21:40:07.494175Z",
     "start_time": "2025-07-02T21:39:59.246373Z"
    },
    "collapsed": false,
    "editable": true,
    "jupyter": {
     "outputs_hidden": false
    },
    "slideshow": {
     "slide_type": ""
    },
    "tags": []
   },
   "outputs": [],
   "source": [
    "\n",
    "suggested_composite = {\n",
    "        \"low_level_hidden_layer_rule\": \"Epsilon\",\n",
    "        \"mid_level_hidden_layer_rule\":\"Epsilon\",\n",
    "        \"high_level_hidden_layer_rule\": \"Epsilon\",\n",
    "        \"fully_connected_layers_rule\": \"Epsilon\",\n",
    "        \"softmax_rule\": \"Epsilon\",\n",
    "    }\n",
    "composite = get_vit_composite(\"vit_b_16\", suggested_composite)\n",
    "layer_types = {\n",
    "        \"Softmax\": torch.nn.Softmax,\n",
    "        \"Linear\": torch.nn.Linear,\n",
    "        \"Conv2d\": torch.nn.Conv2d,\n",
    "    }"
   ]
  },
  {
   "cell_type": "code",
   "execution_count": 4,
   "id": "de2053c4-6614-46aa-be9f-b59ef6189006",
   "metadata": {
    "scrolled": true
   },
   "outputs": [
    {
     "name": "stdout",
     "output_type": "stream",
     "text": [
      "Arch:vit_b_16\n"
     ]
    },
    {
     "name": "stderr",
     "output_type": "stream",
     "text": [
      "/home/primmere/ide/external/pruning_by_explaining/models/utils.py:70: FutureWarning: You are using `torch.load` with `weights_only=False` (the current default value), which uses the default pickle module implicitly. It is possible to construct malicious pickle data which will execute arbitrary code during unpickling (See https://github.com/pytorch/pytorch/blob/main/SECURITY.md#untrusted-models for more details). In a future release, the default value for `weights_only` will be flipped to `True`. This limits the functions that could be executed during unpickling. Arbitrary objects will no longer be allowed to be loaded via this mode unless they are explicitly allowlisted by the user via `torch.serialization.add_safe_globals`. We recommend you start setting `weights_only=True` for any use case where you don't have full control of the loaded file. Please open an issue on GitHub for any issues related to this experimental feature.\n",
      "  loaded_checkpoint = torch.load(checkpoint_path, map_location=device)\n"
     ]
    }
   ],
   "source": [
    "model = ModelLoader.get_basic_model(\"vit_b_16\", \"/home/primmere/ide/dfr/logs/vit_waterbirds.pth\", device, num_classes=2)\n",
    "\n"
   ]
  },
  {
   "cell_type": "code",
   "execution_count": 6,
   "id": "6ef84cca0140e419",
   "metadata": {
    "ExecuteTime": {
     "end_time": "2025-07-02T08:41:21.019829100Z",
     "start_time": "2025-07-02T08:41:20.959062Z"
    }
   },
   "outputs": [
    {
     "name": "stdout",
     "output_type": "stream",
     "text": [
      "zennit\n"
     ]
    },
    {
     "name": "stderr",
     "output_type": "stream",
     "text": [
      "/home/primmere/.conda/envs/dfr2/lib/python3.10/site-packages/torch/autograd/graph.py:768: UserWarning: Attempting to run cuBLAS, but there was no current CUDA context! Attempting to set the primary context... (Triggered internally at ../aten/src/ATen/cuda/CublasHandlePool.cpp:135.)\n",
      "  return Variable._execution_engine.run_backward(  # Calls into the C++ engine to run the backward pass\n"
     ]
    },
    {
     "name": "stdout",
     "output_type": "stream",
     "text": [
      "done!\n"
     ]
    }
   ],
   "source": [
    "component_attributor = ComponentAttibution(\n",
    "        \"Relevance\",\n",
    "        \"ViT\",\n",
    "        layer_types[layer_type],\n",
    "        least_rel_first\n",
    "    )\n",
    "\n",
    "components_relevances = component_attributor.attribute(\n",
    "        model,\n",
    "        prune_dataloader,\n",
    "        composite,\n",
    "        abs_flag=abs_flag,\n",
    "        Zplus_flag=False,\n",
    "        device=device,\n",
    "    )\n",
    "\n",
    "layer_names = component_attributor.layer_names\n",
    "pruner = GlobalPruningOperations(\n",
    "        layer_types[layer_type],\n",
    "        layer_names,\n",
    "    )\n",
    "\n",
    "print(\"done!\")\n",
    "\n"
   ]
  },
  {
   "cell_type": "code",
   "execution_count": null,
   "id": "9da8ce45-77f9-4149-80ef-57b2081a7f96",
   "metadata": {},
   "outputs": [],
   "source": []
  },
  {
   "cell_type": "code",
   "execution_count": 12,
   "id": "9b7e8d11-2cca-4d6c-9189-b7b8e6790fe0",
   "metadata": {},
   "outputs": [
    {
     "data": {
      "application/vnd.jupyter.widget-view+json": {
       "model_id": "",
       "version_major": 2,
       "version_minor": 0
      },
      "text/plain": [
       "evaluating group acc:   0%|          | 0/182 [00:00<?, ?it/s]"
      ]
     },
     "metadata": {},
     "output_type": "display_data"
    },
    {
     "name": "stdout",
     "output_type": "stream",
     "text": [
      "0.1 & 0.881 & 0.994 & 0.789 & 0.735 & 0.955 \\\\\n"
     ]
    },
    {
     "data": {
      "application/vnd.jupyter.widget-view+json": {
       "model_id": "",
       "version_major": 2,
       "version_minor": 0
      },
      "text/plain": [
       "evaluating group acc:   0%|          | 0/182 [00:00<?, ?it/s]"
      ]
     },
     "metadata": {},
     "output_type": "display_data"
    },
    {
     "name": "stdout",
     "output_type": "stream",
     "text": [
      "0.2 & 0.843 & 0.989 & 0.677 & 0.787 & 0.969 \\\\\n"
     ]
    },
    {
     "data": {
      "application/vnd.jupyter.widget-view+json": {
       "model_id": "",
       "version_major": 2,
       "version_minor": 0
      },
      "text/plain": [
       "evaluating group acc:   0%|          | 0/182 [00:00<?, ?it/s]"
      ]
     },
     "metadata": {},
     "output_type": "display_data"
    },
    {
     "name": "stdout",
     "output_type": "stream",
     "text": [
      "0.3 & 0.799 & 0.988 & 0.580 & 0.740 & 0.967 \\\\\n"
     ]
    },
    {
     "data": {
      "application/vnd.jupyter.widget-view+json": {
       "model_id": "",
       "version_major": 2,
       "version_minor": 0
      },
      "text/plain": [
       "evaluating group acc:   0%|          | 0/182 [00:00<?, ?it/s]"
      ]
     },
     "metadata": {},
     "output_type": "display_data"
    },
    {
     "name": "stdout",
     "output_type": "stream",
     "text": [
      "0.4 & 0.696 & 0.970 & 0.332 & 0.727 & 0.983 \\\\\n"
     ]
    },
    {
     "data": {
      "application/vnd.jupyter.widget-view+json": {
       "model_id": "",
       "version_major": 2,
       "version_minor": 0
      },
      "text/plain": [
       "evaluating group acc:   0%|          | 0/182 [00:00<?, ?it/s]"
      ]
     },
     "metadata": {},
     "output_type": "display_data"
    },
    {
     "name": "stdout",
     "output_type": "stream",
     "text": [
      "0.5 & 0.614 & 0.953 & 0.178 & 0.587 & 0.984 \\\\\n"
     ]
    },
    {
     "data": {
      "application/vnd.jupyter.widget-view+json": {
       "model_id": "",
       "version_major": 2,
       "version_minor": 0
      },
      "text/plain": [
       "evaluating group acc:   0%|          | 0/182 [00:00<?, ?it/s]"
      ]
     },
     "metadata": {},
     "output_type": "display_data"
    },
    {
     "name": "stderr",
     "output_type": "stream",
     "text": [
      "Exception ignored in: Exception ignored in: Exception ignored in: Exception ignored in: Exception ignored in: <function _MultiProcessingDataLoaderIter.__del__ at 0x14dcc9ef31c0><function _MultiProcessingDataLoaderIter.__del__ at 0x14dcc9ef31c0><function _MultiProcessingDataLoaderIter.__del__ at 0x14dcc9ef31c0><function _MultiProcessingDataLoaderIter.__del__ at 0x14dcc9ef31c0><function _MultiProcessingDataLoaderIter.__del__ at 0x14dcc9ef31c0>\n",
      "\n",
      "\n",
      "Exception ignored in: Traceback (most recent call last):\n",
      "Traceback (most recent call last):\n",
      "\n",
      "Traceback (most recent call last):\n",
      "<function _MultiProcessingDataLoaderIter.__del__ at 0x14dcc9ef31c0>  File \"/home/primmere/.conda/envs/dfr2/lib/python3.10/site-packages/torch/utils/data/dataloader.py\", line 1477, in __del__\n",
      "  File \"/home/primmere/.conda/envs/dfr2/lib/python3.10/site-packages/torch/utils/data/dataloader.py\", line 1477, in __del__\n",
      "Traceback (most recent call last):\n",
      "\n",
      "  File \"/home/primmere/.conda/envs/dfr2/lib/python3.10/site-packages/torch/utils/data/dataloader.py\", line 1477, in __del__\n",
      "\n",
      "Traceback (most recent call last):\n",
      "      File \"/home/primmere/.conda/envs/dfr2/lib/python3.10/site-packages/torch/utils/data/dataloader.py\", line 1477, in __del__\n",
      "        self._shutdown_workers()  File \"/home/primmere/.conda/envs/dfr2/lib/python3.10/site-packages/torch/utils/data/dataloader.py\", line 1477, in __del__\n",
      "self._shutdown_workers()    self._shutdown_workers()\n",
      "\n",
      "self._shutdown_workers()    \n",
      "  File \"/home/primmere/.conda/envs/dfr2/lib/python3.10/site-packages/torch/utils/data/dataloader.py\", line 1460, in _shutdown_workers\n",
      "self._shutdown_workers()  File \"/home/primmere/.conda/envs/dfr2/lib/python3.10/site-packages/torch/utils/data/dataloader.py\", line 1460, in _shutdown_workers\n",
      "  File \"/home/primmere/.conda/envs/dfr2/lib/python3.10/site-packages/torch/utils/data/dataloader.py\", line 1460, in _shutdown_workers\n",
      "\n",
      "\n",
      "    Traceback (most recent call last):\n",
      "  File \"/home/primmere/.conda/envs/dfr2/lib/python3.10/site-packages/torch/utils/data/dataloader.py\", line 1460, in _shutdown_workers\n",
      "      File \"/home/primmere/.conda/envs/dfr2/lib/python3.10/site-packages/torch/utils/data/dataloader.py\", line 1460, in _shutdown_workers\n",
      "    if w.is_alive():  File \"/home/primmere/.conda/envs/dfr2/lib/python3.10/site-packages/torch/utils/data/dataloader.py\", line 1477, in __del__\n",
      "if w.is_alive():if w.is_alive():    \n",
      "    if w.is_alive():\n",
      "      File \"/home/primmere/.conda/envs/dfr2/lib/python3.10/multiprocessing/process.py\", line 160, in is_alive\n",
      "if w.is_alive():\n",
      "  File \"/home/primmere/.conda/envs/dfr2/lib/python3.10/multiprocessing/process.py\", line 160, in is_alive\n",
      "\n",
      "self._shutdown_workers()      File \"/home/primmere/.conda/envs/dfr2/lib/python3.10/multiprocessing/process.py\", line 160, in is_alive\n",
      "  File \"/home/primmere/.conda/envs/dfr2/lib/python3.10/multiprocessing/process.py\", line 160, in is_alive\n",
      "    \n",
      "assert self._parent_pid == os.getpid(), 'can only test a child process'assert self._parent_pid == os.getpid(), 'can only test a child process'\n",
      "  File \"/home/primmere/.conda/envs/dfr2/lib/python3.10/site-packages/torch/utils/data/dataloader.py\", line 1460, in _shutdown_workers\n",
      "\n",
      "        AssertionError\n",
      "    AssertionError: assert self._parent_pid == os.getpid(), 'can only test a child process'assert self._parent_pid == os.getpid(), 'can only test a child process'if w.is_alive():: \n",
      "can only test a child process\n",
      "\n",
      "can only test a child processAssertionError\n",
      "AssertionError\n",
      "  File \"/home/primmere/.conda/envs/dfr2/lib/python3.10/multiprocessing/process.py\", line 160, in is_alive\n",
      ": : can only test a child processcan only test a child process    \n",
      "assert self._parent_pid == os.getpid(), 'can only test a child process'\n",
      "  File \"/home/primmere/.conda/envs/dfr2/lib/python3.10/multiprocessing/process.py\", line 160, in is_alive\n",
      "\n",
      "AssertionError:     Exception ignored in: assert self._parent_pid == os.getpid(), 'can only test a child process'<function _MultiProcessingDataLoaderIter.__del__ at 0x14dcc9ef31c0>\n",
      "Traceback (most recent call last):\n",
      "  File \"/home/primmere/.conda/envs/dfr2/lib/python3.10/site-packages/torch/utils/data/dataloader.py\", line 1477, in __del__\n",
      "    self._shutdown_workers()\n",
      "  File \"/home/primmere/.conda/envs/dfr2/lib/python3.10/site-packages/torch/utils/data/dataloader.py\", line 1460, in _shutdown_workers\n",
      "Exception ignored in: can only test a child process<function _MultiProcessingDataLoaderIter.__del__ at 0x14dcc9ef31c0>    \n",
      "\n",
      "if w.is_alive():AssertionError: can only test a child process\n",
      "Exception ignored in: <function _MultiProcessingDataLoaderIter.__del__ at 0x14dcc9ef31c0>\n",
      "\n",
      "\n",
      "Exception ignored in:   File \"/home/primmere/.conda/envs/dfr2/lib/python3.10/multiprocessing/process.py\", line 160, in is_alive\n",
      "<function _MultiProcessingDataLoaderIter.__del__ at 0x14dcc9ef31c0>\n",
      "Traceback (most recent call last):\n",
      "Exception ignored in: Exception ignored in: <function _MultiProcessingDataLoaderIter.__del__ at 0x14dcc9ef31c0>Exception ignored in: Traceback (most recent call last):\n",
      "<function _MultiProcessingDataLoaderIter.__del__ at 0x14dcc9ef31c0>Traceback (most recent call last):\n",
      "\n",
      "  File \"/home/primmere/.conda/envs/dfr2/lib/python3.10/site-packages/torch/utils/data/dataloader.py\", line 1477, in __del__\n",
      "<function _MultiProcessingDataLoaderIter.__del__ at 0x14dcc9ef31c0>Traceback (most recent call last):\n",
      "  File \"/home/primmere/.conda/envs/dfr2/lib/python3.10/site-packages/torch/utils/data/dataloader.py\", line 1477, in __del__\n",
      "  File \"/home/primmere/.conda/envs/dfr2/lib/python3.10/site-packages/torch/utils/data/dataloader.py\", line 1477, in __del__\n",
      "\n",
      "    Traceback (most recent call last):\n",
      "      File \"/home/primmere/.conda/envs/dfr2/lib/python3.10/site-packages/torch/utils/data/dataloader.py\", line 1477, in __del__\n",
      "self._shutdown_workers()    self._shutdown_workers()\n",
      "  File \"/home/primmere/.conda/envs/dfr2/lib/python3.10/site-packages/torch/utils/data/dataloader.py\", line 1477, in __del__\n",
      "self._shutdown_workers()  File \"/home/primmere/.conda/envs/dfr2/lib/python3.10/site-packages/torch/utils/data/dataloader.py\", line 1460, in _shutdown_workers\n",
      "    \n",
      "\n",
      "    self._shutdown_workers()    Traceback (most recent call last):\n",
      "\n",
      "  File \"/home/primmere/.conda/envs/dfr2/lib/python3.10/site-packages/torch/utils/data/dataloader.py\", line 1460, in _shutdown_workers\n",
      "self._shutdown_workers()if w.is_alive():  File \"/home/primmere/.conda/envs/dfr2/lib/python3.10/site-packages/torch/utils/data/dataloader.py\", line 1477, in __del__\n",
      "\n",
      "  File \"/home/primmere/.conda/envs/dfr2/lib/python3.10/site-packages/torch/utils/data/dataloader.py\", line 1460, in _shutdown_workers\n",
      "    \n",
      "  File \"/home/primmere/.conda/envs/dfr2/lib/python3.10/site-packages/torch/utils/data/dataloader.py\", line 1460, in _shutdown_workers\n",
      "if w.is_alive():      File \"/home/primmere/.conda/envs/dfr2/lib/python3.10/multiprocessing/process.py\", line 160, in is_alive\n",
      "\n",
      "      File \"/home/primmere/.conda/envs/dfr2/lib/python3.10/multiprocessing/process.py\", line 160, in is_alive\n",
      "if w.is_alive():        self._shutdown_workers()\n",
      "    if w.is_alive():\n",
      "  File \"/home/primmere/.conda/envs/dfr2/lib/python3.10/multiprocessing/process.py\", line 160, in is_alive\n",
      "assert self._parent_pid == os.getpid(), 'can only test a child process'assert self._parent_pid == os.getpid(), 'can only test a child process'  File \"/home/primmere/.conda/envs/dfr2/lib/python3.10/site-packages/torch/utils/data/dataloader.py\", line 1460, in _shutdown_workers\n",
      "\n",
      "\n",
      "\n",
      "      File \"/home/primmere/.conda/envs/dfr2/lib/python3.10/multiprocessing/process.py\", line 160, in is_alive\n",
      "        AssertionErrorAssertionError    : assert self._parent_pid == os.getpid(), 'can only test a child process'assert self._parent_pid == os.getpid(), 'can only test a child process': assert self._parent_pid == os.getpid(), 'can only test a child process'\n",
      "can only test a child process\n",
      "can only test a child process\n",
      "  File \"/home/primmere/.conda/envs/dfr2/lib/python3.10/site-packages/torch/utils/data/dataloader.py\", line 1460, in _shutdown_workers\n",
      "\n",
      "AssertionError\n",
      "AssertionError    : \n",
      ": if w.is_alive():can only test a child processAssertionErrorcan only test a child process\n",
      "\n",
      "  File \"/home/primmere/.conda/envs/dfr2/lib/python3.10/multiprocessing/process.py\", line 160, in is_alive\n",
      ": can only test a child process    assert self._parent_pid == os.getpid(), 'can only test a child process'\n",
      "\n",
      "Exception ignored in: Exception ignored in: <function _MultiProcessingDataLoaderIter.__del__ at 0x14dcc9ef31c0><function _MultiProcessingDataLoaderIter.__del__ at 0x14dcc9ef31c0>Exception ignored in: \n",
      "<function _MultiProcessingDataLoaderIter.__del__ at 0x14dcc9ef31c0>\n",
      "\n",
      "Traceback (most recent call last):\n",
      "Traceback (most recent call last):\n",
      "Traceback (most recent call last):\n",
      "  File \"/home/primmere/.conda/envs/dfr2/lib/python3.10/site-packages/torch/utils/data/dataloader.py\", line 1477, in __del__\n",
      "  File \"/home/primmere/.conda/envs/dfr2/lib/python3.10/site-packages/torch/utils/data/dataloader.py\", line 1477, in __del__\n",
      "  File \"/home/primmere/.conda/envs/dfr2/lib/python3.10/site-packages/torch/utils/data/dataloader.py\", line 1477, in __del__\n",
      "        self._shutdown_workers()    self._shutdown_workers()\n",
      "\n",
      "  File \"/home/primmere/.conda/envs/dfr2/lib/python3.10/site-packages/torch/utils/data/dataloader.py\", line 1460, in _shutdown_workers\n",
      "self._shutdown_workers()  File \"/home/primmere/.conda/envs/dfr2/lib/python3.10/site-packages/torch/utils/data/dataloader.py\", line 1460, in _shutdown_workers\n",
      "    \n",
      "if w.is_alive():if w.is_alive():    \n",
      "  File \"/home/primmere/.conda/envs/dfr2/lib/python3.10/site-packages/torch/utils/data/dataloader.py\", line 1460, in _shutdown_workers\n",
      "\n",
      "if w.is_alive():  File \"/home/primmere/.conda/envs/dfr2/lib/python3.10/multiprocessing/process.py\", line 160, in is_alive\n",
      "  File \"/home/primmere/.conda/envs/dfr2/lib/python3.10/multiprocessing/process.py\", line 160, in is_alive\n",
      "\n",
      "          File \"/home/primmere/.conda/envs/dfr2/lib/python3.10/multiprocessing/process.py\", line 160, in is_alive\n",
      "    assert self._parent_pid == os.getpid(), 'can only test a child process'assert self._parent_pid == os.getpid(), 'can only test a child process'    \n",
      "if w.is_alive():AssertionErrorException ignored in: assert self._parent_pid == os.getpid(), 'can only test a child process'\n",
      "\n",
      ": \n",
      "<function _MultiProcessingDataLoaderIter.__del__ at 0x14dcc9ef31c0>AssertionError  File \"/home/primmere/.conda/envs/dfr2/lib/python3.10/multiprocessing/process.py\", line 160, in is_alive\n",
      "AssertionError\n",
      ":     : Traceback (most recent call last):\n",
      "can only test a child processcan only test a child processcan only test a child process\n",
      "assert self._parent_pid == os.getpid(), 'can only test a child process'  File \"/home/primmere/.conda/envs/dfr2/lib/python3.10/site-packages/torch/utils/data/dataloader.py\", line 1477, in __del__\n",
      "AssertionError\n",
      "\n",
      "\n",
      ":     AssertionErrorcan only test a child process\n",
      "self._shutdown_workers(): \n",
      "can only test a child processException ignored in:   File \"/home/primmere/.conda/envs/dfr2/lib/python3.10/site-packages/torch/utils/data/dataloader.py\", line 1460, in _shutdown_workers\n",
      "\n",
      "<function _MultiProcessingDataLoaderIter.__del__ at 0x14dcc9ef31c0>\n",
      "    \n",
      "if w.is_alive():Exception ignored in: Traceback (most recent call last):\n",
      "\n",
      "<function _MultiProcessingDataLoaderIter.__del__ at 0x14dcc9ef31c0>  File \"/home/primmere/.conda/envs/dfr2/lib/python3.10/site-packages/torch/utils/data/dataloader.py\", line 1477, in __del__\n",
      "\n",
      "  File \"/home/primmere/.conda/envs/dfr2/lib/python3.10/multiprocessing/process.py\", line 160, in is_alive\n",
      "Traceback (most recent call last):\n",
      "          File \"/home/primmere/.conda/envs/dfr2/lib/python3.10/site-packages/torch/utils/data/dataloader.py\", line 1477, in __del__\n",
      "self._shutdown_workers()assert self._parent_pid == os.getpid(), 'can only test a child process'Exception ignored in: \n",
      "    \n",
      "Exception ignored in:   File \"/home/primmere/.conda/envs/dfr2/lib/python3.10/site-packages/torch/utils/data/dataloader.py\", line 1460, in _shutdown_workers\n",
      "self._shutdown_workers()AssertionError<function _MultiProcessingDataLoaderIter.__del__ at 0x14dcc9ef31c0><function _MultiProcessingDataLoaderIter.__del__ at 0x14dcc9ef31c0>\n",
      ":     \n",
      "  File \"/home/primmere/.conda/envs/dfr2/lib/python3.10/site-packages/torch/utils/data/dataloader.py\", line 1460, in _shutdown_workers\n",
      "if w.is_alive():\n",
      "Traceback (most recent call last):\n",
      "    Traceback (most recent call last):\n",
      "  File \"/home/primmere/.conda/envs/dfr2/lib/python3.10/site-packages/torch/utils/data/dataloader.py\", line 1477, in __del__\n",
      "if w.is_alive():  File \"/home/primmere/.conda/envs/dfr2/lib/python3.10/site-packages/torch/utils/data/dataloader.py\", line 1477, in __del__\n",
      "\n",
      "      File \"/home/primmere/.conda/envs/dfr2/lib/python3.10/multiprocessing/process.py\", line 160, in is_alive\n",
      "    self._shutdown_workers()    self._shutdown_workers()assert self._parent_pid == os.getpid(), 'can only test a child process'\n",
      "\n",
      "  File \"/home/primmere/.conda/envs/dfr2/lib/python3.10/site-packages/torch/utils/data/dataloader.py\", line 1460, in _shutdown_workers\n",
      "\n",
      "  File \"/home/primmere/.conda/envs/dfr2/lib/python3.10/site-packages/torch/utils/data/dataloader.py\", line 1460, in _shutdown_workers\n",
      "AssertionError    :     if w.is_alive():can only test a child processcan only test a child processif w.is_alive():\n",
      "\n",
      "\n",
      "\n",
      "  File \"/home/primmere/.conda/envs/dfr2/lib/python3.10/multiprocessing/process.py\", line 160, in is_alive\n",
      "  File \"/home/primmere/.conda/envs/dfr2/lib/python3.10/multiprocessing/process.py\", line 160, in is_alive\n",
      "        assert self._parent_pid == os.getpid(), 'can only test a child process'assert self._parent_pid == os.getpid(), 'can only test a child process'\n",
      "\n",
      "AssertionErrorAssertionError: : can only test a child processcan only test a child process\n",
      "\n",
      "\n",
      "  File \"/home/primmere/.conda/envs/dfr2/lib/python3.10/multiprocessing/process.py\", line 160, in is_alive\n",
      "    assert self._parent_pid == os.getpid(), 'can only test a child process'\n",
      "AssertionError: can only test a child process\n",
      "Exception ignored in: <function _MultiProcessingDataLoaderIter.__del__ at 0x14dcc9ef31c0>\n",
      "Traceback (most recent call last):\n",
      "  File \"/home/primmere/.conda/envs/dfr2/lib/python3.10/site-packages/torch/utils/data/dataloader.py\", line 1477, in __del__\n",
      "    self._shutdown_workers()\n",
      "  File \"/home/primmere/.conda/envs/dfr2/lib/python3.10/site-packages/torch/utils/data/dataloader.py\", line 1460, in _shutdown_workers\n",
      "    if w.is_alive():\n",
      "  File \"/home/primmere/.conda/envs/dfr2/lib/python3.10/multiprocessing/process.py\", line 160, in is_alive\n",
      "    assert self._parent_pid == os.getpid(), 'can only test a child process'\n",
      "AssertionError: can only test a child process\n",
      "Exception ignored in: <function _MultiProcessingDataLoaderIter.__del__ at 0x14dcc9ef31c0>\n",
      "Exception ignored in: Traceback (most recent call last):\n",
      "<function _MultiProcessingDataLoaderIter.__del__ at 0x14dcc9ef31c0>  File \"/home/primmere/.conda/envs/dfr2/lib/python3.10/site-packages/torch/utils/data/dataloader.py\", line 1477, in __del__\n",
      "\n",
      "Traceback (most recent call last):\n",
      "      File \"/home/primmere/.conda/envs/dfr2/lib/python3.10/site-packages/torch/utils/data/dataloader.py\", line 1477, in __del__\n",
      "self._shutdown_workers()\n",
      "    Exception ignored in:   File \"/home/primmere/.conda/envs/dfr2/lib/python3.10/site-packages/torch/utils/data/dataloader.py\", line 1460, in _shutdown_workers\n",
      "self._shutdown_workers()<function _MultiProcessingDataLoaderIter.__del__ at 0x14dcc9ef31c0>\n",
      "\n",
      "      File \"/home/primmere/.conda/envs/dfr2/lib/python3.10/site-packages/torch/utils/data/dataloader.py\", line 1460, in _shutdown_workers\n",
      "Traceback (most recent call last):\n",
      "if w.is_alive():Exception ignored in:   File \"/home/primmere/.conda/envs/dfr2/lib/python3.10/site-packages/torch/utils/data/dataloader.py\", line 1477, in __del__\n",
      "    \n",
      "if w.is_alive():<function _MultiProcessingDataLoaderIter.__del__ at 0x14dcc9ef31c0>  File \"/home/primmere/.conda/envs/dfr2/lib/python3.10/multiprocessing/process.py\", line 160, in is_alive\n",
      "    \n",
      "\n",
      "self._shutdown_workers()      File \"/home/primmere/.conda/envs/dfr2/lib/python3.10/multiprocessing/process.py\", line 160, in is_alive\n",
      "Traceback (most recent call last):\n",
      "\n",
      "assert self._parent_pid == os.getpid(), 'can only test a child process'      File \"/home/primmere/.conda/envs/dfr2/lib/python3.10/site-packages/torch/utils/data/dataloader.py\", line 1477, in __del__\n",
      "\n",
      "assert self._parent_pid == os.getpid(), 'can only test a child process'  File \"/home/primmere/.conda/envs/dfr2/lib/python3.10/site-packages/torch/utils/data/dataloader.py\", line 1460, in _shutdown_workers\n",
      "AssertionError\n",
      "    : AssertionErrorcan only test a child processself._shutdown_workers()    : \n",
      "\n",
      "if w.is_alive():can only test a child process  File \"/home/primmere/.conda/envs/dfr2/lib/python3.10/site-packages/torch/utils/data/dataloader.py\", line 1460, in _shutdown_workers\n",
      "\n",
      "\n",
      "  File \"/home/primmere/.conda/envs/dfr2/lib/python3.10/multiprocessing/process.py\", line 160, in is_alive\n",
      "    if w.is_alive():    \n",
      "assert self._parent_pid == os.getpid(), 'can only test a child process'  File \"/home/primmere/.conda/envs/dfr2/lib/python3.10/multiprocessing/process.py\", line 160, in is_alive\n",
      "\n",
      "    AssertionErrorException ignored in: <function _MultiProcessingDataLoaderIter.__del__ at 0x14dcc9ef31c0>assert self._parent_pid == os.getpid(), 'can only test a child process'Exception ignored in: \n",
      "<function _MultiProcessingDataLoaderIter.__del__ at 0x14dcc9ef31c0>\n",
      "Traceback (most recent call last):\n",
      "\n",
      "  File \"/home/primmere/.conda/envs/dfr2/lib/python3.10/site-packages/torch/utils/data/dataloader.py\", line 1477, in __del__\n",
      "AssertionErrorTraceback (most recent call last):\n",
      "      File \"/home/primmere/.conda/envs/dfr2/lib/python3.10/site-packages/torch/utils/data/dataloader.py\", line 1477, in __del__\n",
      ": self._shutdown_workers()    can only test a child processException ignored in: \n",
      "self._shutdown_workers()\n",
      "<function _MultiProcessingDataLoaderIter.__del__ at 0x14dcc9ef31c0>  File \"/home/primmere/.conda/envs/dfr2/lib/python3.10/site-packages/torch/utils/data/dataloader.py\", line 1460, in _shutdown_workers\n",
      "\n",
      "\n",
      "  File \"/home/primmere/.conda/envs/dfr2/lib/python3.10/site-packages/torch/utils/data/dataloader.py\", line 1460, in _shutdown_workers\n",
      "Traceback (most recent call last):\n",
      ":       File \"/home/primmere/.conda/envs/dfr2/lib/python3.10/site-packages/torch/utils/data/dataloader.py\", line 1477, in __del__\n",
      "can only test a child processif w.is_alive():    \n",
      "\n",
      "    if w.is_alive():  File \"/home/primmere/.conda/envs/dfr2/lib/python3.10/multiprocessing/process.py\", line 160, in is_alive\n",
      "self._shutdown_workers()\n",
      "\n",
      "  File \"/home/primmere/.conda/envs/dfr2/lib/python3.10/multiprocessing/process.py\", line 160, in is_alive\n",
      "      File \"/home/primmere/.conda/envs/dfr2/lib/python3.10/site-packages/torch/utils/data/dataloader.py\", line 1460, in _shutdown_workers\n",
      "Exception ignored in: assert self._parent_pid == os.getpid(), 'can only test a child process'    \n",
      "    <function _MultiProcessingDataLoaderIter.__del__ at 0x14dcc9ef31c0>assert self._parent_pid == os.getpid(), 'can only test a child process'if w.is_alive():\n",
      "\n",
      "\n",
      "Traceback (most recent call last):\n",
      "AssertionErrorAssertionError  File \"/home/primmere/.conda/envs/dfr2/lib/python3.10/multiprocessing/process.py\", line 160, in is_alive\n",
      "  File \"/home/primmere/.conda/envs/dfr2/lib/python3.10/site-packages/torch/utils/data/dataloader.py\", line 1477, in __del__\n",
      ": : Exception ignored in:     can only test a child processcan only test a child processassert self._parent_pid == os.getpid(), 'can only test a child process'<function _MultiProcessingDataLoaderIter.__del__ at 0x14dcc9ef31c0>    \n",
      "\n",
      "\n",
      "self._shutdown_workers()\n",
      "AssertionError\n",
      "Traceback (most recent call last):\n",
      ":   File \"/home/primmere/.conda/envs/dfr2/lib/python3.10/site-packages/torch/utils/data/dataloader.py\", line 1460, in _shutdown_workers\n",
      "  File \"/home/primmere/.conda/envs/dfr2/lib/python3.10/site-packages/torch/utils/data/dataloader.py\", line 1477, in __del__\n",
      "can only test a child process\n",
      "        if w.is_alive():self._shutdown_workers()Exception ignored in: \n",
      "\n",
      "<function _MultiProcessingDataLoaderIter.__del__ at 0x14dcc9ef31c0>  File \"/home/primmere/.conda/envs/dfr2/lib/python3.10/site-packages/torch/utils/data/dataloader.py\", line 1460, in _shutdown_workers\n",
      "\n",
      "  File \"/home/primmere/.conda/envs/dfr2/lib/python3.10/multiprocessing/process.py\", line 160, in is_alive\n",
      "Traceback (most recent call last):\n",
      "        Exception ignored in:   File \"/home/primmere/.conda/envs/dfr2/lib/python3.10/site-packages/torch/utils/data/dataloader.py\", line 1477, in __del__\n",
      "<function _MultiProcessingDataLoaderIter.__del__ at 0x14dcc9ef31c0>if w.is_alive():assert self._parent_pid == os.getpid(), 'can only test a child process'    \n",
      "\n",
      "\n",
      "  File \"/home/primmere/.conda/envs/dfr2/lib/python3.10/multiprocessing/process.py\", line 160, in is_alive\n",
      "self._shutdown_workers()AssertionError    \n",
      ":   File \"/home/primmere/.conda/envs/dfr2/lib/python3.10/site-packages/torch/utils/data/dataloader.py\", line 1460, in _shutdown_workers\n",
      "assert self._parent_pid == os.getpid(), 'can only test a child process'Traceback (most recent call last):\n",
      "can only test a child process\n",
      "  File \"/home/primmere/.conda/envs/dfr2/lib/python3.10/site-packages/torch/utils/data/dataloader.py\", line 1477, in __del__\n",
      "\n",
      "    AssertionErrorif w.is_alive():    : \n",
      "self._shutdown_workers()can only test a child process  File \"/home/primmere/.conda/envs/dfr2/lib/python3.10/multiprocessing/process.py\", line 160, in is_alive\n",
      "\n",
      "\n",
      "  File \"/home/primmere/.conda/envs/dfr2/lib/python3.10/site-packages/torch/utils/data/dataloader.py\", line 1460, in _shutdown_workers\n",
      "    assert self._parent_pid == os.getpid(), 'can only test a child process'    \n",
      "if w.is_alive():AssertionError\n",
      ":   File \"/home/primmere/.conda/envs/dfr2/lib/python3.10/multiprocessing/process.py\", line 160, in is_alive\n",
      "Exception ignored in: can only test a child process    \n",
      "<function _MultiProcessingDataLoaderIter.__del__ at 0x14dcc9ef31c0>assert self._parent_pid == os.getpid(), 'can only test a child process'Exception ignored in: \n",
      "\n",
      "<function _MultiProcessingDataLoaderIter.__del__ at 0x14dcc9ef31c0>AssertionErrorTraceback (most recent call last):\n",
      "\n",
      ": Traceback (most recent call last):\n",
      "  File \"/home/primmere/.conda/envs/dfr2/lib/python3.10/site-packages/torch/utils/data/dataloader.py\", line 1477, in __del__\n",
      "can only test a child process  File \"/home/primmere/.conda/envs/dfr2/lib/python3.10/site-packages/torch/utils/data/dataloader.py\", line 1477, in __del__\n",
      "\n",
      "        self._shutdown_workers()self._shutdown_workers()\n",
      "\n",
      "  File \"/home/primmere/.conda/envs/dfr2/lib/python3.10/site-packages/torch/utils/data/dataloader.py\", line 1460, in _shutdown_workers\n",
      "  File \"/home/primmere/.conda/envs/dfr2/lib/python3.10/site-packages/torch/utils/data/dataloader.py\", line 1460, in _shutdown_workers\n",
      "Exception ignored in: <function _MultiProcessingDataLoaderIter.__del__ at 0x14dcc9ef31c0>        \n",
      "if w.is_alive():if w.is_alive():Traceback (most recent call last):\n",
      "\n",
      "\n",
      "  File \"/home/primmere/.conda/envs/dfr2/lib/python3.10/site-packages/torch/utils/data/dataloader.py\", line 1477, in __del__\n",
      "  File \"/home/primmere/.conda/envs/dfr2/lib/python3.10/multiprocessing/process.py\", line 160, in is_alive\n",
      "  File \"/home/primmere/.conda/envs/dfr2/lib/python3.10/multiprocessing/process.py\", line 160, in is_alive\n",
      "            self._shutdown_workers()\n",
      "assert self._parent_pid == os.getpid(), 'can only test a child process'assert self._parent_pid == os.getpid(), 'can only test a child process'  File \"/home/primmere/.conda/envs/dfr2/lib/python3.10/site-packages/torch/utils/data/dataloader.py\", line 1460, in _shutdown_workers\n",
      "\n",
      "    AssertionError\n",
      "if w.is_alive():: AssertionError\n",
      ":   File \"/home/primmere/.conda/envs/dfr2/lib/python3.10/multiprocessing/process.py\", line 160, in is_alive\n",
      "can only test a child process    \n",
      "assert self._parent_pid == os.getpid(), 'can only test a child process'\n",
      "can only test a child processAssertionError\n",
      ": can only test a child process\n"
     ]
    },
    {
     "name": "stdout",
     "output_type": "stream",
     "text": [
      "0.6 & 0.569 & 0.910 & 0.137 & 0.486 & 0.974 \\\\\n"
     ]
    },
    {
     "data": {
      "application/vnd.jupyter.widget-view+json": {
       "model_id": "",
       "version_major": 2,
       "version_minor": 0
      },
      "text/plain": [
       "evaluating group acc:   0%|          | 0/182 [00:00<?, ?it/s]"
      ]
     },
     "metadata": {},
     "output_type": "display_data"
    },
    {
     "name": "stdout",
     "output_type": "stream",
     "text": [
      "0.7 & 0.532 & 0.832 & 0.129 & 0.466 & 0.953 \\\\\n"
     ]
    },
    {
     "data": {
      "application/vnd.jupyter.widget-view+json": {
       "model_id": "",
       "version_major": 2,
       "version_minor": 0
      },
      "text/plain": [
       "evaluating group acc:   0%|          | 0/182 [00:00<?, ?it/s]"
      ]
     },
     "metadata": {},
     "output_type": "display_data"
    },
    {
     "name": "stdout",
     "output_type": "stream",
     "text": [
      "0.8 & 0.395 & 0.484 & 0.055 & 0.706 & 0.964 \\\\\n"
     ]
    }
   ],
   "source": [
    "accs = np.zeros((len(prune_r),6))\n",
    "\n",
    "i = 0\n",
    "\n",
    "for r in prune_r:\n",
    "    global_pruning_mask = pruner.generate_global_pruning_mask(\n",
    "                    model,\n",
    "                    components_relevances,\n",
    "                    r,\n",
    "                    subsequent_layer_pruning=layer_type,\n",
    "                    least_relevant_first=True,\n",
    "                    device=device,\n",
    "                )\n",
    "    hook_handles = pruner.fit_pruning_mask(model, global_pruning_mask,)\n",
    "    \n",
    "    acc, acc_groups = compute_worst_accuracy(\n",
    "            model,\n",
    "            val_dataloader,\n",
    "            device,\n",
    "        )\n",
    "    accs[i]=np.array([r,acc,acc_groups[0],acc_groups[1],acc_groups[2],acc_groups[3]])\n",
    "    i+=1\n",
    "\n",
    "    \n",
    "\n"
   ]
  },
  {
   "cell_type": "code",
   "execution_count": 13,
   "id": "00799c22-e78e-4a8d-a782-466126171547",
   "metadata": {},
   "outputs": [
    {
     "name": "stdout",
     "output_type": "stream",
     "text": [
      "0.1 & 0.881 & 0.994 & 0.789 & 0.735 & 0.955 \\\\\n",
      "0.2 & 0.843 & 0.989 & 0.677 & 0.787 & 0.969 \\\\\n",
      "0.3 & 0.799 & 0.988 & 0.580 & 0.740 & 0.967 \\\\\n",
      "0.4 & 0.696 & 0.970 & 0.332 & 0.727 & 0.983 \\\\\n",
      "0.5 & 0.614 & 0.953 & 0.178 & 0.587 & 0.984 \\\\\n",
      "0.6 & 0.569 & 0.910 & 0.137 & 0.486 & 0.974 \\\\\n",
      "0.7 & 0.532 & 0.832 & 0.129 & 0.466 & 0.953 \\\\\n",
      "0.8 & 0.395 & 0.484 & 0.055 & 0.706 & 0.964 \\\\\n"
     ]
    }
   ],
   "source": [
    "for i in range(len(accs)):\n",
    "    print(f'{accs[i][0]} & {accs[i][1]:.3f} & {accs[i][2]:.3f} & {accs[i][3]:.3f} & {accs[i][4]:.3f} & {accs[i][5]:.3f} \\\\\\\\')"
   ]
  },
  {
   "cell_type": "code",
   "execution_count": 14,
   "id": "17ab5090-9a65-449f-bee3-006f75e51c9c",
   "metadata": {},
   "outputs": [
    {
     "data": {
      "text/plain": [
       "'\\n0.9 & 0.816 & 0.894 & 1.000 & 0.472 & 0.227 \\\\\\n0.92 & 0.820 & 0.892 & 0.999 & 0.488 & 0.255 \\\\\\n0.94 & 0.829 & 0.880 & 0.999 & 0.517 & 0.368 \\\\\\n0.95 & 0.837 & 0.879 & 0.998 & 0.536 & 0.430 \\\\\\n0.96 & 0.838 & 0.864 & 0.985 & 0.558 & 0.524 \\\\\\n0.98 & 0.710 & 0.772 & 0.630 & 0.664 & 0.796 \\\\\\n'"
      ]
     },
     "execution_count": 14,
     "metadata": {},
     "output_type": "execute_result"
    }
   ],
   "source": []
  },
  {
   "cell_type": "code",
   "execution_count": 16,
   "id": "d74936f2-795e-4ee3-94a1-feed248ce93a",
   "metadata": {},
   "outputs": [
    {
     "data": {
      "image/png": "[encoded data removed]",
      "text/plain": [
       "<Figure size 1120x720 with 1 Axes>"
      ]
     },
     "metadata": {},
     "output_type": "display_data"
    },
    {
     "data": {
      "text/plain": [
       "(<Figure size 1120x720 with 1 Axes>,\n",
       " <Axes: title={'center': 'Accuracy vs r'}, xlabel='r', ylabel='Accuracy'>)"
      ]
     },
     "execution_count": 16,
     "metadata": {},
     "output_type": "execute_result"
    }
   ],
   "source": [
    "plot_r_accuracy_lines(accs, save_path = 'pxp viz/acc_linear.png', title = \"Linear Layers of Waterbirds Model\")"
   ]
  },
  {
   "cell_type": "code",
   "execution_count": 17,
   "id": "e782f2e2-8413-4517-b067-4a39819820a8",
   "metadata": {
    "scrolled": true
   },
   "outputs": [],
   "source": [
    "#global_pruning_mask"
   ]
  },
  {
   "cell_type": "code",
   "execution_count": 18,
   "id": "6cee3a74-6842-496a-ad4f-dd0887936387",
   "metadata": {
    "scrolled": true
   },
   "outputs": [],
   "source": [
    "#global_pruning_mask2"
   ]
  },
  {
   "cell_type": "markdown",
   "id": "d2be5cdf-7447-46bc-a9b1-0eab4f7f2d18",
   "metadata": {},
   "source": [
    "for v in components_relevances.values():\n",
    "    print(v[0:7])"
   ]
  },
  {
   "cell_type": "code",
   "execution_count": 20,
   "id": "cbbf5e12-db0b-4891-add0-7354c7778bab",
   "metadata": {},
   "outputs": [],
   "source": [
    "#print(f'{prune_r},{acc:.3f},{acc_groups[0]:.3f},{acc_groups[1]:.3f},{acc_groups[2]:.3f},{acc_groups[3]:.3f}')#"
   ]
  },
  {
   "cell_type": "code",
   "execution_count": null,
   "id": "e65d5e47-a302-4e68-b1c0-8ad2d03dde00",
   "metadata": {},
   "outputs": [],
   "source": []
  },
  {
   "cell_type": "code",
   "execution_count": null,
   "id": "11a40a04-c611-4c8a-bd89-0098caefae08",
   "metadata": {},
   "outputs": [],
   "source": []
  },
  {
   "cell_type": "code",
   "execution_count": 21,
   "id": "be818c92-7cba-4a7c-938e-6bdca6bd043c",
   "metadata": {},
   "outputs": [
    {
     "data": {
      "text/plain": [
       "'Linear'"
      ]
     },
     "execution_count": 21,
     "metadata": {},
     "output_type": "execute_result"
    }
   ],
   "source": [
    "layer_type"
   ]
  },
  {
   "cell_type": "code",
   "execution_count": 22,
   "id": "e53d7736-bfd2-4aba-bc8a-8196df3c5bab",
   "metadata": {},
   "outputs": [],
   "source": [
    "#visualise(global_pruning_mask_combined, r, layer_type)\n"
   ]
  },
  {
   "cell_type": "code",
   "execution_count": null,
   "id": "ee831010-9350-40a2-b63e-e26d8f9d8293",
   "metadata": {},
   "outputs": [],
   "source": []
  },
  {
   "cell_type": "code",
   "execution_count": 23,
   "id": "350fd251-1dcc-405b-83ac-8c00b32dacd4",
   "metadata": {
    "scrolled": true
   },
   "outputs": [],
   "source": [
    "#components_relevances"
   ]
  },
  {
   "cell_type": "code",
   "execution_count": 24,
   "id": "b0dc1a26-a6d8-4371-a4fa-57669b5c9aeb",
   "metadata": {
    "scrolled": true
   },
   "outputs": [],
   "source": [
    "#global_pruning_mask"
   ]
  },
  {
   "cell_type": "code",
   "execution_count": 25,
   "id": "3bab6c1f-ff6e-4a53-8b2f-b5b5f828d186",
   "metadata": {},
   "outputs": [],
   "source": [
    "#plot_layer_head_pruned(global_pruning_mask)"
   ]
  },
  {
   "cell_type": "code",
   "execution_count": 26,
   "id": "9c04284d-9075-4ee5-a09f-b1bc3a9747a8",
   "metadata": {},
   "outputs": [],
   "source": [
    "#plot_layer_head_heatmap(components_relevances, normalise=30)"
   ]
  },
  {
   "cell_type": "code",
   "execution_count": null,
   "id": "f4f762fa-1ce8-4604-b04d-e62eafbde78c",
   "metadata": {},
   "outputs": [],
   "source": []
  },
  {
   "cell_type": "code",
   "execution_count": 27,
   "id": "6d8de62a-ea5f-4d56-85c4-0cd4ad29004c",
   "metadata": {},
   "outputs": [],
   "source": [
    "def parse_head_mask(head_mask):\n",
    "    \"\"\"\n",
    "    head_mask: OrderedDict, output of pxp\n",
    "    returns   : dict {int(layer_index) -> list[int(head_idx)]}\n",
    "    \"\"\"\n",
    "    pat = re.compile(r'encoder_layer_(\\d+)')\n",
    "    pruned = {}\n",
    "    for name, heads in head_mask.items():\n",
    "        m = pat.search(name)\n",
    "        if m is None or len(heads) == 0:\n",
    "            continue\n",
    "        layer_idx = int(m.group(1))\n",
    "        pruned[layer_idx] = heads.tolist()\n",
    "    return pruned\n",
    "\n",
    "@torch.no_grad()\n",
    "def zero_vit_heads(model, prunable_head_dict):\n",
    "    \"\"\"\n",
    "    Apply pxp pruning\n",
    "    Zero Q/K/V and out-proj slices of given heads\n",
    "\n",
    "    prunable_head_dict: dict {layer_idx -> list[int(head_id)]}\n",
    "    \"\"\"\n",
    "    for idx, block in enumerate(model.encoder.layers):\n",
    "        if idx not in prunable_head_dict:\n",
    "            continue\n",
    "\n",
    "        attn = getattr(block, \"self_attention\", None)\n",
    "\n",
    "        if attn is None:\n",
    "            raise RuntimeError(f\"Could not find attention module in layer {idx}\")\n",
    "\n",
    "        hdim = attn.head_dim  # 64\n",
    "        nheads = attn.num_heads  # 12\n",
    "        edim = attn.embed_dim  # 768\n",
    "\n",
    "        in_w = attn.in_proj_weight  # (3*edim, edim)\n",
    "        in_b = getattr(attn, \"in_proj_bias\", None)\n",
    "        out_w = attn.out_proj.weight  # (edim, edim)\n",
    "        out_b = attn.out_proj.bias\n",
    "\n",
    "        for h in prunable_head_dict[idx]:\n",
    "            rows = slice(h * hdim, (h + 1) * hdim)\n",
    "\n",
    "            # Q, K, V are stacked: [0:edim]   [edim:2*edim]   [2*edim:3*edim]\n",
    "            for blk in range(3):\n",
    "                r = slice(rows.start + blk * edim, rows.stop + blk * edim)\n",
    "                in_w[r].zero_()\n",
    "                if in_b is not None:\n",
    "                    in_b[r].zero_()\n",
    "\n",
    "            out_w[:, rows].zero_()\n",
    "\n",
    "        if out_b is not None and len(prunable_head_dict[idx]) == nheads:\n",
    "            out_b.zero_()  # whole attention output is zero\n",
    "\n",
    "        print(f\"layer {idx:2d}: pruned heads {prunable_head_dict[idx]}\")\n",
    "\n",
    "    print(\"all requested heads have been zero-ed\")"
   ]
  },
  {
   "cell_type": "code",
   "execution_count": 28,
   "id": "d99bc976-f526-4df5-9b49-4f25ddc28558",
   "metadata": {},
   "outputs": [],
   "source": [
    "if layer_type == 'Softmax':\n",
    "    checkpoint = torch.load(\"/home/primmere/ide/dfr/logs/vit_waterbirds.pth\", map_location=torch.device('cuda'), weights_only=True)\n",
    "    model2 = vit_b_16(num_classes = 2)\n",
    "    model2.load_state_dict(checkpoint)\n",
    "    mask_dict = parse_head_mask(global_pruning_mask)\n",
    "    zero_vit_heads(model2, mask_dict)"
   ]
  },
  {
   "cell_type": "code",
   "execution_count": 29,
   "id": "440919b4-6f42-42b8-bc7c-f87ef81ff994",
   "metadata": {},
   "outputs": [],
   "source": [
    "if save:\n",
    "    torch.save(model2.state_dict(), new_checkpoint_path)\n",
    "    print('saved')"
   ]
  },
  {
   "cell_type": "code",
   "execution_count": null,
   "id": "92244c5f-815f-49df-ad40-7c29fb2f1e40",
   "metadata": {},
   "outputs": [],
   "source": [
    "plot_layer_head_heatmap(components_relevances, save_path = 'pxp viz/pxp attn heatmap.png')"
   ]
  },
  {
   "cell_type": "code",
   "execution_count": null,
   "id": "d5eb0ddb-cf34-4421-b446-41381f948ae0",
   "metadata": {},
   "outputs": [],
   "source": [
    "plot_layer_head_pruned(global_pruning_mask)"
   ]
  }
 ],
 "metadata": {
  "kernelspec": {
   "display_name": "dfr2",
   "language": "python",
   "name": "dfr2"
  },
  "language_info": {
   "codemirror_mode": {
    "name": "ipython",
    "version": 3
   },
   "file_extension": ".py",
   "mimetype": "text/x-python",
   "name": "python",
   "nbconvert_exporter": "python",
   "pygments_lexer": "ipython3",
   "version": "3.10.12"
  }
 },
 "nbformat": 4,
 "nbformat_minor": 5
}
